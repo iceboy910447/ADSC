{
 "metadata": {
  "kernelspec": {
   "name": "python",
   "display_name": "Python (Pyodide)",
   "language": "python"
  },
  "language_info": {
   "codemirror_mode": {
    "name": "python",
    "version": 3
   },
   "file_extension": ".py",
   "mimetype": "text/x-python",
   "name": "python",
   "nbconvert_exporter": "python",
   "pygments_lexer": "ipython3",
   "version": "3.8"
  }
 },
 "nbformat_minor": 4,
 "nbformat": 4,
 "cells": [
  {
   "cell_type": "markdown",
   "source": [
    "<p style=\"text-align:center\">\n",
    "    <a href=\"https://skills.network/?utm_medium=Exinfluencer&utm_source=Exinfluencer&utm_content=000026UJ&utm_term=10006555&utm_id=NA-SkillsNetwork-Channel-SkillsNetworkCoursesIBMDS0321ENSkillsNetwork26802033-2022-01-01\" target=\"_blank\">\n",
    "    <img src=\"https://cf-courses-data.s3.us.cloud-object-storage.appdomain.cloud/assets/logos/SN_web_lightmode.png\" width=\"200\" alt=\"Skills Network Logo\"  />\n",
    "    </a>\n",
    "</p>\n"
   ],
   "metadata": {
    "pycharm": {
     "name": "#%% md\n"
    }
   }
  },
  {
   "cell_type": "markdown",
   "source": [
    "# **Launch Sites Locations Analysis with Folium**\n"
   ],
   "metadata": {
    "pycharm": {
     "name": "#%% md\n"
    }
   }
  },
  {
   "cell_type": "markdown",
   "source": [
    "Estimated time needed: **40** minutes\n"
   ],
   "metadata": {
    "pycharm": {
     "name": "#%% md\n"
    }
   }
  },
  {
   "cell_type": "markdown",
   "source": [
    "The launch success rate may depend on many factors such as payload mass, orbit type, and so on. It may also depend on the location and proximities of a launch site, i.e., the initial position of rocket trajectories. Finding an optimal location for building a launch site certainly involves many factors and hopefully we could discover some of the factors by analyzing the existing launch site locations.\n"
   ],
   "metadata": {
    "pycharm": {
     "name": "#%% md\n"
    }
   }
  },
  {
   "cell_type": "markdown",
   "source": [
    "In the previous exploratory data analysis labs, you have visualized the SpaceX launch dataset using `matplotlib` and `seaborn` and discovered some preliminary correlations between the launch site and success rates. In this lab, you will be performing more interactive visual analytics using `Folium`.\n"
   ],
   "metadata": {
    "pycharm": {
     "name": "#%% md\n"
    }
   }
  },
  {
   "cell_type": "markdown",
   "source": [
    "## Objectives\n"
   ],
   "metadata": {
    "pycharm": {
     "name": "#%% md\n"
    }
   }
  },
  {
   "cell_type": "markdown",
   "source": [
    "This lab contains the following tasks:\n",
    "\n",
    "*   **TASK 1:** Mark all launch sites on a map\n",
    "*   **TASK 2:** Mark the success/failed launches for each site on the map\n",
    "*   **TASK 3:** Calculate the distances between a launch site to its proximities\n",
    "\n",
    "After completed the above tasks, you should be able to find some geographical patterns about launch sites.\n"
   ],
   "metadata": {
    "pycharm": {
     "name": "#%% md\n"
    }
   }
  },
  {
   "cell_type": "markdown",
   "source": [
    "Let's first import required Python packages for this lab:\n"
   ],
   "metadata": {
    "pycharm": {
     "name": "#%% md\n"
    }
   }
  },
  {
   "cell_type": "code",
   "source": [
    "import piplite\n",
    "await piplite.install(['folium'])\n",
    "await piplite.install(['pandas'])"
   ],
   "metadata": {
    "trusted": true,
    "pycharm": {
     "name": "#%%\n"
    }
   },
   "outputs": [],
   "execution_count": 1
  },
  {
   "cell_type": "code",
   "source": [
    "import folium\n",
    "import pandas as pd"
   ],
   "metadata": {
    "trusted": true,
    "pycharm": {
     "name": "#%%\n"
    }
   },
   "outputs": [],
   "execution_count": 2
  },
  {
   "cell_type": "code",
   "source": [
    "# Import folium MarkerCluster plugin\n",
    "from folium.plugins import MarkerCluster\n",
    "# Import folium MousePosition plugin\n",
    "from folium.plugins import MousePosition\n",
    "# Import folium DivIcon plugin\n",
    "from folium.features import DivIcon"
   ],
   "metadata": {
    "trusted": true,
    "pycharm": {
     "name": "#%%\n"
    }
   },
   "outputs": [],
   "execution_count": 3
  },
  {
   "cell_type": "markdown",
   "source": [
    "If you need to refresh your memory about folium, you may download and refer to this previous folium lab:\n"
   ],
   "metadata": {
    "pycharm": {
     "name": "#%% md\n"
    }
   }
  },
  {
   "cell_type": "markdown",
   "source": [
    "[Generating Maps with Python](https://cf-courses-data.s3.us.cloud-object-storage.appdomain.cloud/IBM-DS0321EN-SkillsNetwork/labs/module\\_3/DV0101EN-3-5-1-Generating-Maps-in-Python-py-v2.0.ipynb)\n"
   ],
   "metadata": {
    "pycharm": {
     "name": "#%% md\n"
    }
   }
  },
  {
   "cell_type": "code",
   "source": [
    "## Task 1: Mark all launch sites on a map\n",
    "world_map = folium.Map(location=[56.130, -106.35], zoom_start=8)"
   ],
   "metadata": {
    "trusted": true,
    "pycharm": {
     "name": "#%%\n"
    }
   },
   "outputs": [],
   "execution_count": 4
  },
  {
   "cell_type": "markdown",
   "source": [
    "First, let's try to add each site's location on a map using site's latitude and longitude coordinates\n"
   ],
   "metadata": {
    "pycharm": {
     "name": "#%% md\n"
    }
   }
  },
  {
   "cell_type": "markdown",
   "source": [
    "The following dataset with the name `spacex_launch_geo.csv` is an augmented dataset with latitude and longitude added for each site.\n"
   ],
   "metadata": {
    "pycharm": {
     "name": "#%% md\n"
    }
   }
  },
  {
   "cell_type": "code",
   "source": [
    "# Download and read the `spacex_launch_geo.csv`\n",
    "from js import fetch\n",
    "import io\n",
    "\n",
    "URL = 'https://cf-courses-data.s3.us.cloud-object-storage.appdomain.cloud/IBM-DS0321EN-SkillsNetwork/datasets/spacex_launch_geo.csv'\n",
    "resp = await fetch(URL)\n",
    "spacex_csv_file = io.BytesIO((await resp.arrayBuffer()).to_py())\n",
    "spacex_df=pd.read_csv(spacex_csv_file)"
   ],
   "metadata": {
    "trusted": true,
    "pycharm": {
     "name": "#%%\n"
    }
   },
   "outputs": [],
   "execution_count": 5
  },
  {
   "cell_type": "markdown",
   "source": [
    "Now, you can take a look at what are the coordinates for each site.\n"
   ],
   "metadata": {
    "pycharm": {
     "name": "#%% md\n"
    }
   }
  },
  {
   "cell_type": "code",
   "source": [
    "# Select relevant sub-columns: `Launch Site`, `Lat(Latitude)`, `Long(Longitude)`, `class`\n",
    "spacex_df = spacex_df[['Launch Site', 'Lat', 'Long', 'class']]\n",
    "launch_sites_df = spacex_df.groupby(['Launch Site'], as_index=False).first()\n",
    "launch_sites_df = launch_sites_df[['Launch Site', 'Lat', 'Long']]\n",
    "launch_sites_df"
   ],
   "metadata": {
    "trusted": true,
    "pycharm": {
     "name": "#%%\n"
    }
   },
   "outputs": [
    {
     "execution_count": 6,
     "output_type": "execute_result",
     "data": {
      "text/plain": "    Launch Site        Lat        Long\n0   CCAFS LC-40  28.562302  -80.577356\n1  CCAFS SLC-40  28.563197  -80.576820\n2    KSC LC-39A  28.573255  -80.646895\n3   VAFB SLC-4E  34.632834 -120.610745",
      "text/html": "<div>\n<style scoped>\n    .dataframe tbody tr th:only-of-type {\n        vertical-align: middle;\n    }\n\n    .dataframe tbody tr th {\n        vertical-align: top;\n    }\n\n    .dataframe thead th {\n        text-align: right;\n    }\n</style>\n<table border=\"1\" class=\"dataframe\">\n  <thead>\n    <tr style=\"text-align: right;\">\n      <th></th>\n      <th>Launch Site</th>\n      <th>Lat</th>\n      <th>Long</th>\n    </tr>\n  </thead>\n  <tbody>\n    <tr>\n      <th>0</th>\n      <td>CCAFS LC-40</td>\n      <td>28.562302</td>\n      <td>-80.577356</td>\n    </tr>\n    <tr>\n      <th>1</th>\n      <td>CCAFS SLC-40</td>\n      <td>28.563197</td>\n      <td>-80.576820</td>\n    </tr>\n    <tr>\n      <th>2</th>\n      <td>KSC LC-39A</td>\n      <td>28.573255</td>\n      <td>-80.646895</td>\n    </tr>\n    <tr>\n      <th>3</th>\n      <td>VAFB SLC-4E</td>\n      <td>34.632834</td>\n      <td>-120.610745</td>\n    </tr>\n  </tbody>\n</table>\n</div>"
     },
     "metadata": {}
    }
   ],
   "execution_count": 6
  },
  {
   "cell_type": "markdown",
   "source": [
    "Above coordinates are just plain numbers that can not give you any intuitive insights about where are those launch sites. If you are very good at geography, you can interpret those numbers directly in your mind. If not, that's fine too. Let's visualize those locations by pinning them on a map.\n"
   ],
   "metadata": {
    "pycharm": {
     "name": "#%% md\n"
    }
   }
  },
  {
   "cell_type": "markdown",
   "source": [
    "We first need to create a folium `Map` object, with an initial center location to be NASA Johnson Space Center at Houston, Texas.\n"
   ],
   "metadata": {
    "pycharm": {
     "name": "#%% md\n"
    }
   }
  },
  {
   "cell_type": "code",
   "source": [
    "# Start location is NASA Johnson Space Center\n",
    "nasa_coordinate = [29.559684888503615, -95.0830971930759]\n",
    "site_map = folium.Map(location=nasa_coordinate, zoom_start=10)"
   ],
   "metadata": {
    "trusted": true,
    "pycharm": {
     "name": "#%%\n"
    }
   },
   "outputs": [],
   "execution_count": 7
  },
  {
   "cell_type": "markdown",
   "source": [
    "We could use `folium.Circle` to add a highlighted circle area with a text label on a specific coordinate. For example,\n"
   ],
   "metadata": {
    "pycharm": {
     "name": "#%% md\n"
    }
   }
  },
  {
   "cell_type": "code",
   "source": [
    "# Create a blue circle at NASA Johnson Space Center's coordinate with a popup label showing its name\n",
    "circle = folium.Circle(nasa_coordinate, radius=1000, color='#d35400', fill=True).add_child(folium.Popup('NASA Johnson Space Center'))\n",
    "# Create a blue circle at NASA Johnson Space Center's coordinate with a icon showing its name\n",
    "marker = folium.map.Marker(\n",
    "    nasa_coordinate,\n",
    "    # Create an icon as a text label\n",
    "    icon=DivIcon(\n",
    "        icon_size=(20,20),\n",
    "        icon_anchor=(0,0),\n",
    "        html='<div style=\"font-size: 12; color:#d35400;\"><b>%s</b></div>' % 'NASA JSC',\n",
    "        )\n",
    "    )\n",
    "site_map.add_child(circle)\n",
    "site_map.add_child(marker)"
   ],
   "metadata": {
    "trusted": true,
    "pycharm": {
     "name": "#%%\n"
    }
   },
   "outputs": [
    {
     "execution_count": 8,
     "output_type": "execute_result",
     "data": {
      "text/plain": "<folium.folium.Map at 0x56ed1b8>",
      "text/html": "<div style=\"width:100%;\"><div style=\"position:relative;width:100%;height:0;padding-bottom:60%;\"><span style=\"color:#565656\">Make this Notebook Trusted to load map: File -> Trust Notebook</span><iframe srcdoc=\"&lt;!DOCTYPE html&gt;\n&lt;html&gt;\n&lt;head&gt;\n    \n    &lt;meta http-equiv=&quot;content-type&quot; content=&quot;text/html; charset=UTF-8&quot; /&gt;\n    \n        &lt;script&gt;\n            L_NO_TOUCH = false;\n            L_DISABLE_3D = false;\n        &lt;/script&gt;\n    \n    &lt;style&gt;html, body {width: 100%;height: 100%;margin: 0;padding: 0;}&lt;/style&gt;\n    &lt;style&gt;#map {position:absolute;top:0;bottom:0;right:0;left:0;}&lt;/style&gt;\n    &lt;script src=&quot;https://cdn.jsdelivr.net/npm/leaflet@1.9.3/dist/leaflet.js&quot;&gt;&lt;/script&gt;\n    &lt;script src=&quot;https://code.jquery.com/jquery-3.7.1.min.js&quot;&gt;&lt;/script&gt;\n    &lt;script src=&quot;https://cdn.jsdelivr.net/npm/bootstrap@5.2.2/dist/js/bootstrap.bundle.min.js&quot;&gt;&lt;/script&gt;\n    &lt;script src=&quot;https://cdnjs.cloudflare.com/ajax/libs/Leaflet.awesome-markers/2.0.2/leaflet.awesome-markers.js&quot;&gt;&lt;/script&gt;\n    &lt;link rel=&quot;stylesheet&quot; href=&quot;https://cdn.jsdelivr.net/npm/leaflet@1.9.3/dist/leaflet.css&quot;/&gt;\n    &lt;link rel=&quot;stylesheet&quot; href=&quot;https://cdn.jsdelivr.net/npm/bootstrap@5.2.2/dist/css/bootstrap.min.css&quot;/&gt;\n    &lt;link rel=&quot;stylesheet&quot; href=&quot;https://netdna.bootstrapcdn.com/bootstrap/3.0.0/css/bootstrap.min.css&quot;/&gt;\n    &lt;link rel=&quot;stylesheet&quot; href=&quot;https://cdn.jsdelivr.net/npm/@fortawesome/fontawesome-free@6.2.0/css/all.min.css&quot;/&gt;\n    &lt;link rel=&quot;stylesheet&quot; href=&quot;https://cdnjs.cloudflare.com/ajax/libs/Leaflet.awesome-markers/2.0.2/leaflet.awesome-markers.css&quot;/&gt;\n    &lt;link rel=&quot;stylesheet&quot; href=&quot;https://cdn.jsdelivr.net/gh/python-visualization/folium/folium/templates/leaflet.awesome.rotate.min.css&quot;/&gt;\n    \n            &lt;meta name=&quot;viewport&quot; content=&quot;width=device-width,\n                initial-scale=1.0, maximum-scale=1.0, user-scalable=no&quot; /&gt;\n            &lt;style&gt;\n                #map_8cc6a63eee8d54b3d72353300f7348b4 {\n                    position: relative;\n                    width: 100.0%;\n                    height: 100.0%;\n                    left: 0.0%;\n                    top: 0.0%;\n                }\n                .leaflet-container { font-size: 1rem; }\n            &lt;/style&gt;\n        \n&lt;/head&gt;\n&lt;body&gt;\n    \n    \n            &lt;div class=&quot;folium-map&quot; id=&quot;map_8cc6a63eee8d54b3d72353300f7348b4&quot; &gt;&lt;/div&gt;\n        \n&lt;/body&gt;\n&lt;script&gt;\n    \n    \n            var map_8cc6a63eee8d54b3d72353300f7348b4 = L.map(\n                &quot;map_8cc6a63eee8d54b3d72353300f7348b4&quot;,\n                {\n                    center: [29.559684888503615, -95.0830971930759],\n                    crs: L.CRS.EPSG3857,\n                    zoom: 10,\n                    zoomControl: true,\n                    preferCanvas: false,\n                }\n            );\n\n            \n\n        \n    \n            var tile_layer_65d4fd6beaeb7dd2e954b116d6a970a5 = L.tileLayer(\n                &quot;https://tile.openstreetmap.org/{z}/{x}/{y}.png&quot;,\n                {&quot;attribution&quot;: &quot;\\u0026copy; \\u003ca href=\\&quot;https://www.openstreetmap.org/copyright\\&quot;\\u003eOpenStreetMap\\u003c/a\\u003e contributors&quot;, &quot;detectRetina&quot;: false, &quot;maxNativeZoom&quot;: 19, &quot;maxZoom&quot;: 19, &quot;minZoom&quot;: 0, &quot;noWrap&quot;: false, &quot;opacity&quot;: 1, &quot;subdomains&quot;: &quot;abc&quot;, &quot;tms&quot;: false}\n            );\n        \n    \n            tile_layer_65d4fd6beaeb7dd2e954b116d6a970a5.addTo(map_8cc6a63eee8d54b3d72353300f7348b4);\n        \n    \n            var circle_ff3ee9db202b2cc722d5e6db90e7ec57 = L.circle(\n                [29.559684888503615, -95.0830971930759],\n                {&quot;bubblingMouseEvents&quot;: true, &quot;color&quot;: &quot;#d35400&quot;, &quot;dashArray&quot;: null, &quot;dashOffset&quot;: null, &quot;fill&quot;: true, &quot;fillColor&quot;: &quot;#d35400&quot;, &quot;fillOpacity&quot;: 0.2, &quot;fillRule&quot;: &quot;evenodd&quot;, &quot;lineCap&quot;: &quot;round&quot;, &quot;lineJoin&quot;: &quot;round&quot;, &quot;opacity&quot;: 1.0, &quot;radius&quot;: 1000, &quot;stroke&quot;: true, &quot;weight&quot;: 3}\n            ).addTo(map_8cc6a63eee8d54b3d72353300f7348b4);\n        \n    \n        var popup_82080a0d53bce77659702290284ba297 = L.popup({&quot;maxWidth&quot;: &quot;100%&quot;});\n\n        \n            \n                var html_d6089c48a317fc583c292a44ee489ebf = $(`&lt;div id=&quot;html_d6089c48a317fc583c292a44ee489ebf&quot; style=&quot;width: 100.0%; height: 100.0%;&quot;&gt;NASA Johnson Space Center&lt;/div&gt;`)[0];\n                popup_82080a0d53bce77659702290284ba297.setContent(html_d6089c48a317fc583c292a44ee489ebf);\n            \n        \n\n        circle_ff3ee9db202b2cc722d5e6db90e7ec57.bindPopup(popup_82080a0d53bce77659702290284ba297)\n        ;\n\n        \n    \n    \n            var marker_e87616cae3862a0a0d3470491413a84a = L.marker(\n                [29.559684888503615, -95.0830971930759],\n                {}\n            ).addTo(map_8cc6a63eee8d54b3d72353300f7348b4);\n        \n    \n            var div_icon_f7f5b5261ccef9c207bbea349951e098 = L.divIcon({&quot;className&quot;: &quot;empty&quot;, &quot;html&quot;: &quot;\\u003cdiv style=\\&quot;font-size: 12; color:#d35400;\\&quot;\\u003e\\u003cb\\u003eNASA JSC\\u003c/b\\u003e\\u003c/div\\u003e&quot;, &quot;iconAnchor&quot;: [0, 0], &quot;iconSize&quot;: [20, 20]});\n            marker_e87616cae3862a0a0d3470491413a84a.setIcon(div_icon_f7f5b5261ccef9c207bbea349951e098);\n        \n&lt;/script&gt;\n&lt;/html&gt;\" style=\"position:absolute;width:100%;height:100%;left:0;top:0;border:none !important;\" allowfullscreen webkitallowfullscreen mozallowfullscreen></iframe></div></div>"
     },
     "metadata": {}
    }
   ],
   "execution_count": 8
  },
  {
   "cell_type": "markdown",
   "source": [
    "and you should find a small yellow circle near the city of Houston and you can zoom-in to see a larger circle.\n"
   ],
   "metadata": {
    "pycharm": {
     "name": "#%% md\n"
    }
   }
  },
  {
   "cell_type": "markdown",
   "source": [
    "Now, let's add a circle for each launch site in data frame `launch_sites`\n"
   ],
   "metadata": {
    "pycharm": {
     "name": "#%% md\n"
    }
   }
  },
  {
   "cell_type": "markdown",
   "source": [
    "*TODO:*  Create and add `folium.Circle` and `folium.Marker` for each launch site on the site map\n"
   ],
   "metadata": {
    "pycharm": {
     "name": "#%% md\n"
    }
   }
  },
  {
   "cell_type": "markdown",
   "source": [
    "An example of folium.Circle:\n"
   ],
   "metadata": {
    "pycharm": {
     "name": "#%% md\n"
    }
   }
  },
  {
   "cell_type": "markdown",
   "source": [
    "`folium.Circle(coordinate, radius=1000, color='#000000', fill=True).add_child(folium.Popup(...))`\n"
   ],
   "metadata": {
    "pycharm": {
     "name": "#%% md\n"
    }
   }
  },
  {
   "cell_type": "markdown",
   "source": [
    "An example of folium.Marker:\n"
   ],
   "metadata": {
    "pycharm": {
     "name": "#%% md\n"
    }
   }
  },
  {
   "cell_type": "markdown",
   "source": [
    "`folium.map.Marker(coordinate, icon=DivIcon(icon_size=(20,20),icon_anchor=(0,0), html='<div style=\"font-size: 12; color:#d35400;\"><b>%s</b></div>' % 'label', ))`\n"
   ],
   "metadata": {
    "pycharm": {
     "name": "#%% md\n"
    }
   }
  },
  {
   "cell_type": "code",
   "source": [
    "# Initial the map\n",
    "site_map = folium.Map(location=nasa_coordinate, zoom_start=5)\n",
    "# For each launch site, add a Circle object based on its coordinate (Lat, Long) values. In addition, add Launch site name as a popup label\n",
    "for i in range(0,len(launch_sites_df)):\n",
    "    row = launch_sites_df.iloc[i]\n",
    "    print(row['Launch Site'])\n",
    "    circle = folium.Circle([row[\"Lat\"],row[\"Long\"]], radius=1000, color='#d35400', fill=True).add_child(folium.Popup(row['Launch Site']))\n",
    "    marker = folium.map.Marker(\n",
    "    [row[\"Lat\"],row[\"Long\"]],\n",
    "    # Create an icon as a text label\n",
    "    icon=DivIcon(\n",
    "        icon_size=(20,20),\n",
    "        icon_anchor=(0,0),\n",
    "        html='<div style=\"font-size: 12; color:#d35400;\"><b>%s</b></div>' % row['Launch Site'],\n",
    "        )\n",
    "    )\n",
    "    site_map.add_child(circle)\n",
    "    site_map.add_child(marker)\n",
    "site_map"
   ],
   "metadata": {
    "trusted": true,
    "pycharm": {
     "name": "#%%\n"
    }
   },
   "outputs": [
    {
     "name": "stdout",
     "text": "CCAFS LC-40\nCCAFS SLC-40\nKSC LC-39A\nVAFB SLC-4E\n",
     "output_type": "stream"
    },
    {
     "execution_count": 15,
     "output_type": "execute_result",
     "data": {
      "text/plain": "<folium.folium.Map at 0x56f0388>",
      "text/html": "<div style=\"width:100%;\"><div style=\"position:relative;width:100%;height:0;padding-bottom:60%;\"><span style=\"color:#565656\">Make this Notebook Trusted to load map: File -> Trust Notebook</span><iframe srcdoc=\"&lt;!DOCTYPE html&gt;\n&lt;html&gt;\n&lt;head&gt;\n    \n    &lt;meta http-equiv=&quot;content-type&quot; content=&quot;text/html; charset=UTF-8&quot; /&gt;\n    \n        &lt;script&gt;\n            L_NO_TOUCH = false;\n            L_DISABLE_3D = false;\n        &lt;/script&gt;\n    \n    &lt;style&gt;html, body {width: 100%;height: 100%;margin: 0;padding: 0;}&lt;/style&gt;\n    &lt;style&gt;#map {position:absolute;top:0;bottom:0;right:0;left:0;}&lt;/style&gt;\n    &lt;script src=&quot;https://cdn.jsdelivr.net/npm/leaflet@1.9.3/dist/leaflet.js&quot;&gt;&lt;/script&gt;\n    &lt;script src=&quot;https://code.jquery.com/jquery-3.7.1.min.js&quot;&gt;&lt;/script&gt;\n    &lt;script src=&quot;https://cdn.jsdelivr.net/npm/bootstrap@5.2.2/dist/js/bootstrap.bundle.min.js&quot;&gt;&lt;/script&gt;\n    &lt;script src=&quot;https://cdnjs.cloudflare.com/ajax/libs/Leaflet.awesome-markers/2.0.2/leaflet.awesome-markers.js&quot;&gt;&lt;/script&gt;\n    &lt;link rel=&quot;stylesheet&quot; href=&quot;https://cdn.jsdelivr.net/npm/leaflet@1.9.3/dist/leaflet.css&quot;/&gt;\n    &lt;link rel=&quot;stylesheet&quot; href=&quot;https://cdn.jsdelivr.net/npm/bootstrap@5.2.2/dist/css/bootstrap.min.css&quot;/&gt;\n    &lt;link rel=&quot;stylesheet&quot; href=&quot;https://netdna.bootstrapcdn.com/bootstrap/3.0.0/css/bootstrap.min.css&quot;/&gt;\n    &lt;link rel=&quot;stylesheet&quot; href=&quot;https://cdn.jsdelivr.net/npm/@fortawesome/fontawesome-free@6.2.0/css/all.min.css&quot;/&gt;\n    &lt;link rel=&quot;stylesheet&quot; href=&quot;https://cdnjs.cloudflare.com/ajax/libs/Leaflet.awesome-markers/2.0.2/leaflet.awesome-markers.css&quot;/&gt;\n    &lt;link rel=&quot;stylesheet&quot; href=&quot;https://cdn.jsdelivr.net/gh/python-visualization/folium/folium/templates/leaflet.awesome.rotate.min.css&quot;/&gt;\n    \n            &lt;meta name=&quot;viewport&quot; content=&quot;width=device-width,\n                initial-scale=1.0, maximum-scale=1.0, user-scalable=no&quot; /&gt;\n            &lt;style&gt;\n                #map_c0087b65c33f1221bdd42313d9ace51c {\n                    position: relative;\n                    width: 100.0%;\n                    height: 100.0%;\n                    left: 0.0%;\n                    top: 0.0%;\n                }\n                .leaflet-container { font-size: 1rem; }\n            &lt;/style&gt;\n        \n&lt;/head&gt;\n&lt;body&gt;\n    \n    \n            &lt;div class=&quot;folium-map&quot; id=&quot;map_c0087b65c33f1221bdd42313d9ace51c&quot; &gt;&lt;/div&gt;\n        \n&lt;/body&gt;\n&lt;script&gt;\n    \n    \n            var map_c0087b65c33f1221bdd42313d9ace51c = L.map(\n                &quot;map_c0087b65c33f1221bdd42313d9ace51c&quot;,\n                {\n                    center: [29.559684888503615, -95.0830971930759],\n                    crs: L.CRS.EPSG3857,\n                    zoom: 5,\n                    zoomControl: true,\n                    preferCanvas: false,\n                }\n            );\n\n            \n\n        \n    \n            var tile_layer_cb6e856c8545591cbc08323381b35301 = L.tileLayer(\n                &quot;https://tile.openstreetmap.org/{z}/{x}/{y}.png&quot;,\n                {&quot;attribution&quot;: &quot;\\u0026copy; \\u003ca href=\\&quot;https://www.openstreetmap.org/copyright\\&quot;\\u003eOpenStreetMap\\u003c/a\\u003e contributors&quot;, &quot;detectRetina&quot;: false, &quot;maxNativeZoom&quot;: 19, &quot;maxZoom&quot;: 19, &quot;minZoom&quot;: 0, &quot;noWrap&quot;: false, &quot;opacity&quot;: 1, &quot;subdomains&quot;: &quot;abc&quot;, &quot;tms&quot;: false}\n            );\n        \n    \n            tile_layer_cb6e856c8545591cbc08323381b35301.addTo(map_c0087b65c33f1221bdd42313d9ace51c);\n        \n    \n            var circle_821b849cc4bce345d9dc117fb4c14998 = L.circle(\n                [28.56230197, -80.57735648],\n                {&quot;bubblingMouseEvents&quot;: true, &quot;color&quot;: &quot;#d35400&quot;, &quot;dashArray&quot;: null, &quot;dashOffset&quot;: null, &quot;fill&quot;: true, &quot;fillColor&quot;: &quot;#d35400&quot;, &quot;fillOpacity&quot;: 0.2, &quot;fillRule&quot;: &quot;evenodd&quot;, &quot;lineCap&quot;: &quot;round&quot;, &quot;lineJoin&quot;: &quot;round&quot;, &quot;opacity&quot;: 1.0, &quot;radius&quot;: 1000, &quot;stroke&quot;: true, &quot;weight&quot;: 3}\n            ).addTo(map_c0087b65c33f1221bdd42313d9ace51c);\n        \n    \n        var popup_1538523f08ac5bbaa382bf2b2eeff7bd = L.popup({&quot;maxWidth&quot;: &quot;100%&quot;});\n\n        \n            \n                var html_d9f7db6ec423a5108ddb5c36af02eb3b = $(`&lt;div id=&quot;html_d9f7db6ec423a5108ddb5c36af02eb3b&quot; style=&quot;width: 100.0%; height: 100.0%;&quot;&gt;CCAFS LC-40&lt;/div&gt;`)[0];\n                popup_1538523f08ac5bbaa382bf2b2eeff7bd.setContent(html_d9f7db6ec423a5108ddb5c36af02eb3b);\n            \n        \n\n        circle_821b849cc4bce345d9dc117fb4c14998.bindPopup(popup_1538523f08ac5bbaa382bf2b2eeff7bd)\n        ;\n\n        \n    \n    \n            var marker_5500f5cefcc52c2a5c754d2c493960ad = L.marker(\n                [28.56230197, -80.57735648],\n                {}\n            ).addTo(map_c0087b65c33f1221bdd42313d9ace51c);\n        \n    \n            var div_icon_0fb233b171fcf252bb2c9899ace8b422 = L.divIcon({&quot;className&quot;: &quot;empty&quot;, &quot;html&quot;: &quot;\\u003cdiv style=\\&quot;font-size: 12; color:#d35400;\\&quot;\\u003e\\u003cb\\u003eCCAFS LC-40\\u003c/b\\u003e\\u003c/div\\u003e&quot;, &quot;iconAnchor&quot;: [0, 0], &quot;iconSize&quot;: [20, 20]});\n            marker_5500f5cefcc52c2a5c754d2c493960ad.setIcon(div_icon_0fb233b171fcf252bb2c9899ace8b422);\n        \n    \n            var circle_a07e25249792296da027e0888a7f17d1 = L.circle(\n                [28.56319718, -80.57682003],\n                {&quot;bubblingMouseEvents&quot;: true, &quot;color&quot;: &quot;#d35400&quot;, &quot;dashArray&quot;: null, &quot;dashOffset&quot;: null, &quot;fill&quot;: true, &quot;fillColor&quot;: &quot;#d35400&quot;, &quot;fillOpacity&quot;: 0.2, &quot;fillRule&quot;: &quot;evenodd&quot;, &quot;lineCap&quot;: &quot;round&quot;, &quot;lineJoin&quot;: &quot;round&quot;, &quot;opacity&quot;: 1.0, &quot;radius&quot;: 1000, &quot;stroke&quot;: true, &quot;weight&quot;: 3}\n            ).addTo(map_c0087b65c33f1221bdd42313d9ace51c);\n        \n    \n        var popup_05083dc5e66df1d134160334917444f0 = L.popup({&quot;maxWidth&quot;: &quot;100%&quot;});\n\n        \n            \n                var html_0b172c7524994cd34e8fa150d4602fd5 = $(`&lt;div id=&quot;html_0b172c7524994cd34e8fa150d4602fd5&quot; style=&quot;width: 100.0%; height: 100.0%;&quot;&gt;CCAFS SLC-40&lt;/div&gt;`)[0];\n                popup_05083dc5e66df1d134160334917444f0.setContent(html_0b172c7524994cd34e8fa150d4602fd5);\n            \n        \n\n        circle_a07e25249792296da027e0888a7f17d1.bindPopup(popup_05083dc5e66df1d134160334917444f0)\n        ;\n\n        \n    \n    \n            var marker_92945c637ffe445496da5df7968bc079 = L.marker(\n                [28.56319718, -80.57682003],\n                {}\n            ).addTo(map_c0087b65c33f1221bdd42313d9ace51c);\n        \n    \n            var div_icon_0f8b437bdb292c4149daabf6a9b581d0 = L.divIcon({&quot;className&quot;: &quot;empty&quot;, &quot;html&quot;: &quot;\\u003cdiv style=\\&quot;font-size: 12; color:#d35400;\\&quot;\\u003e\\u003cb\\u003eCCAFS SLC-40\\u003c/b\\u003e\\u003c/div\\u003e&quot;, &quot;iconAnchor&quot;: [0, 0], &quot;iconSize&quot;: [20, 20]});\n            marker_92945c637ffe445496da5df7968bc079.setIcon(div_icon_0f8b437bdb292c4149daabf6a9b581d0);\n        \n    \n            var circle_729118812a135d54ee8d24459b1ce398 = L.circle(\n                [28.57325457, -80.64689529],\n                {&quot;bubblingMouseEvents&quot;: true, &quot;color&quot;: &quot;#d35400&quot;, &quot;dashArray&quot;: null, &quot;dashOffset&quot;: null, &quot;fill&quot;: true, &quot;fillColor&quot;: &quot;#d35400&quot;, &quot;fillOpacity&quot;: 0.2, &quot;fillRule&quot;: &quot;evenodd&quot;, &quot;lineCap&quot;: &quot;round&quot;, &quot;lineJoin&quot;: &quot;round&quot;, &quot;opacity&quot;: 1.0, &quot;radius&quot;: 1000, &quot;stroke&quot;: true, &quot;weight&quot;: 3}\n            ).addTo(map_c0087b65c33f1221bdd42313d9ace51c);\n        \n    \n        var popup_21628a981c605a0a77f13bfb0d380f75 = L.popup({&quot;maxWidth&quot;: &quot;100%&quot;});\n\n        \n            \n                var html_13f2302360b7552f5c3929b2c90bfe69 = $(`&lt;div id=&quot;html_13f2302360b7552f5c3929b2c90bfe69&quot; style=&quot;width: 100.0%; height: 100.0%;&quot;&gt;KSC LC-39A&lt;/div&gt;`)[0];\n                popup_21628a981c605a0a77f13bfb0d380f75.setContent(html_13f2302360b7552f5c3929b2c90bfe69);\n            \n        \n\n        circle_729118812a135d54ee8d24459b1ce398.bindPopup(popup_21628a981c605a0a77f13bfb0d380f75)\n        ;\n\n        \n    \n    \n            var marker_f87ea1745a224a95e8f737b003d1a86e = L.marker(\n                [28.57325457, -80.64689529],\n                {}\n            ).addTo(map_c0087b65c33f1221bdd42313d9ace51c);\n        \n    \n            var div_icon_5262fb64a22ecea6d9d6e04ce156cfb0 = L.divIcon({&quot;className&quot;: &quot;empty&quot;, &quot;html&quot;: &quot;\\u003cdiv style=\\&quot;font-size: 12; color:#d35400;\\&quot;\\u003e\\u003cb\\u003eKSC LC-39A\\u003c/b\\u003e\\u003c/div\\u003e&quot;, &quot;iconAnchor&quot;: [0, 0], &quot;iconSize&quot;: [20, 20]});\n            marker_f87ea1745a224a95e8f737b003d1a86e.setIcon(div_icon_5262fb64a22ecea6d9d6e04ce156cfb0);\n        \n    \n            var circle_04868b10a7df165c066edb2e09d7e6bb = L.circle(\n                [34.63283416, -120.6107455],\n                {&quot;bubblingMouseEvents&quot;: true, &quot;color&quot;: &quot;#d35400&quot;, &quot;dashArray&quot;: null, &quot;dashOffset&quot;: null, &quot;fill&quot;: true, &quot;fillColor&quot;: &quot;#d35400&quot;, &quot;fillOpacity&quot;: 0.2, &quot;fillRule&quot;: &quot;evenodd&quot;, &quot;lineCap&quot;: &quot;round&quot;, &quot;lineJoin&quot;: &quot;round&quot;, &quot;opacity&quot;: 1.0, &quot;radius&quot;: 1000, &quot;stroke&quot;: true, &quot;weight&quot;: 3}\n            ).addTo(map_c0087b65c33f1221bdd42313d9ace51c);\n        \n    \n        var popup_4567563993acf4e52eff7e8ac2a4a621 = L.popup({&quot;maxWidth&quot;: &quot;100%&quot;});\n\n        \n            \n                var html_64697f7f249232f0fa5d5ce42171a366 = $(`&lt;div id=&quot;html_64697f7f249232f0fa5d5ce42171a366&quot; style=&quot;width: 100.0%; height: 100.0%;&quot;&gt;VAFB SLC-4E&lt;/div&gt;`)[0];\n                popup_4567563993acf4e52eff7e8ac2a4a621.setContent(html_64697f7f249232f0fa5d5ce42171a366);\n            \n        \n\n        circle_04868b10a7df165c066edb2e09d7e6bb.bindPopup(popup_4567563993acf4e52eff7e8ac2a4a621)\n        ;\n\n        \n    \n    \n            var marker_a4ff103e37a4cad5e5bc85edc7350735 = L.marker(\n                [34.63283416, -120.6107455],\n                {}\n            ).addTo(map_c0087b65c33f1221bdd42313d9ace51c);\n        \n    \n            var div_icon_92684a6020a0583cc9d925b723958270 = L.divIcon({&quot;className&quot;: &quot;empty&quot;, &quot;html&quot;: &quot;\\u003cdiv style=\\&quot;font-size: 12; color:#d35400;\\&quot;\\u003e\\u003cb\\u003eVAFB SLC-4E\\u003c/b\\u003e\\u003c/div\\u003e&quot;, &quot;iconAnchor&quot;: [0, 0], &quot;iconSize&quot;: [20, 20]});\n            marker_a4ff103e37a4cad5e5bc85edc7350735.setIcon(div_icon_92684a6020a0583cc9d925b723958270);\n        \n&lt;/script&gt;\n&lt;/html&gt;\" style=\"position:absolute;width:100%;height:100%;left:0;top:0;border:none !important;\" allowfullscreen webkitallowfullscreen mozallowfullscreen></iframe></div></div>"
     },
     "metadata": {}
    }
   ],
   "execution_count": 15
  },
  {
   "cell_type": "markdown",
   "source": [
    "The generated map with marked launch sites should look similar to the following:\n"
   ],
   "metadata": {
    "pycharm": {
     "name": "#%% md\n"
    }
   }
  },
  {
   "cell_type": "markdown",
   "source": [
    "<center>\n",
    "    <img src=\"https://cf-courses-data.s3.us.cloud-object-storage.appdomain.cloud/IBM-DS0321EN-SkillsNetwork/labs/module_3/images/launch_site_markers.png\">\n",
    "</center>\n"
   ],
   "metadata": {
    "pycharm": {
     "name": "#%% md\n"
    }
   }
  },
  {
   "cell_type": "markdown",
   "source": [
    "Now, you can explore the map by zoom-in/out the marked areas\n",
    ", and try to answer the following questions:\n",
    "\n",
    "*   Are all launch sites in proximity to the Equator line?\n",
    "*   Are all launch sites in very close proximity to the coast?\n",
    "\n",
    "Also please try to explain your findings.\n"
   ],
   "metadata": {
    "pycharm": {
     "name": "#%% md\n"
    }
   }
  },
  {
   "cell_type": "code",
   "source": [
    "# Task 2: Mark the success/failed launches for each site on the map\n"
   ],
   "metadata": {
    "pycharm": {
     "name": "#%%\n"
    }
   },
   "outputs": [],
   "execution_count": null
  },
  {
   "cell_type": "markdown",
   "source": [
    "Next, let's try to enhance the map by adding the launch outcomes for each site, and see which sites have high success rates.\n",
    "Recall that data frame spacex_df has detailed launch records, and the `class` column indicates if this launch was successful or not\n"
   ],
   "metadata": {
    "pycharm": {
     "name": "#%% md\n"
    }
   }
  },
  {
   "cell_type": "code",
   "source": [
    "spacex_df.tail(10)"
   ],
   "metadata": {
    "trusted": true,
    "pycharm": {
     "name": "#%%\n"
    }
   },
   "outputs": [
    {
     "execution_count": 16,
     "output_type": "execute_result",
     "data": {
      "text/plain": "     Launch Site        Lat       Long  class\n46    KSC LC-39A  28.573255 -80.646895      1\n47    KSC LC-39A  28.573255 -80.646895      1\n48    KSC LC-39A  28.573255 -80.646895      1\n49  CCAFS SLC-40  28.563197 -80.576820      1\n50  CCAFS SLC-40  28.563197 -80.576820      1\n51  CCAFS SLC-40  28.563197 -80.576820      0\n52  CCAFS SLC-40  28.563197 -80.576820      0\n53  CCAFS SLC-40  28.563197 -80.576820      0\n54  CCAFS SLC-40  28.563197 -80.576820      1\n55  CCAFS SLC-40  28.563197 -80.576820      0",
      "text/html": "<div>\n<style scoped>\n    .dataframe tbody tr th:only-of-type {\n        vertical-align: middle;\n    }\n\n    .dataframe tbody tr th {\n        vertical-align: top;\n    }\n\n    .dataframe thead th {\n        text-align: right;\n    }\n</style>\n<table border=\"1\" class=\"dataframe\">\n  <thead>\n    <tr style=\"text-align: right;\">\n      <th></th>\n      <th>Launch Site</th>\n      <th>Lat</th>\n      <th>Long</th>\n      <th>class</th>\n    </tr>\n  </thead>\n  <tbody>\n    <tr>\n      <th>46</th>\n      <td>KSC LC-39A</td>\n      <td>28.573255</td>\n      <td>-80.646895</td>\n      <td>1</td>\n    </tr>\n    <tr>\n      <th>47</th>\n      <td>KSC LC-39A</td>\n      <td>28.573255</td>\n      <td>-80.646895</td>\n      <td>1</td>\n    </tr>\n    <tr>\n      <th>48</th>\n      <td>KSC LC-39A</td>\n      <td>28.573255</td>\n      <td>-80.646895</td>\n      <td>1</td>\n    </tr>\n    <tr>\n      <th>49</th>\n      <td>CCAFS SLC-40</td>\n      <td>28.563197</td>\n      <td>-80.576820</td>\n      <td>1</td>\n    </tr>\n    <tr>\n      <th>50</th>\n      <td>CCAFS SLC-40</td>\n      <td>28.563197</td>\n      <td>-80.576820</td>\n      <td>1</td>\n    </tr>\n    <tr>\n      <th>51</th>\n      <td>CCAFS SLC-40</td>\n      <td>28.563197</td>\n      <td>-80.576820</td>\n      <td>0</td>\n    </tr>\n    <tr>\n      <th>52</th>\n      <td>CCAFS SLC-40</td>\n      <td>28.563197</td>\n      <td>-80.576820</td>\n      <td>0</td>\n    </tr>\n    <tr>\n      <th>53</th>\n      <td>CCAFS SLC-40</td>\n      <td>28.563197</td>\n      <td>-80.576820</td>\n      <td>0</td>\n    </tr>\n    <tr>\n      <th>54</th>\n      <td>CCAFS SLC-40</td>\n      <td>28.563197</td>\n      <td>-80.576820</td>\n      <td>1</td>\n    </tr>\n    <tr>\n      <th>55</th>\n      <td>CCAFS SLC-40</td>\n      <td>28.563197</td>\n      <td>-80.576820</td>\n      <td>0</td>\n    </tr>\n  </tbody>\n</table>\n</div>"
     },
     "metadata": {}
    }
   ],
   "execution_count": 16
  },
  {
   "cell_type": "markdown",
   "source": [
    "Next, let's create markers for all launch records.\n",
    "If a launch was successful `(class=1)`, then we use a green marker and if a launch was failed, we use a red marker `(class=0)`\n"
   ],
   "metadata": {
    "pycharm": {
     "name": "#%% md\n"
    }
   }
  },
  {
   "cell_type": "markdown",
   "source": [
    "Note that a launch only happens in one of the four launch sites, which means many launch records will have the exact same coordinate. Marker clusters can be a good way to simplify a map containing many markers having the same coordinate.\n"
   ],
   "metadata": {
    "pycharm": {
     "name": "#%% md\n"
    }
   }
  },
  {
   "cell_type": "markdown",
   "source": [
    "Let's first create a `MarkerCluster` object\n"
   ],
   "metadata": {
    "pycharm": {
     "name": "#%% md\n"
    }
   }
  },
  {
   "cell_type": "code",
   "source": [
    "marker_cluster = MarkerCluster()\n"
   ],
   "metadata": {
    "trusted": true,
    "pycharm": {
     "name": "#%%\n"
    }
   },
   "outputs": [],
   "execution_count": 17
  },
  {
   "cell_type": "markdown",
   "source": [
    "*TODO:* Create a new column in `launch_sites` dataframe called `marker_color` to store the marker colors based on the `class` value\n"
   ],
   "metadata": {
    "pycharm": {
     "name": "#%% md\n"
    }
   }
  },
  {
   "cell_type": "code",
   "source": [
    "def get_color(value):\n",
    "    if value==1:\n",
    "        return \"green\"\n",
    "    else:\n",
    "        return \"red\"\n",
    "spacex_df[\"marker_color\"] = spacex_df[\"class\"].apply(get_color)\n",
    "spacex_df.tail()\n",
    "# Apply a function to check the value of `class` column\n",
    "# If class=1, marker_color value will be green\n",
    "# If class=0, marker_color value will be red"
   ],
   "metadata": {
    "trusted": true,
    "pycharm": {
     "name": "#%%\n"
    }
   },
   "outputs": [
    {
     "execution_count": 19,
     "output_type": "execute_result",
     "data": {
      "text/plain": "     Launch Site        Lat      Long  class marker_color\n51  CCAFS SLC-40  28.563197 -80.57682      0          red\n52  CCAFS SLC-40  28.563197 -80.57682      0          red\n53  CCAFS SLC-40  28.563197 -80.57682      0          red\n54  CCAFS SLC-40  28.563197 -80.57682      1        green\n55  CCAFS SLC-40  28.563197 -80.57682      0          red",
      "text/html": "<div>\n<style scoped>\n    .dataframe tbody tr th:only-of-type {\n        vertical-align: middle;\n    }\n\n    .dataframe tbody tr th {\n        vertical-align: top;\n    }\n\n    .dataframe thead th {\n        text-align: right;\n    }\n</style>\n<table border=\"1\" class=\"dataframe\">\n  <thead>\n    <tr style=\"text-align: right;\">\n      <th></th>\n      <th>Launch Site</th>\n      <th>Lat</th>\n      <th>Long</th>\n      <th>class</th>\n      <th>marker_color</th>\n    </tr>\n  </thead>\n  <tbody>\n    <tr>\n      <th>51</th>\n      <td>CCAFS SLC-40</td>\n      <td>28.563197</td>\n      <td>-80.57682</td>\n      <td>0</td>\n      <td>red</td>\n    </tr>\n    <tr>\n      <th>52</th>\n      <td>CCAFS SLC-40</td>\n      <td>28.563197</td>\n      <td>-80.57682</td>\n      <td>0</td>\n      <td>red</td>\n    </tr>\n    <tr>\n      <th>53</th>\n      <td>CCAFS SLC-40</td>\n      <td>28.563197</td>\n      <td>-80.57682</td>\n      <td>0</td>\n      <td>red</td>\n    </tr>\n    <tr>\n      <th>54</th>\n      <td>CCAFS SLC-40</td>\n      <td>28.563197</td>\n      <td>-80.57682</td>\n      <td>1</td>\n      <td>green</td>\n    </tr>\n    <tr>\n      <th>55</th>\n      <td>CCAFS SLC-40</td>\n      <td>28.563197</td>\n      <td>-80.57682</td>\n      <td>0</td>\n      <td>red</td>\n    </tr>\n  </tbody>\n</table>\n</div>"
     },
     "metadata": {}
    }
   ],
   "execution_count": 19
  },
  {
   "cell_type": "markdown",
   "source": [
    "*TODO:* For each launch result in `spacex_df` data frame, add a `folium.Marker` to `marker_cluster`\n"
   ],
   "metadata": {
    "pycharm": {
     "name": "#%% md\n"
    }
   }
  },
  {
   "cell_type": "code",
   "source": [
    "# Add marker_cluster to current site_map\n",
    "site_map.add_child(marker_cluster)\n",
    "\n",
    "# for each row in spacex_df data frame\n",
    "# create a Marker object with its coordinate\n",
    "# and customize the Marker's icon property to indicate if this launch was successed or failed, \n",
    "# e.g., icon=folium.Icon(color='white', icon_color=row['marker_color']\n",
    "for index, record in spacex_df.iterrows():\n",
    "    # TODO: Create and add a Marker cluster to the site map\n",
    "    # marker = folium.Marker(...)\n",
    "    marker = folium.Marker(\n",
    "        location=[record[\"Lat\"], record[\"Long\"]],\n",
    "        icon=folium.Icon(color='white', icon_color=record['marker_color'])\n",
    "    )\n",
    "    marker_cluster.add_child(marker)\n",
    "\n",
    "site_map"
   ],
   "metadata": {
    "trusted": true,
    "pycharm": {
     "name": "#%%\n"
    }
   },
   "outputs": [
    {
     "execution_count": 21,
     "output_type": "execute_result",
     "data": {
      "text/plain": "<folium.folium.Map at 0x56f0388>",
      "text/html": "<div style=\"width:100%;\"><div style=\"position:relative;width:100%;height:0;padding-bottom:60%;\"><span style=\"color:#565656\">Make this Notebook Trusted to load map: File -> Trust Notebook</span><iframe srcdoc=\"&lt;!DOCTYPE html&gt;\n&lt;html&gt;\n&lt;head&gt;\n    \n    &lt;meta http-equiv=&quot;content-type&quot; content=&quot;text/html; charset=UTF-8&quot; /&gt;\n    \n        &lt;script&gt;\n            L_NO_TOUCH = false;\n            L_DISABLE_3D = false;\n        &lt;/script&gt;\n    \n    &lt;style&gt;html, body {width: 100%;height: 100%;margin: 0;padding: 0;}&lt;/style&gt;\n    &lt;style&gt;#map {position:absolute;top:0;bottom:0;right:0;left:0;}&lt;/style&gt;\n    &lt;script src=&quot;https://cdn.jsdelivr.net/npm/leaflet@1.9.3/dist/leaflet.js&quot;&gt;&lt;/script&gt;\n    &lt;script src=&quot;https://code.jquery.com/jquery-3.7.1.min.js&quot;&gt;&lt;/script&gt;\n    &lt;script src=&quot;https://cdn.jsdelivr.net/npm/bootstrap@5.2.2/dist/js/bootstrap.bundle.min.js&quot;&gt;&lt;/script&gt;\n    &lt;script src=&quot;https://cdnjs.cloudflare.com/ajax/libs/Leaflet.awesome-markers/2.0.2/leaflet.awesome-markers.js&quot;&gt;&lt;/script&gt;\n    &lt;link rel=&quot;stylesheet&quot; href=&quot;https://cdn.jsdelivr.net/npm/leaflet@1.9.3/dist/leaflet.css&quot;/&gt;\n    &lt;link rel=&quot;stylesheet&quot; href=&quot;https://cdn.jsdelivr.net/npm/bootstrap@5.2.2/dist/css/bootstrap.min.css&quot;/&gt;\n    &lt;link rel=&quot;stylesheet&quot; href=&quot;https://netdna.bootstrapcdn.com/bootstrap/3.0.0/css/bootstrap.min.css&quot;/&gt;\n    &lt;link rel=&quot;stylesheet&quot; href=&quot;https://cdn.jsdelivr.net/npm/@fortawesome/fontawesome-free@6.2.0/css/all.min.css&quot;/&gt;\n    &lt;link rel=&quot;stylesheet&quot; href=&quot;https://cdnjs.cloudflare.com/ajax/libs/Leaflet.awesome-markers/2.0.2/leaflet.awesome-markers.css&quot;/&gt;\n    &lt;link rel=&quot;stylesheet&quot; href=&quot;https://cdn.jsdelivr.net/gh/python-visualization/folium/folium/templates/leaflet.awesome.rotate.min.css&quot;/&gt;\n    \n            &lt;meta name=&quot;viewport&quot; content=&quot;width=device-width,\n                initial-scale=1.0, maximum-scale=1.0, user-scalable=no&quot; /&gt;\n            &lt;style&gt;\n                #map_c0087b65c33f1221bdd42313d9ace51c {\n                    position: relative;\n                    width: 100.0%;\n                    height: 100.0%;\n                    left: 0.0%;\n                    top: 0.0%;\n                }\n                .leaflet-container { font-size: 1rem; }\n            &lt;/style&gt;\n        \n    &lt;script src=&quot;https://cdnjs.cloudflare.com/ajax/libs/leaflet.markercluster/1.1.0/leaflet.markercluster.js&quot;&gt;&lt;/script&gt;\n    &lt;link rel=&quot;stylesheet&quot; href=&quot;https://cdnjs.cloudflare.com/ajax/libs/leaflet.markercluster/1.1.0/MarkerCluster.css&quot;/&gt;\n    &lt;link rel=&quot;stylesheet&quot; href=&quot;https://cdnjs.cloudflare.com/ajax/libs/leaflet.markercluster/1.1.0/MarkerCluster.Default.css&quot;/&gt;\n&lt;/head&gt;\n&lt;body&gt;\n    \n    \n            &lt;div class=&quot;folium-map&quot; id=&quot;map_c0087b65c33f1221bdd42313d9ace51c&quot; &gt;&lt;/div&gt;\n        \n&lt;/body&gt;\n&lt;script&gt;\n    \n    \n            var map_c0087b65c33f1221bdd42313d9ace51c = L.map(\n                &quot;map_c0087b65c33f1221bdd42313d9ace51c&quot;,\n                {\n                    center: [29.559684888503615, -95.0830971930759],\n                    crs: L.CRS.EPSG3857,\n                    zoom: 5,\n                    zoomControl: true,\n                    preferCanvas: false,\n                }\n            );\n\n            \n\n        \n    \n            var tile_layer_cb6e856c8545591cbc08323381b35301 = L.tileLayer(\n                &quot;https://tile.openstreetmap.org/{z}/{x}/{y}.png&quot;,\n                {&quot;attribution&quot;: &quot;\\u0026copy; \\u003ca href=\\&quot;https://www.openstreetmap.org/copyright\\&quot;\\u003eOpenStreetMap\\u003c/a\\u003e contributors&quot;, &quot;detectRetina&quot;: false, &quot;maxNativeZoom&quot;: 19, &quot;maxZoom&quot;: 19, &quot;minZoom&quot;: 0, &quot;noWrap&quot;: false, &quot;opacity&quot;: 1, &quot;subdomains&quot;: &quot;abc&quot;, &quot;tms&quot;: false}\n            );\n        \n    \n            tile_layer_cb6e856c8545591cbc08323381b35301.addTo(map_c0087b65c33f1221bdd42313d9ace51c);\n        \n    \n            var circle_821b849cc4bce345d9dc117fb4c14998 = L.circle(\n                [28.56230197, -80.57735648],\n                {&quot;bubblingMouseEvents&quot;: true, &quot;color&quot;: &quot;#d35400&quot;, &quot;dashArray&quot;: null, &quot;dashOffset&quot;: null, &quot;fill&quot;: true, &quot;fillColor&quot;: &quot;#d35400&quot;, &quot;fillOpacity&quot;: 0.2, &quot;fillRule&quot;: &quot;evenodd&quot;, &quot;lineCap&quot;: &quot;round&quot;, &quot;lineJoin&quot;: &quot;round&quot;, &quot;opacity&quot;: 1.0, &quot;radius&quot;: 1000, &quot;stroke&quot;: true, &quot;weight&quot;: 3}\n            ).addTo(map_c0087b65c33f1221bdd42313d9ace51c);\n        \n    \n        var popup_1538523f08ac5bbaa382bf2b2eeff7bd = L.popup({&quot;maxWidth&quot;: &quot;100%&quot;});\n\n        \n            \n                var html_d9f7db6ec423a5108ddb5c36af02eb3b = $(`&lt;div id=&quot;html_d9f7db6ec423a5108ddb5c36af02eb3b&quot; style=&quot;width: 100.0%; height: 100.0%;&quot;&gt;CCAFS LC-40&lt;/div&gt;`)[0];\n                popup_1538523f08ac5bbaa382bf2b2eeff7bd.setContent(html_d9f7db6ec423a5108ddb5c36af02eb3b);\n            \n        \n\n        circle_821b849cc4bce345d9dc117fb4c14998.bindPopup(popup_1538523f08ac5bbaa382bf2b2eeff7bd)\n        ;\n\n        \n    \n    \n            var marker_5500f5cefcc52c2a5c754d2c493960ad = L.marker(\n                [28.56230197, -80.57735648],\n                {}\n            ).addTo(map_c0087b65c33f1221bdd42313d9ace51c);\n        \n    \n            var div_icon_0fb233b171fcf252bb2c9899ace8b422 = L.divIcon({&quot;className&quot;: &quot;empty&quot;, &quot;html&quot;: &quot;\\u003cdiv style=\\&quot;font-size: 12; color:#d35400;\\&quot;\\u003e\\u003cb\\u003eCCAFS LC-40\\u003c/b\\u003e\\u003c/div\\u003e&quot;, &quot;iconAnchor&quot;: [0, 0], &quot;iconSize&quot;: [20, 20]});\n            marker_5500f5cefcc52c2a5c754d2c493960ad.setIcon(div_icon_0fb233b171fcf252bb2c9899ace8b422);\n        \n    \n            var circle_a07e25249792296da027e0888a7f17d1 = L.circle(\n                [28.56319718, -80.57682003],\n                {&quot;bubblingMouseEvents&quot;: true, &quot;color&quot;: &quot;#d35400&quot;, &quot;dashArray&quot;: null, &quot;dashOffset&quot;: null, &quot;fill&quot;: true, &quot;fillColor&quot;: &quot;#d35400&quot;, &quot;fillOpacity&quot;: 0.2, &quot;fillRule&quot;: &quot;evenodd&quot;, &quot;lineCap&quot;: &quot;round&quot;, &quot;lineJoin&quot;: &quot;round&quot;, &quot;opacity&quot;: 1.0, &quot;radius&quot;: 1000, &quot;stroke&quot;: true, &quot;weight&quot;: 3}\n            ).addTo(map_c0087b65c33f1221bdd42313d9ace51c);\n        \n    \n        var popup_05083dc5e66df1d134160334917444f0 = L.popup({&quot;maxWidth&quot;: &quot;100%&quot;});\n\n        \n            \n                var html_0b172c7524994cd34e8fa150d4602fd5 = $(`&lt;div id=&quot;html_0b172c7524994cd34e8fa150d4602fd5&quot; style=&quot;width: 100.0%; height: 100.0%;&quot;&gt;CCAFS SLC-40&lt;/div&gt;`)[0];\n                popup_05083dc5e66df1d134160334917444f0.setContent(html_0b172c7524994cd34e8fa150d4602fd5);\n            \n        \n\n        circle_a07e25249792296da027e0888a7f17d1.bindPopup(popup_05083dc5e66df1d134160334917444f0)\n        ;\n\n        \n    \n    \n            var marker_92945c637ffe445496da5df7968bc079 = L.marker(\n                [28.56319718, -80.57682003],\n                {}\n            ).addTo(map_c0087b65c33f1221bdd42313d9ace51c);\n        \n    \n            var div_icon_0f8b437bdb292c4149daabf6a9b581d0 = L.divIcon({&quot;className&quot;: &quot;empty&quot;, &quot;html&quot;: &quot;\\u003cdiv style=\\&quot;font-size: 12; color:#d35400;\\&quot;\\u003e\\u003cb\\u003eCCAFS SLC-40\\u003c/b\\u003e\\u003c/div\\u003e&quot;, &quot;iconAnchor&quot;: [0, 0], &quot;iconSize&quot;: [20, 20]});\n            marker_92945c637ffe445496da5df7968bc079.setIcon(div_icon_0f8b437bdb292c4149daabf6a9b581d0);\n        \n    \n            var circle_729118812a135d54ee8d24459b1ce398 = L.circle(\n                [28.57325457, -80.64689529],\n                {&quot;bubblingMouseEvents&quot;: true, &quot;color&quot;: &quot;#d35400&quot;, &quot;dashArray&quot;: null, &quot;dashOffset&quot;: null, &quot;fill&quot;: true, &quot;fillColor&quot;: &quot;#d35400&quot;, &quot;fillOpacity&quot;: 0.2, &quot;fillRule&quot;: &quot;evenodd&quot;, &quot;lineCap&quot;: &quot;round&quot;, &quot;lineJoin&quot;: &quot;round&quot;, &quot;opacity&quot;: 1.0, &quot;radius&quot;: 1000, &quot;stroke&quot;: true, &quot;weight&quot;: 3}\n            ).addTo(map_c0087b65c33f1221bdd42313d9ace51c);\n        \n    \n        var popup_21628a981c605a0a77f13bfb0d380f75 = L.popup({&quot;maxWidth&quot;: &quot;100%&quot;});\n\n        \n            \n                var html_13f2302360b7552f5c3929b2c90bfe69 = $(`&lt;div id=&quot;html_13f2302360b7552f5c3929b2c90bfe69&quot; style=&quot;width: 100.0%; height: 100.0%;&quot;&gt;KSC LC-39A&lt;/div&gt;`)[0];\n                popup_21628a981c605a0a77f13bfb0d380f75.setContent(html_13f2302360b7552f5c3929b2c90bfe69);\n            \n        \n\n        circle_729118812a135d54ee8d24459b1ce398.bindPopup(popup_21628a981c605a0a77f13bfb0d380f75)\n        ;\n\n        \n    \n    \n            var marker_f87ea1745a224a95e8f737b003d1a86e = L.marker(\n                [28.57325457, -80.64689529],\n                {}\n            ).addTo(map_c0087b65c33f1221bdd42313d9ace51c);\n        \n    \n            var div_icon_5262fb64a22ecea6d9d6e04ce156cfb0 = L.divIcon({&quot;className&quot;: &quot;empty&quot;, &quot;html&quot;: &quot;\\u003cdiv style=\\&quot;font-size: 12; color:#d35400;\\&quot;\\u003e\\u003cb\\u003eKSC LC-39A\\u003c/b\\u003e\\u003c/div\\u003e&quot;, &quot;iconAnchor&quot;: [0, 0], &quot;iconSize&quot;: [20, 20]});\n            marker_f87ea1745a224a95e8f737b003d1a86e.setIcon(div_icon_5262fb64a22ecea6d9d6e04ce156cfb0);\n        \n    \n            var circle_04868b10a7df165c066edb2e09d7e6bb = L.circle(\n                [34.63283416, -120.6107455],\n                {&quot;bubblingMouseEvents&quot;: true, &quot;color&quot;: &quot;#d35400&quot;, &quot;dashArray&quot;: null, &quot;dashOffset&quot;: null, &quot;fill&quot;: true, &quot;fillColor&quot;: &quot;#d35400&quot;, &quot;fillOpacity&quot;: 0.2, &quot;fillRule&quot;: &quot;evenodd&quot;, &quot;lineCap&quot;: &quot;round&quot;, &quot;lineJoin&quot;: &quot;round&quot;, &quot;opacity&quot;: 1.0, &quot;radius&quot;: 1000, &quot;stroke&quot;: true, &quot;weight&quot;: 3}\n            ).addTo(map_c0087b65c33f1221bdd42313d9ace51c);\n        \n    \n        var popup_4567563993acf4e52eff7e8ac2a4a621 = L.popup({&quot;maxWidth&quot;: &quot;100%&quot;});\n\n        \n            \n                var html_64697f7f249232f0fa5d5ce42171a366 = $(`&lt;div id=&quot;html_64697f7f249232f0fa5d5ce42171a366&quot; style=&quot;width: 100.0%; height: 100.0%;&quot;&gt;VAFB SLC-4E&lt;/div&gt;`)[0];\n                popup_4567563993acf4e52eff7e8ac2a4a621.setContent(html_64697f7f249232f0fa5d5ce42171a366);\n            \n        \n\n        circle_04868b10a7df165c066edb2e09d7e6bb.bindPopup(popup_4567563993acf4e52eff7e8ac2a4a621)\n        ;\n\n        \n    \n    \n            var marker_a4ff103e37a4cad5e5bc85edc7350735 = L.marker(\n                [34.63283416, -120.6107455],\n                {}\n            ).addTo(map_c0087b65c33f1221bdd42313d9ace51c);\n        \n    \n            var div_icon_92684a6020a0583cc9d925b723958270 = L.divIcon({&quot;className&quot;: &quot;empty&quot;, &quot;html&quot;: &quot;\\u003cdiv style=\\&quot;font-size: 12; color:#d35400;\\&quot;\\u003e\\u003cb\\u003eVAFB SLC-4E\\u003c/b\\u003e\\u003c/div\\u003e&quot;, &quot;iconAnchor&quot;: [0, 0], &quot;iconSize&quot;: [20, 20]});\n            marker_a4ff103e37a4cad5e5bc85edc7350735.setIcon(div_icon_92684a6020a0583cc9d925b723958270);\n        \n    \n            tile_layer_cb6e856c8545591cbc08323381b35301.addTo(map_c0087b65c33f1221bdd42313d9ace51c);\n        \n    \n            var marker_cluster_85a24f8fea8d3ef1b25f0c584001e125 = L.markerClusterGroup(\n                {}\n            );\n        \n    \n            var marker_af03a18eb28de9c2f4cf5c89b8311a18 = L.marker(\n                [28.56230197, -80.57735648],\n                {}\n            ).addTo(marker_cluster_85a24f8fea8d3ef1b25f0c584001e125);\n        \n    \n            var icon_5192aa5e929440c39b7033d705fc2e3b = L.AwesomeMarkers.icon(\n                {&quot;extraClasses&quot;: &quot;fa-rotate-0&quot;, &quot;icon&quot;: &quot;info-sign&quot;, &quot;iconColor&quot;: &quot;red&quot;, &quot;markerColor&quot;: &quot;white&quot;, &quot;prefix&quot;: &quot;glyphicon&quot;}\n            );\n            marker_af03a18eb28de9c2f4cf5c89b8311a18.setIcon(icon_5192aa5e929440c39b7033d705fc2e3b);\n        \n    \n            var marker_a9364f61edcd032f820b943f66e419c8 = L.marker(\n                [28.56230197, -80.57735648],\n                {}\n            ).addTo(marker_cluster_85a24f8fea8d3ef1b25f0c584001e125);\n        \n    \n            var icon_8c36ddd59df7b1073edbef28c4656bbe = L.AwesomeMarkers.icon(\n                {&quot;extraClasses&quot;: &quot;fa-rotate-0&quot;, &quot;icon&quot;: &quot;info-sign&quot;, &quot;iconColor&quot;: &quot;red&quot;, &quot;markerColor&quot;: &quot;white&quot;, &quot;prefix&quot;: &quot;glyphicon&quot;}\n            );\n            marker_a9364f61edcd032f820b943f66e419c8.setIcon(icon_8c36ddd59df7b1073edbef28c4656bbe);\n        \n    \n            var marker_d9246b2ab06a3fecd7493893769fdf40 = L.marker(\n                [28.56230197, -80.57735648],\n                {}\n            ).addTo(marker_cluster_85a24f8fea8d3ef1b25f0c584001e125);\n        \n    \n            var icon_197167f638bdd17e25ea4d8306d79e52 = L.AwesomeMarkers.icon(\n                {&quot;extraClasses&quot;: &quot;fa-rotate-0&quot;, &quot;icon&quot;: &quot;info-sign&quot;, &quot;iconColor&quot;: &quot;red&quot;, &quot;markerColor&quot;: &quot;white&quot;, &quot;prefix&quot;: &quot;glyphicon&quot;}\n            );\n            marker_d9246b2ab06a3fecd7493893769fdf40.setIcon(icon_197167f638bdd17e25ea4d8306d79e52);\n        \n    \n            var marker_3580479be2f7ffedcf9617f94d010de0 = L.marker(\n                [28.56230197, -80.57735648],\n                {}\n            ).addTo(marker_cluster_85a24f8fea8d3ef1b25f0c584001e125);\n        \n    \n            var icon_67a37f88e18b86e854faf7a44573f93c = L.AwesomeMarkers.icon(\n                {&quot;extraClasses&quot;: &quot;fa-rotate-0&quot;, &quot;icon&quot;: &quot;info-sign&quot;, &quot;iconColor&quot;: &quot;red&quot;, &quot;markerColor&quot;: &quot;white&quot;, &quot;prefix&quot;: &quot;glyphicon&quot;}\n            );\n            marker_3580479be2f7ffedcf9617f94d010de0.setIcon(icon_67a37f88e18b86e854faf7a44573f93c);\n        \n    \n            var marker_2b08ea7eeb1106abb0253cb359dcb17a = L.marker(\n                [28.56230197, -80.57735648],\n                {}\n            ).addTo(marker_cluster_85a24f8fea8d3ef1b25f0c584001e125);\n        \n    \n            var icon_caac45fcfab1f732b0d618af2a01b3aa = L.AwesomeMarkers.icon(\n                {&quot;extraClasses&quot;: &quot;fa-rotate-0&quot;, &quot;icon&quot;: &quot;info-sign&quot;, &quot;iconColor&quot;: &quot;red&quot;, &quot;markerColor&quot;: &quot;white&quot;, &quot;prefix&quot;: &quot;glyphicon&quot;}\n            );\n            marker_2b08ea7eeb1106abb0253cb359dcb17a.setIcon(icon_caac45fcfab1f732b0d618af2a01b3aa);\n        \n    \n            var marker_eeddecb35811efc5403f8b91f47e80b2 = L.marker(\n                [28.56230197, -80.57735648],\n                {}\n            ).addTo(marker_cluster_85a24f8fea8d3ef1b25f0c584001e125);\n        \n    \n            var icon_b958ad7cd25da14a873dc699220856c2 = L.AwesomeMarkers.icon(\n                {&quot;extraClasses&quot;: &quot;fa-rotate-0&quot;, &quot;icon&quot;: &quot;info-sign&quot;, &quot;iconColor&quot;: &quot;red&quot;, &quot;markerColor&quot;: &quot;white&quot;, &quot;prefix&quot;: &quot;glyphicon&quot;}\n            );\n            marker_eeddecb35811efc5403f8b91f47e80b2.setIcon(icon_b958ad7cd25da14a873dc699220856c2);\n        \n    \n            var marker_cc4bd71c62ca872ec3d06f45999cefea = L.marker(\n                [28.56230197, -80.57735648],\n                {}\n            ).addTo(marker_cluster_85a24f8fea8d3ef1b25f0c584001e125);\n        \n    \n            var icon_09f3b23ef992283e7806e802aa5a93d0 = L.AwesomeMarkers.icon(\n                {&quot;extraClasses&quot;: &quot;fa-rotate-0&quot;, &quot;icon&quot;: &quot;info-sign&quot;, &quot;iconColor&quot;: &quot;red&quot;, &quot;markerColor&quot;: &quot;white&quot;, &quot;prefix&quot;: &quot;glyphicon&quot;}\n            );\n            marker_cc4bd71c62ca872ec3d06f45999cefea.setIcon(icon_09f3b23ef992283e7806e802aa5a93d0);\n        \n    \n            var marker_6ada9c2153a9f595e7258e50e92c7c0b = L.marker(\n                [28.56230197, -80.57735648],\n                {}\n            ).addTo(marker_cluster_85a24f8fea8d3ef1b25f0c584001e125);\n        \n    \n            var icon_3bc5f149fadff9e3b92367807dd2ae47 = L.AwesomeMarkers.icon(\n                {&quot;extraClasses&quot;: &quot;fa-rotate-0&quot;, &quot;icon&quot;: &quot;info-sign&quot;, &quot;iconColor&quot;: &quot;red&quot;, &quot;markerColor&quot;: &quot;white&quot;, &quot;prefix&quot;: &quot;glyphicon&quot;}\n            );\n            marker_6ada9c2153a9f595e7258e50e92c7c0b.setIcon(icon_3bc5f149fadff9e3b92367807dd2ae47);\n        \n    \n            var marker_0dcef8ec13be63148e80c11f6d3ebbc1 = L.marker(\n                [28.56230197, -80.57735648],\n                {}\n            ).addTo(marker_cluster_85a24f8fea8d3ef1b25f0c584001e125);\n        \n    \n            var icon_001622c8c56c3b1a9b319451fc423920 = L.AwesomeMarkers.icon(\n                {&quot;extraClasses&quot;: &quot;fa-rotate-0&quot;, &quot;icon&quot;: &quot;info-sign&quot;, &quot;iconColor&quot;: &quot;red&quot;, &quot;markerColor&quot;: &quot;white&quot;, &quot;prefix&quot;: &quot;glyphicon&quot;}\n            );\n            marker_0dcef8ec13be63148e80c11f6d3ebbc1.setIcon(icon_001622c8c56c3b1a9b319451fc423920);\n        \n    \n            var marker_56ef8885c1c0cefb3b14d55cb3b1bf71 = L.marker(\n                [28.56230197, -80.57735648],\n                {}\n            ).addTo(marker_cluster_85a24f8fea8d3ef1b25f0c584001e125);\n        \n    \n            var icon_60f285f12bee86a3e0b0041cca8ada2b = L.AwesomeMarkers.icon(\n                {&quot;extraClasses&quot;: &quot;fa-rotate-0&quot;, &quot;icon&quot;: &quot;info-sign&quot;, &quot;iconColor&quot;: &quot;red&quot;, &quot;markerColor&quot;: &quot;white&quot;, &quot;prefix&quot;: &quot;glyphicon&quot;}\n            );\n            marker_56ef8885c1c0cefb3b14d55cb3b1bf71.setIcon(icon_60f285f12bee86a3e0b0041cca8ada2b);\n        \n    \n            var marker_aa5f20d63c393cacac4f89f6c30e2977 = L.marker(\n                [28.56230197, -80.57735648],\n                {}\n            ).addTo(marker_cluster_85a24f8fea8d3ef1b25f0c584001e125);\n        \n    \n            var icon_abef2ddb515c50d7fb86196a5f3b43b9 = L.AwesomeMarkers.icon(\n                {&quot;extraClasses&quot;: &quot;fa-rotate-0&quot;, &quot;icon&quot;: &quot;info-sign&quot;, &quot;iconColor&quot;: &quot;red&quot;, &quot;markerColor&quot;: &quot;white&quot;, &quot;prefix&quot;: &quot;glyphicon&quot;}\n            );\n            marker_aa5f20d63c393cacac4f89f6c30e2977.setIcon(icon_abef2ddb515c50d7fb86196a5f3b43b9);\n        \n    \n            var marker_97bbc928c497631905a96ff9b4c1c878 = L.marker(\n                [28.56230197, -80.57735648],\n                {}\n            ).addTo(marker_cluster_85a24f8fea8d3ef1b25f0c584001e125);\n        \n    \n            var icon_bb79a678656c1c53a6cffd83caf5dfcc = L.AwesomeMarkers.icon(\n                {&quot;extraClasses&quot;: &quot;fa-rotate-0&quot;, &quot;icon&quot;: &quot;info-sign&quot;, &quot;iconColor&quot;: &quot;red&quot;, &quot;markerColor&quot;: &quot;white&quot;, &quot;prefix&quot;: &quot;glyphicon&quot;}\n            );\n            marker_97bbc928c497631905a96ff9b4c1c878.setIcon(icon_bb79a678656c1c53a6cffd83caf5dfcc);\n        \n    \n            var marker_8f2396d9fee4b3322ec0c89a6bbcb17c = L.marker(\n                [28.56230197, -80.57735648],\n                {}\n            ).addTo(marker_cluster_85a24f8fea8d3ef1b25f0c584001e125);\n        \n    \n            var icon_2fbc0925b064c10e416d894bf30375f5 = L.AwesomeMarkers.icon(\n                {&quot;extraClasses&quot;: &quot;fa-rotate-0&quot;, &quot;icon&quot;: &quot;info-sign&quot;, &quot;iconColor&quot;: &quot;red&quot;, &quot;markerColor&quot;: &quot;white&quot;, &quot;prefix&quot;: &quot;glyphicon&quot;}\n            );\n            marker_8f2396d9fee4b3322ec0c89a6bbcb17c.setIcon(icon_2fbc0925b064c10e416d894bf30375f5);\n        \n    \n            var marker_1a5869ed21494432789ae6a26ec0f95a = L.marker(\n                [28.56230197, -80.57735648],\n                {}\n            ).addTo(marker_cluster_85a24f8fea8d3ef1b25f0c584001e125);\n        \n    \n            var icon_821b13178f50ef55803097ecbbb1b412 = L.AwesomeMarkers.icon(\n                {&quot;extraClasses&quot;: &quot;fa-rotate-0&quot;, &quot;icon&quot;: &quot;info-sign&quot;, &quot;iconColor&quot;: &quot;red&quot;, &quot;markerColor&quot;: &quot;white&quot;, &quot;prefix&quot;: &quot;glyphicon&quot;}\n            );\n            marker_1a5869ed21494432789ae6a26ec0f95a.setIcon(icon_821b13178f50ef55803097ecbbb1b412);\n        \n    \n            var marker_de776145eeca71393f247349abef7d2b = L.marker(\n                [28.56230197, -80.57735648],\n                {}\n            ).addTo(marker_cluster_85a24f8fea8d3ef1b25f0c584001e125);\n        \n    \n            var icon_4e848a22df1bf223751ce4bf770bd85f = L.AwesomeMarkers.icon(\n                {&quot;extraClasses&quot;: &quot;fa-rotate-0&quot;, &quot;icon&quot;: &quot;info-sign&quot;, &quot;iconColor&quot;: &quot;red&quot;, &quot;markerColor&quot;: &quot;white&quot;, &quot;prefix&quot;: &quot;glyphicon&quot;}\n            );\n            marker_de776145eeca71393f247349abef7d2b.setIcon(icon_4e848a22df1bf223751ce4bf770bd85f);\n        \n    \n            var marker_0c4478c402de694808263b635ff0d66c = L.marker(\n                [28.56230197, -80.57735648],\n                {}\n            ).addTo(marker_cluster_85a24f8fea8d3ef1b25f0c584001e125);\n        \n    \n            var icon_05506bda2814594316c318291e653a93 = L.AwesomeMarkers.icon(\n                {&quot;extraClasses&quot;: &quot;fa-rotate-0&quot;, &quot;icon&quot;: &quot;info-sign&quot;, &quot;iconColor&quot;: &quot;red&quot;, &quot;markerColor&quot;: &quot;white&quot;, &quot;prefix&quot;: &quot;glyphicon&quot;}\n            );\n            marker_0c4478c402de694808263b635ff0d66c.setIcon(icon_05506bda2814594316c318291e653a93);\n        \n    \n            var marker_bac31cb9b5c1f7e3f4de4ac2fb295920 = L.marker(\n                [28.56230197, -80.57735648],\n                {}\n            ).addTo(marker_cluster_85a24f8fea8d3ef1b25f0c584001e125);\n        \n    \n            var icon_2f456e13967e4f267957c1e963523663 = L.AwesomeMarkers.icon(\n                {&quot;extraClasses&quot;: &quot;fa-rotate-0&quot;, &quot;icon&quot;: &quot;info-sign&quot;, &quot;iconColor&quot;: &quot;red&quot;, &quot;markerColor&quot;: &quot;white&quot;, &quot;prefix&quot;: &quot;glyphicon&quot;}\n            );\n            marker_bac31cb9b5c1f7e3f4de4ac2fb295920.setIcon(icon_2f456e13967e4f267957c1e963523663);\n        \n    \n            var marker_1f33dffe442d5c146a5fcee5bdeb47ea = L.marker(\n                [28.56230197, -80.57735648],\n                {}\n            ).addTo(marker_cluster_85a24f8fea8d3ef1b25f0c584001e125);\n        \n    \n            var icon_1838ad5b5b336bd10653ec2b124440f3 = L.AwesomeMarkers.icon(\n                {&quot;extraClasses&quot;: &quot;fa-rotate-0&quot;, &quot;icon&quot;: &quot;info-sign&quot;, &quot;iconColor&quot;: &quot;green&quot;, &quot;markerColor&quot;: &quot;white&quot;, &quot;prefix&quot;: &quot;glyphicon&quot;}\n            );\n            marker_1f33dffe442d5c146a5fcee5bdeb47ea.setIcon(icon_1838ad5b5b336bd10653ec2b124440f3);\n        \n    \n            var marker_8518e7201d80a3519a5b95b6ebec9e52 = L.marker(\n                [28.56230197, -80.57735648],\n                {}\n            ).addTo(marker_cluster_85a24f8fea8d3ef1b25f0c584001e125);\n        \n    \n            var icon_9397e90a21bee9ebfed007eafbf7dea9 = L.AwesomeMarkers.icon(\n                {&quot;extraClasses&quot;: &quot;fa-rotate-0&quot;, &quot;icon&quot;: &quot;info-sign&quot;, &quot;iconColor&quot;: &quot;green&quot;, &quot;markerColor&quot;: &quot;white&quot;, &quot;prefix&quot;: &quot;glyphicon&quot;}\n            );\n            marker_8518e7201d80a3519a5b95b6ebec9e52.setIcon(icon_9397e90a21bee9ebfed007eafbf7dea9);\n        \n    \n            var marker_ef0ea71aa2cb0bf143d5174c8fe2dd74 = L.marker(\n                [28.56230197, -80.57735648],\n                {}\n            ).addTo(marker_cluster_85a24f8fea8d3ef1b25f0c584001e125);\n        \n    \n            var icon_75982ec73f8090aba9ea3b505ef75494 = L.AwesomeMarkers.icon(\n                {&quot;extraClasses&quot;: &quot;fa-rotate-0&quot;, &quot;icon&quot;: &quot;info-sign&quot;, &quot;iconColor&quot;: &quot;red&quot;, &quot;markerColor&quot;: &quot;white&quot;, &quot;prefix&quot;: &quot;glyphicon&quot;}\n            );\n            marker_ef0ea71aa2cb0bf143d5174c8fe2dd74.setIcon(icon_75982ec73f8090aba9ea3b505ef75494);\n        \n    \n            var marker_24b66bf62e58aa715abac82e8af278fd = L.marker(\n                [28.56230197, -80.57735648],\n                {}\n            ).addTo(marker_cluster_85a24f8fea8d3ef1b25f0c584001e125);\n        \n    \n            var icon_ca71f586a59d8b2ff5e331e937129586 = L.AwesomeMarkers.icon(\n                {&quot;extraClasses&quot;: &quot;fa-rotate-0&quot;, &quot;icon&quot;: &quot;info-sign&quot;, &quot;iconColor&quot;: &quot;green&quot;, &quot;markerColor&quot;: &quot;white&quot;, &quot;prefix&quot;: &quot;glyphicon&quot;}\n            );\n            marker_24b66bf62e58aa715abac82e8af278fd.setIcon(icon_ca71f586a59d8b2ff5e331e937129586);\n        \n    \n            var marker_41874dd77c47e0118dff46d8732a644e = L.marker(\n                [28.56230197, -80.57735648],\n                {}\n            ).addTo(marker_cluster_85a24f8fea8d3ef1b25f0c584001e125);\n        \n    \n            var icon_8f2bd993f7bdb136af2d0a53baccb6ae = L.AwesomeMarkers.icon(\n                {&quot;extraClasses&quot;: &quot;fa-rotate-0&quot;, &quot;icon&quot;: &quot;info-sign&quot;, &quot;iconColor&quot;: &quot;green&quot;, &quot;markerColor&quot;: &quot;white&quot;, &quot;prefix&quot;: &quot;glyphicon&quot;}\n            );\n            marker_41874dd77c47e0118dff46d8732a644e.setIcon(icon_8f2bd993f7bdb136af2d0a53baccb6ae);\n        \n    \n            var marker_eb2b1255e76b970fe9d5db3b9ff528af = L.marker(\n                [28.56230197, -80.57735648],\n                {}\n            ).addTo(marker_cluster_85a24f8fea8d3ef1b25f0c584001e125);\n        \n    \n            var icon_28c5e4e83c5ab0673ab44639fbc957be = L.AwesomeMarkers.icon(\n                {&quot;extraClasses&quot;: &quot;fa-rotate-0&quot;, &quot;icon&quot;: &quot;info-sign&quot;, &quot;iconColor&quot;: &quot;green&quot;, &quot;markerColor&quot;: &quot;white&quot;, &quot;prefix&quot;: &quot;glyphicon&quot;}\n            );\n            marker_eb2b1255e76b970fe9d5db3b9ff528af.setIcon(icon_28c5e4e83c5ab0673ab44639fbc957be);\n        \n    \n            var marker_4c04d7088d410521c6c345e5bafb310f = L.marker(\n                [28.56230197, -80.57735648],\n                {}\n            ).addTo(marker_cluster_85a24f8fea8d3ef1b25f0c584001e125);\n        \n    \n            var icon_6d4561c53ee3ed8404af96fcc00d8ee7 = L.AwesomeMarkers.icon(\n                {&quot;extraClasses&quot;: &quot;fa-rotate-0&quot;, &quot;icon&quot;: &quot;info-sign&quot;, &quot;iconColor&quot;: &quot;red&quot;, &quot;markerColor&quot;: &quot;white&quot;, &quot;prefix&quot;: &quot;glyphicon&quot;}\n            );\n            marker_4c04d7088d410521c6c345e5bafb310f.setIcon(icon_6d4561c53ee3ed8404af96fcc00d8ee7);\n        \n    \n            var marker_d8a727e50c9ca30ae4b152b90ea61a1f = L.marker(\n                [28.56230197, -80.57735648],\n                {}\n            ).addTo(marker_cluster_85a24f8fea8d3ef1b25f0c584001e125);\n        \n    \n            var icon_9c724ac07a8890c319eacad59284b884 = L.AwesomeMarkers.icon(\n                {&quot;extraClasses&quot;: &quot;fa-rotate-0&quot;, &quot;icon&quot;: &quot;info-sign&quot;, &quot;iconColor&quot;: &quot;green&quot;, &quot;markerColor&quot;: &quot;white&quot;, &quot;prefix&quot;: &quot;glyphicon&quot;}\n            );\n            marker_d8a727e50c9ca30ae4b152b90ea61a1f.setIcon(icon_9c724ac07a8890c319eacad59284b884);\n        \n    \n            var marker_e32d946569e9ea7ff86e75ef1af0eabf = L.marker(\n                [28.56230197, -80.57735648],\n                {}\n            ).addTo(marker_cluster_85a24f8fea8d3ef1b25f0c584001e125);\n        \n    \n            var icon_cc7e69e373a8477c5973e53ebb8a7a23 = L.AwesomeMarkers.icon(\n                {&quot;extraClasses&quot;: &quot;fa-rotate-0&quot;, &quot;icon&quot;: &quot;info-sign&quot;, &quot;iconColor&quot;: &quot;green&quot;, &quot;markerColor&quot;: &quot;white&quot;, &quot;prefix&quot;: &quot;glyphicon&quot;}\n            );\n            marker_e32d946569e9ea7ff86e75ef1af0eabf.setIcon(icon_cc7e69e373a8477c5973e53ebb8a7a23);\n        \n    \n            var marker_f9f1bb36803fe9ffcd17ce16c2859cf0 = L.marker(\n                [34.63283416, -120.6107455],\n                {}\n            ).addTo(marker_cluster_85a24f8fea8d3ef1b25f0c584001e125);\n        \n    \n            var icon_585acea688a90ca83188dbbba1b18fdf = L.AwesomeMarkers.icon(\n                {&quot;extraClasses&quot;: &quot;fa-rotate-0&quot;, &quot;icon&quot;: &quot;info-sign&quot;, &quot;iconColor&quot;: &quot;red&quot;, &quot;markerColor&quot;: &quot;white&quot;, &quot;prefix&quot;: &quot;glyphicon&quot;}\n            );\n            marker_f9f1bb36803fe9ffcd17ce16c2859cf0.setIcon(icon_585acea688a90ca83188dbbba1b18fdf);\n        \n    \n            var marker_73110571374b5cc35fa0f4b09444adbe = L.marker(\n                [34.63283416, -120.6107455],\n                {}\n            ).addTo(marker_cluster_85a24f8fea8d3ef1b25f0c584001e125);\n        \n    \n            var icon_d9e356a3e0b7d3114858d76f9b62833f = L.AwesomeMarkers.icon(\n                {&quot;extraClasses&quot;: &quot;fa-rotate-0&quot;, &quot;icon&quot;: &quot;info-sign&quot;, &quot;iconColor&quot;: &quot;red&quot;, &quot;markerColor&quot;: &quot;white&quot;, &quot;prefix&quot;: &quot;glyphicon&quot;}\n            );\n            marker_73110571374b5cc35fa0f4b09444adbe.setIcon(icon_d9e356a3e0b7d3114858d76f9b62833f);\n        \n    \n            var marker_4eb4317c25ee22cc19d6e4e7cdeedea9 = L.marker(\n                [34.63283416, -120.6107455],\n                {}\n            ).addTo(marker_cluster_85a24f8fea8d3ef1b25f0c584001e125);\n        \n    \n            var icon_11101727f67baf104f88246b977e9425 = L.AwesomeMarkers.icon(\n                {&quot;extraClasses&quot;: &quot;fa-rotate-0&quot;, &quot;icon&quot;: &quot;info-sign&quot;, &quot;iconColor&quot;: &quot;green&quot;, &quot;markerColor&quot;: &quot;white&quot;, &quot;prefix&quot;: &quot;glyphicon&quot;}\n            );\n            marker_4eb4317c25ee22cc19d6e4e7cdeedea9.setIcon(icon_11101727f67baf104f88246b977e9425);\n        \n    \n            var marker_8234a32896fe87ff972e4e37158c2d6b = L.marker(\n                [34.63283416, -120.6107455],\n                {}\n            ).addTo(marker_cluster_85a24f8fea8d3ef1b25f0c584001e125);\n        \n    \n            var icon_ceb6def7232bd21dc1b2c307ab949192 = L.AwesomeMarkers.icon(\n                {&quot;extraClasses&quot;: &quot;fa-rotate-0&quot;, &quot;icon&quot;: &quot;info-sign&quot;, &quot;iconColor&quot;: &quot;green&quot;, &quot;markerColor&quot;: &quot;white&quot;, &quot;prefix&quot;: &quot;glyphicon&quot;}\n            );\n            marker_8234a32896fe87ff972e4e37158c2d6b.setIcon(icon_ceb6def7232bd21dc1b2c307ab949192);\n        \n    \n            var marker_8e3e8b939d2e770d12041be80536d42b = L.marker(\n                [34.63283416, -120.6107455],\n                {}\n            ).addTo(marker_cluster_85a24f8fea8d3ef1b25f0c584001e125);\n        \n    \n            var icon_9f93ef12966cbb03f4b06e21b29e8233 = L.AwesomeMarkers.icon(\n                {&quot;extraClasses&quot;: &quot;fa-rotate-0&quot;, &quot;icon&quot;: &quot;info-sign&quot;, &quot;iconColor&quot;: &quot;green&quot;, &quot;markerColor&quot;: &quot;white&quot;, &quot;prefix&quot;: &quot;glyphicon&quot;}\n            );\n            marker_8e3e8b939d2e770d12041be80536d42b.setIcon(icon_9f93ef12966cbb03f4b06e21b29e8233);\n        \n    \n            var marker_789075b92b90e197add231ec6e4b20d4 = L.marker(\n                [34.63283416, -120.6107455],\n                {}\n            ).addTo(marker_cluster_85a24f8fea8d3ef1b25f0c584001e125);\n        \n    \n            var icon_540e4037f8dd739669a80f71482147f4 = L.AwesomeMarkers.icon(\n                {&quot;extraClasses&quot;: &quot;fa-rotate-0&quot;, &quot;icon&quot;: &quot;info-sign&quot;, &quot;iconColor&quot;: &quot;green&quot;, &quot;markerColor&quot;: &quot;white&quot;, &quot;prefix&quot;: &quot;glyphicon&quot;}\n            );\n            marker_789075b92b90e197add231ec6e4b20d4.setIcon(icon_540e4037f8dd739669a80f71482147f4);\n        \n    \n            var marker_36a77131442f3aa903e108d1fe1430f4 = L.marker(\n                [34.63283416, -120.6107455],\n                {}\n            ).addTo(marker_cluster_85a24f8fea8d3ef1b25f0c584001e125);\n        \n    \n            var icon_c2b5a2e76f59ae309baa1a4b099f5251 = L.AwesomeMarkers.icon(\n                {&quot;extraClasses&quot;: &quot;fa-rotate-0&quot;, &quot;icon&quot;: &quot;info-sign&quot;, &quot;iconColor&quot;: &quot;red&quot;, &quot;markerColor&quot;: &quot;white&quot;, &quot;prefix&quot;: &quot;glyphicon&quot;}\n            );\n            marker_36a77131442f3aa903e108d1fe1430f4.setIcon(icon_c2b5a2e76f59ae309baa1a4b099f5251);\n        \n    \n            var marker_ec75815e8c980a3fc88618da85bd504d = L.marker(\n                [34.63283416, -120.6107455],\n                {}\n            ).addTo(marker_cluster_85a24f8fea8d3ef1b25f0c584001e125);\n        \n    \n            var icon_c6b03cf298f67fb98bcab97d89dfe36e = L.AwesomeMarkers.icon(\n                {&quot;extraClasses&quot;: &quot;fa-rotate-0&quot;, &quot;icon&quot;: &quot;info-sign&quot;, &quot;iconColor&quot;: &quot;red&quot;, &quot;markerColor&quot;: &quot;white&quot;, &quot;prefix&quot;: &quot;glyphicon&quot;}\n            );\n            marker_ec75815e8c980a3fc88618da85bd504d.setIcon(icon_c6b03cf298f67fb98bcab97d89dfe36e);\n        \n    \n            var marker_af3d271d7f3bc695a4685ace66150dcc = L.marker(\n                [34.63283416, -120.6107455],\n                {}\n            ).addTo(marker_cluster_85a24f8fea8d3ef1b25f0c584001e125);\n        \n    \n            var icon_5e109e3116c66275f8fa19fcd0406171 = L.AwesomeMarkers.icon(\n                {&quot;extraClasses&quot;: &quot;fa-rotate-0&quot;, &quot;icon&quot;: &quot;info-sign&quot;, &quot;iconColor&quot;: &quot;red&quot;, &quot;markerColor&quot;: &quot;white&quot;, &quot;prefix&quot;: &quot;glyphicon&quot;}\n            );\n            marker_af3d271d7f3bc695a4685ace66150dcc.setIcon(icon_5e109e3116c66275f8fa19fcd0406171);\n        \n    \n            var marker_1abe695fb1096022b491b6a49dfe4414 = L.marker(\n                [34.63283416, -120.6107455],\n                {}\n            ).addTo(marker_cluster_85a24f8fea8d3ef1b25f0c584001e125);\n        \n    \n            var icon_fc853cceec92e6098893cd2c17521c2b = L.AwesomeMarkers.icon(\n                {&quot;extraClasses&quot;: &quot;fa-rotate-0&quot;, &quot;icon&quot;: &quot;info-sign&quot;, &quot;iconColor&quot;: &quot;red&quot;, &quot;markerColor&quot;: &quot;white&quot;, &quot;prefix&quot;: &quot;glyphicon&quot;}\n            );\n            marker_1abe695fb1096022b491b6a49dfe4414.setIcon(icon_fc853cceec92e6098893cd2c17521c2b);\n        \n    \n            var marker_8bbb92da3c454e07068d1f831874be71 = L.marker(\n                [28.57325457, -80.64689529],\n                {}\n            ).addTo(marker_cluster_85a24f8fea8d3ef1b25f0c584001e125);\n        \n    \n            var icon_2b381e0e37963206560a8e0c31a41eac = L.AwesomeMarkers.icon(\n                {&quot;extraClasses&quot;: &quot;fa-rotate-0&quot;, &quot;icon&quot;: &quot;info-sign&quot;, &quot;iconColor&quot;: &quot;green&quot;, &quot;markerColor&quot;: &quot;white&quot;, &quot;prefix&quot;: &quot;glyphicon&quot;}\n            );\n            marker_8bbb92da3c454e07068d1f831874be71.setIcon(icon_2b381e0e37963206560a8e0c31a41eac);\n        \n    \n            var marker_c339adaf6aec5f3b75b1ed8bd78c8ae9 = L.marker(\n                [28.57325457, -80.64689529],\n                {}\n            ).addTo(marker_cluster_85a24f8fea8d3ef1b25f0c584001e125);\n        \n    \n            var icon_bfab26ff3139ebcd79436bb4aad66a80 = L.AwesomeMarkers.icon(\n                {&quot;extraClasses&quot;: &quot;fa-rotate-0&quot;, &quot;icon&quot;: &quot;info-sign&quot;, &quot;iconColor&quot;: &quot;red&quot;, &quot;markerColor&quot;: &quot;white&quot;, &quot;prefix&quot;: &quot;glyphicon&quot;}\n            );\n            marker_c339adaf6aec5f3b75b1ed8bd78c8ae9.setIcon(icon_bfab26ff3139ebcd79436bb4aad66a80);\n        \n    \n            var marker_ccd390e5537e8aba69857c006f236af6 = L.marker(\n                [28.57325457, -80.64689529],\n                {}\n            ).addTo(marker_cluster_85a24f8fea8d3ef1b25f0c584001e125);\n        \n    \n            var icon_d7f1ee8b4d69589d8bcc1ac6ecd90da1 = L.AwesomeMarkers.icon(\n                {&quot;extraClasses&quot;: &quot;fa-rotate-0&quot;, &quot;icon&quot;: &quot;info-sign&quot;, &quot;iconColor&quot;: &quot;green&quot;, &quot;markerColor&quot;: &quot;white&quot;, &quot;prefix&quot;: &quot;glyphicon&quot;}\n            );\n            marker_ccd390e5537e8aba69857c006f236af6.setIcon(icon_d7f1ee8b4d69589d8bcc1ac6ecd90da1);\n        \n    \n            var marker_f1f79aff9666d0f16da8e46962f6b5cd = L.marker(\n                [28.57325457, -80.64689529],\n                {}\n            ).addTo(marker_cluster_85a24f8fea8d3ef1b25f0c584001e125);\n        \n    \n            var icon_2b95d7bd515693e97727eaab96bb79c4 = L.AwesomeMarkers.icon(\n                {&quot;extraClasses&quot;: &quot;fa-rotate-0&quot;, &quot;icon&quot;: &quot;info-sign&quot;, &quot;iconColor&quot;: &quot;green&quot;, &quot;markerColor&quot;: &quot;white&quot;, &quot;prefix&quot;: &quot;glyphicon&quot;}\n            );\n            marker_f1f79aff9666d0f16da8e46962f6b5cd.setIcon(icon_2b95d7bd515693e97727eaab96bb79c4);\n        \n    \n            var marker_ffa2ea714e0477f007bda794271d7041 = L.marker(\n                [28.57325457, -80.64689529],\n                {}\n            ).addTo(marker_cluster_85a24f8fea8d3ef1b25f0c584001e125);\n        \n    \n            var icon_d8e75942887eaac84f06ccc60aea2519 = L.AwesomeMarkers.icon(\n                {&quot;extraClasses&quot;: &quot;fa-rotate-0&quot;, &quot;icon&quot;: &quot;info-sign&quot;, &quot;iconColor&quot;: &quot;red&quot;, &quot;markerColor&quot;: &quot;white&quot;, &quot;prefix&quot;: &quot;glyphicon&quot;}\n            );\n            marker_ffa2ea714e0477f007bda794271d7041.setIcon(icon_d8e75942887eaac84f06ccc60aea2519);\n        \n    \n            var marker_202451ac7746931a5bbd093dd1324c43 = L.marker(\n                [28.57325457, -80.64689529],\n                {}\n            ).addTo(marker_cluster_85a24f8fea8d3ef1b25f0c584001e125);\n        \n    \n            var icon_6d7ad29e11ca3694246f133e6aea5da0 = L.AwesomeMarkers.icon(\n                {&quot;extraClasses&quot;: &quot;fa-rotate-0&quot;, &quot;icon&quot;: &quot;info-sign&quot;, &quot;iconColor&quot;: &quot;green&quot;, &quot;markerColor&quot;: &quot;white&quot;, &quot;prefix&quot;: &quot;glyphicon&quot;}\n            );\n            marker_202451ac7746931a5bbd093dd1324c43.setIcon(icon_6d7ad29e11ca3694246f133e6aea5da0);\n        \n    \n            var marker_b97678b7eda3af7266780e44e5b71409 = L.marker(\n                [28.57325457, -80.64689529],\n                {}\n            ).addTo(marker_cluster_85a24f8fea8d3ef1b25f0c584001e125);\n        \n    \n            var icon_cf3357eabe009583a0c46644dfe538dd = L.AwesomeMarkers.icon(\n                {&quot;extraClasses&quot;: &quot;fa-rotate-0&quot;, &quot;icon&quot;: &quot;info-sign&quot;, &quot;iconColor&quot;: &quot;green&quot;, &quot;markerColor&quot;: &quot;white&quot;, &quot;prefix&quot;: &quot;glyphicon&quot;}\n            );\n            marker_b97678b7eda3af7266780e44e5b71409.setIcon(icon_cf3357eabe009583a0c46644dfe538dd);\n        \n    \n            var marker_51eb6ff02e5ca409584bd6f471c3c047 = L.marker(\n                [28.57325457, -80.64689529],\n                {}\n            ).addTo(marker_cluster_85a24f8fea8d3ef1b25f0c584001e125);\n        \n    \n            var icon_731a521300ebfc2242eda8bfac9dd89f = L.AwesomeMarkers.icon(\n                {&quot;extraClasses&quot;: &quot;fa-rotate-0&quot;, &quot;icon&quot;: &quot;info-sign&quot;, &quot;iconColor&quot;: &quot;red&quot;, &quot;markerColor&quot;: &quot;white&quot;, &quot;prefix&quot;: &quot;glyphicon&quot;}\n            );\n            marker_51eb6ff02e5ca409584bd6f471c3c047.setIcon(icon_731a521300ebfc2242eda8bfac9dd89f);\n        \n    \n            var marker_3bb0c3ee0e0bba5ab95a76e5cc4dcfd2 = L.marker(\n                [28.57325457, -80.64689529],\n                {}\n            ).addTo(marker_cluster_85a24f8fea8d3ef1b25f0c584001e125);\n        \n    \n            var icon_62b5908debe3354c9f7d3462d655605a = L.AwesomeMarkers.icon(\n                {&quot;extraClasses&quot;: &quot;fa-rotate-0&quot;, &quot;icon&quot;: &quot;info-sign&quot;, &quot;iconColor&quot;: &quot;green&quot;, &quot;markerColor&quot;: &quot;white&quot;, &quot;prefix&quot;: &quot;glyphicon&quot;}\n            );\n            marker_3bb0c3ee0e0bba5ab95a76e5cc4dcfd2.setIcon(icon_62b5908debe3354c9f7d3462d655605a);\n        \n    \n            var marker_701df387081a432078b3d5670894b139 = L.marker(\n                [28.57325457, -80.64689529],\n                {}\n            ).addTo(marker_cluster_85a24f8fea8d3ef1b25f0c584001e125);\n        \n    \n            var icon_77a6dcf35d5eace04186522d88131c3c = L.AwesomeMarkers.icon(\n                {&quot;extraClasses&quot;: &quot;fa-rotate-0&quot;, &quot;icon&quot;: &quot;info-sign&quot;, &quot;iconColor&quot;: &quot;green&quot;, &quot;markerColor&quot;: &quot;white&quot;, &quot;prefix&quot;: &quot;glyphicon&quot;}\n            );\n            marker_701df387081a432078b3d5670894b139.setIcon(icon_77a6dcf35d5eace04186522d88131c3c);\n        \n    \n            var marker_d4ecf98624a739f9305b2695a6aecd7f = L.marker(\n                [28.57325457, -80.64689529],\n                {}\n            ).addTo(marker_cluster_85a24f8fea8d3ef1b25f0c584001e125);\n        \n    \n            var icon_2ca6f2e452885bdfa81c6de8ed3cdc30 = L.AwesomeMarkers.icon(\n                {&quot;extraClasses&quot;: &quot;fa-rotate-0&quot;, &quot;icon&quot;: &quot;info-sign&quot;, &quot;iconColor&quot;: &quot;green&quot;, &quot;markerColor&quot;: &quot;white&quot;, &quot;prefix&quot;: &quot;glyphicon&quot;}\n            );\n            marker_d4ecf98624a739f9305b2695a6aecd7f.setIcon(icon_2ca6f2e452885bdfa81c6de8ed3cdc30);\n        \n    \n            var marker_cab562e029c551ae8c8d8f3a2c716a5e = L.marker(\n                [28.57325457, -80.64689529],\n                {}\n            ).addTo(marker_cluster_85a24f8fea8d3ef1b25f0c584001e125);\n        \n    \n            var icon_378f5c67f7157c4eb8cc79090bee0333 = L.AwesomeMarkers.icon(\n                {&quot;extraClasses&quot;: &quot;fa-rotate-0&quot;, &quot;icon&quot;: &quot;info-sign&quot;, &quot;iconColor&quot;: &quot;green&quot;, &quot;markerColor&quot;: &quot;white&quot;, &quot;prefix&quot;: &quot;glyphicon&quot;}\n            );\n            marker_cab562e029c551ae8c8d8f3a2c716a5e.setIcon(icon_378f5c67f7157c4eb8cc79090bee0333);\n        \n    \n            var marker_a081946265c9d79d765d5f70a5471272 = L.marker(\n                [28.57325457, -80.64689529],\n                {}\n            ).addTo(marker_cluster_85a24f8fea8d3ef1b25f0c584001e125);\n        \n    \n            var icon_badae3cdbc07f33d4ddc71596bab9f03 = L.AwesomeMarkers.icon(\n                {&quot;extraClasses&quot;: &quot;fa-rotate-0&quot;, &quot;icon&quot;: &quot;info-sign&quot;, &quot;iconColor&quot;: &quot;green&quot;, &quot;markerColor&quot;: &quot;white&quot;, &quot;prefix&quot;: &quot;glyphicon&quot;}\n            );\n            marker_a081946265c9d79d765d5f70a5471272.setIcon(icon_badae3cdbc07f33d4ddc71596bab9f03);\n        \n    \n            var marker_68f96955c1a940b90a3148ccbbf52405 = L.marker(\n                [28.56319718, -80.57682003],\n                {}\n            ).addTo(marker_cluster_85a24f8fea8d3ef1b25f0c584001e125);\n        \n    \n            var icon_78b21b5bec8ad94e13a3f9a40805d4f4 = L.AwesomeMarkers.icon(\n                {&quot;extraClasses&quot;: &quot;fa-rotate-0&quot;, &quot;icon&quot;: &quot;info-sign&quot;, &quot;iconColor&quot;: &quot;green&quot;, &quot;markerColor&quot;: &quot;white&quot;, &quot;prefix&quot;: &quot;glyphicon&quot;}\n            );\n            marker_68f96955c1a940b90a3148ccbbf52405.setIcon(icon_78b21b5bec8ad94e13a3f9a40805d4f4);\n        \n    \n            var marker_ce715b9fe34ca3cb51da564d0b40e15c = L.marker(\n                [28.56319718, -80.57682003],\n                {}\n            ).addTo(marker_cluster_85a24f8fea8d3ef1b25f0c584001e125);\n        \n    \n            var icon_2834cb36b552f956deb6560cc94e6488 = L.AwesomeMarkers.icon(\n                {&quot;extraClasses&quot;: &quot;fa-rotate-0&quot;, &quot;icon&quot;: &quot;info-sign&quot;, &quot;iconColor&quot;: &quot;green&quot;, &quot;markerColor&quot;: &quot;white&quot;, &quot;prefix&quot;: &quot;glyphicon&quot;}\n            );\n            marker_ce715b9fe34ca3cb51da564d0b40e15c.setIcon(icon_2834cb36b552f956deb6560cc94e6488);\n        \n    \n            var marker_3b86d99eed4926c0125fd89b0bce6fd0 = L.marker(\n                [28.56319718, -80.57682003],\n                {}\n            ).addTo(marker_cluster_85a24f8fea8d3ef1b25f0c584001e125);\n        \n    \n            var icon_cbe336f741383b562a102a646daacfb9 = L.AwesomeMarkers.icon(\n                {&quot;extraClasses&quot;: &quot;fa-rotate-0&quot;, &quot;icon&quot;: &quot;info-sign&quot;, &quot;iconColor&quot;: &quot;red&quot;, &quot;markerColor&quot;: &quot;white&quot;, &quot;prefix&quot;: &quot;glyphicon&quot;}\n            );\n            marker_3b86d99eed4926c0125fd89b0bce6fd0.setIcon(icon_cbe336f741383b562a102a646daacfb9);\n        \n    \n            var marker_9e33370b62e372505de3db4cbc4b9e7e = L.marker(\n                [28.56319718, -80.57682003],\n                {}\n            ).addTo(marker_cluster_85a24f8fea8d3ef1b25f0c584001e125);\n        \n    \n            var icon_c4e760ffa8c221a8a8eb930629e0a270 = L.AwesomeMarkers.icon(\n                {&quot;extraClasses&quot;: &quot;fa-rotate-0&quot;, &quot;icon&quot;: &quot;info-sign&quot;, &quot;iconColor&quot;: &quot;red&quot;, &quot;markerColor&quot;: &quot;white&quot;, &quot;prefix&quot;: &quot;glyphicon&quot;}\n            );\n            marker_9e33370b62e372505de3db4cbc4b9e7e.setIcon(icon_c4e760ffa8c221a8a8eb930629e0a270);\n        \n    \n            var marker_5b341bfd1295636ac6ff4214682d8020 = L.marker(\n                [28.56319718, -80.57682003],\n                {}\n            ).addTo(marker_cluster_85a24f8fea8d3ef1b25f0c584001e125);\n        \n    \n            var icon_782e494d644ed4e02086aab2838c4167 = L.AwesomeMarkers.icon(\n                {&quot;extraClasses&quot;: &quot;fa-rotate-0&quot;, &quot;icon&quot;: &quot;info-sign&quot;, &quot;iconColor&quot;: &quot;red&quot;, &quot;markerColor&quot;: &quot;white&quot;, &quot;prefix&quot;: &quot;glyphicon&quot;}\n            );\n            marker_5b341bfd1295636ac6ff4214682d8020.setIcon(icon_782e494d644ed4e02086aab2838c4167);\n        \n    \n            var marker_004236b2937b30a15f827c3637bb4467 = L.marker(\n                [28.56319718, -80.57682003],\n                {}\n            ).addTo(marker_cluster_85a24f8fea8d3ef1b25f0c584001e125);\n        \n    \n            var icon_2cf66db86826c4a4fd78e76963df0b2b = L.AwesomeMarkers.icon(\n                {&quot;extraClasses&quot;: &quot;fa-rotate-0&quot;, &quot;icon&quot;: &quot;info-sign&quot;, &quot;iconColor&quot;: &quot;green&quot;, &quot;markerColor&quot;: &quot;white&quot;, &quot;prefix&quot;: &quot;glyphicon&quot;}\n            );\n            marker_004236b2937b30a15f827c3637bb4467.setIcon(icon_2cf66db86826c4a4fd78e76963df0b2b);\n        \n    \n            var marker_a88b5073a9ec2f952b3c6cc01f1ab29f = L.marker(\n                [28.56319718, -80.57682003],\n                {}\n            ).addTo(marker_cluster_85a24f8fea8d3ef1b25f0c584001e125);\n        \n    \n            var icon_5afebb706e4d6cfa97964fcbe4b31b10 = L.AwesomeMarkers.icon(\n                {&quot;extraClasses&quot;: &quot;fa-rotate-0&quot;, &quot;icon&quot;: &quot;info-sign&quot;, &quot;iconColor&quot;: &quot;red&quot;, &quot;markerColor&quot;: &quot;white&quot;, &quot;prefix&quot;: &quot;glyphicon&quot;}\n            );\n            marker_a88b5073a9ec2f952b3c6cc01f1ab29f.setIcon(icon_5afebb706e4d6cfa97964fcbe4b31b10);\n        \n    \n            marker_cluster_85a24f8fea8d3ef1b25f0c584001e125.addTo(map_c0087b65c33f1221bdd42313d9ace51c);\n        \n&lt;/script&gt;\n&lt;/html&gt;\" style=\"position:absolute;width:100%;height:100%;left:0;top:0;border:none !important;\" allowfullscreen webkitallowfullscreen mozallowfullscreen></iframe></div></div>"
     },
     "metadata": {}
    }
   ],
   "execution_count": 21
  },
  {
   "cell_type": "markdown",
   "source": [
    "Your updated map may look like the following screenshots:\n"
   ],
   "metadata": {
    "pycharm": {
     "name": "#%% md\n"
    }
   }
  },
  {
   "cell_type": "markdown",
   "source": [
    "<center>\n",
    "    <img src=\"https://cf-courses-data.s3.us.cloud-object-storage.appdomain.cloud/IBM-DS0321EN-SkillsNetwork/labs/module_3/images/launch_site_marker_cluster.png\">\n",
    "</center>\n"
   ],
   "metadata": {
    "pycharm": {
     "name": "#%% md\n"
    }
   }
  },
  {
   "cell_type": "markdown",
   "source": [
    "<center>\n",
    "    <img src=\"https://cf-courses-data.s3.us.cloud-object-storage.appdomain.cloud/IBM-DS0321EN-SkillsNetwork/labs/module_3/images/launch_site_marker_cluster_zoomed.png\">\n",
    "</center>\n"
   ],
   "metadata": {
    "pycharm": {
     "name": "#%% md\n"
    }
   }
  },
  {
   "cell_type": "markdown",
   "source": [
    "From the color-labeled markers in marker clusters, you should be able to easily identify which launch sites have relatively high success rates.\n"
   ],
   "metadata": {
    "pycharm": {
     "name": "#%% md\n"
    }
   }
  },
  {
   "cell_type": "code",
   "source": [
    "# TASK 3: Calculate the distances between a launch site to its proximities\n"
   ],
   "metadata": {
    "pycharm": {
     "name": "#%%\n"
    }
   },
   "outputs": [],
   "execution_count": null
  },
  {
   "cell_type": "markdown",
   "source": [
    "Next, we need to explore and analyze the proximities of launch sites.\n"
   ],
   "metadata": {
    "pycharm": {
     "name": "#%% md\n"
    }
   }
  },
  {
   "cell_type": "markdown",
   "source": [
    "Let's first add a `MousePosition` on the map to get coordinate for a mouse over a point on the map. As such, while you are exploring the map, you can easily find the coordinates of any points of interests (such as railway)\n"
   ],
   "metadata": {
    "pycharm": {
     "name": "#%% md\n"
    }
   }
  },
  {
   "cell_type": "code",
   "source": [
    "# Add Mouse Position to get the coordinate (Lat, Long) for a mouse over on the map\n",
    "formatter = \"function(num) {return L.Util.formatNum(num, 5);};\"\n",
    "mouse_position = MousePosition(\n",
    "    position='topright',\n",
    "    separator=' Long: ',\n",
    "    empty_string='NaN',\n",
    "    lng_first=False,\n",
    "    num_digits=20,\n",
    "    prefix='Lat:',\n",
    "    lat_formatter=formatter,\n",
    "    lng_formatter=formatter,\n",
    ")\n",
    "\n",
    "site_map.add_child(mouse_position)\n",
    "site_map"
   ],
   "metadata": {
    "trusted": true,
    "pycharm": {
     "name": "#%%\n"
    }
   },
   "outputs": [
    {
     "execution_count": 22,
     "output_type": "execute_result",
     "data": {
      "text/plain": "<folium.folium.Map at 0x56f0388>",
      "text/html": "<div style=\"width:100%;\"><div style=\"position:relative;width:100%;height:0;padding-bottom:60%;\"><span style=\"color:#565656\">Make this Notebook Trusted to load map: File -> Trust Notebook</span><iframe srcdoc=\"&lt;!DOCTYPE html&gt;\n&lt;html&gt;\n&lt;head&gt;\n    \n    &lt;meta http-equiv=&quot;content-type&quot; content=&quot;text/html; charset=UTF-8&quot; /&gt;\n    \n        &lt;script&gt;\n            L_NO_TOUCH = false;\n            L_DISABLE_3D = false;\n        &lt;/script&gt;\n    \n    &lt;style&gt;html, body {width: 100%;height: 100%;margin: 0;padding: 0;}&lt;/style&gt;\n    &lt;style&gt;#map {position:absolute;top:0;bottom:0;right:0;left:0;}&lt;/style&gt;\n    &lt;script src=&quot;https://cdn.jsdelivr.net/npm/leaflet@1.9.3/dist/leaflet.js&quot;&gt;&lt;/script&gt;\n    &lt;script src=&quot;https://code.jquery.com/jquery-3.7.1.min.js&quot;&gt;&lt;/script&gt;\n    &lt;script src=&quot;https://cdn.jsdelivr.net/npm/bootstrap@5.2.2/dist/js/bootstrap.bundle.min.js&quot;&gt;&lt;/script&gt;\n    &lt;script src=&quot;https://cdnjs.cloudflare.com/ajax/libs/Leaflet.awesome-markers/2.0.2/leaflet.awesome-markers.js&quot;&gt;&lt;/script&gt;\n    &lt;link rel=&quot;stylesheet&quot; href=&quot;https://cdn.jsdelivr.net/npm/leaflet@1.9.3/dist/leaflet.css&quot;/&gt;\n    &lt;link rel=&quot;stylesheet&quot; href=&quot;https://cdn.jsdelivr.net/npm/bootstrap@5.2.2/dist/css/bootstrap.min.css&quot;/&gt;\n    &lt;link rel=&quot;stylesheet&quot; href=&quot;https://netdna.bootstrapcdn.com/bootstrap/3.0.0/css/bootstrap.min.css&quot;/&gt;\n    &lt;link rel=&quot;stylesheet&quot; href=&quot;https://cdn.jsdelivr.net/npm/@fortawesome/fontawesome-free@6.2.0/css/all.min.css&quot;/&gt;\n    &lt;link rel=&quot;stylesheet&quot; href=&quot;https://cdnjs.cloudflare.com/ajax/libs/Leaflet.awesome-markers/2.0.2/leaflet.awesome-markers.css&quot;/&gt;\n    &lt;link rel=&quot;stylesheet&quot; href=&quot;https://cdn.jsdelivr.net/gh/python-visualization/folium/folium/templates/leaflet.awesome.rotate.min.css&quot;/&gt;\n    \n            &lt;meta name=&quot;viewport&quot; content=&quot;width=device-width,\n                initial-scale=1.0, maximum-scale=1.0, user-scalable=no&quot; /&gt;\n            &lt;style&gt;\n                #map_c0087b65c33f1221bdd42313d9ace51c {\n                    position: relative;\n                    width: 100.0%;\n                    height: 100.0%;\n                    left: 0.0%;\n                    top: 0.0%;\n                }\n                .leaflet-container { font-size: 1rem; }\n            &lt;/style&gt;\n        \n    &lt;script src=&quot;https://cdnjs.cloudflare.com/ajax/libs/leaflet.markercluster/1.1.0/leaflet.markercluster.js&quot;&gt;&lt;/script&gt;\n    &lt;link rel=&quot;stylesheet&quot; href=&quot;https://cdnjs.cloudflare.com/ajax/libs/leaflet.markercluster/1.1.0/MarkerCluster.css&quot;/&gt;\n    &lt;link rel=&quot;stylesheet&quot; href=&quot;https://cdnjs.cloudflare.com/ajax/libs/leaflet.markercluster/1.1.0/MarkerCluster.Default.css&quot;/&gt;\n    &lt;script src=&quot;https://cdn.jsdelivr.net/gh/ardhi/Leaflet.MousePosition/src/L.Control.MousePosition.min.js&quot;&gt;&lt;/script&gt;\n    &lt;link rel=&quot;stylesheet&quot; href=&quot;https://cdn.jsdelivr.net/gh/ardhi/Leaflet.MousePosition/src/L.Control.MousePosition.min.css&quot;/&gt;\n&lt;/head&gt;\n&lt;body&gt;\n    \n    \n            &lt;div class=&quot;folium-map&quot; id=&quot;map_c0087b65c33f1221bdd42313d9ace51c&quot; &gt;&lt;/div&gt;\n        \n&lt;/body&gt;\n&lt;script&gt;\n    \n    \n            var map_c0087b65c33f1221bdd42313d9ace51c = L.map(\n                &quot;map_c0087b65c33f1221bdd42313d9ace51c&quot;,\n                {\n                    center: [29.559684888503615, -95.0830971930759],\n                    crs: L.CRS.EPSG3857,\n                    zoom: 5,\n                    zoomControl: true,\n                    preferCanvas: false,\n                }\n            );\n\n            \n\n        \n    \n            var tile_layer_cb6e856c8545591cbc08323381b35301 = L.tileLayer(\n                &quot;https://tile.openstreetmap.org/{z}/{x}/{y}.png&quot;,\n                {&quot;attribution&quot;: &quot;\\u0026copy; \\u003ca href=\\&quot;https://www.openstreetmap.org/copyright\\&quot;\\u003eOpenStreetMap\\u003c/a\\u003e contributors&quot;, &quot;detectRetina&quot;: false, &quot;maxNativeZoom&quot;: 19, &quot;maxZoom&quot;: 19, &quot;minZoom&quot;: 0, &quot;noWrap&quot;: false, &quot;opacity&quot;: 1, &quot;subdomains&quot;: &quot;abc&quot;, &quot;tms&quot;: false}\n            );\n        \n    \n            tile_layer_cb6e856c8545591cbc08323381b35301.addTo(map_c0087b65c33f1221bdd42313d9ace51c);\n        \n    \n            var circle_821b849cc4bce345d9dc117fb4c14998 = L.circle(\n                [28.56230197, -80.57735648],\n                {&quot;bubblingMouseEvents&quot;: true, &quot;color&quot;: &quot;#d35400&quot;, &quot;dashArray&quot;: null, &quot;dashOffset&quot;: null, &quot;fill&quot;: true, &quot;fillColor&quot;: &quot;#d35400&quot;, &quot;fillOpacity&quot;: 0.2, &quot;fillRule&quot;: &quot;evenodd&quot;, &quot;lineCap&quot;: &quot;round&quot;, &quot;lineJoin&quot;: &quot;round&quot;, &quot;opacity&quot;: 1.0, &quot;radius&quot;: 1000, &quot;stroke&quot;: true, &quot;weight&quot;: 3}\n            ).addTo(map_c0087b65c33f1221bdd42313d9ace51c);\n        \n    \n        var popup_1538523f08ac5bbaa382bf2b2eeff7bd = L.popup({&quot;maxWidth&quot;: &quot;100%&quot;});\n\n        \n            \n                var html_d9f7db6ec423a5108ddb5c36af02eb3b = $(`&lt;div id=&quot;html_d9f7db6ec423a5108ddb5c36af02eb3b&quot; style=&quot;width: 100.0%; height: 100.0%;&quot;&gt;CCAFS LC-40&lt;/div&gt;`)[0];\n                popup_1538523f08ac5bbaa382bf2b2eeff7bd.setContent(html_d9f7db6ec423a5108ddb5c36af02eb3b);\n            \n        \n\n        circle_821b849cc4bce345d9dc117fb4c14998.bindPopup(popup_1538523f08ac5bbaa382bf2b2eeff7bd)\n        ;\n\n        \n    \n    \n            var marker_5500f5cefcc52c2a5c754d2c493960ad = L.marker(\n                [28.56230197, -80.57735648],\n                {}\n            ).addTo(map_c0087b65c33f1221bdd42313d9ace51c);\n        \n    \n            var div_icon_0fb233b171fcf252bb2c9899ace8b422 = L.divIcon({&quot;className&quot;: &quot;empty&quot;, &quot;html&quot;: &quot;\\u003cdiv style=\\&quot;font-size: 12; color:#d35400;\\&quot;\\u003e\\u003cb\\u003eCCAFS LC-40\\u003c/b\\u003e\\u003c/div\\u003e&quot;, &quot;iconAnchor&quot;: [0, 0], &quot;iconSize&quot;: [20, 20]});\n            marker_5500f5cefcc52c2a5c754d2c493960ad.setIcon(div_icon_0fb233b171fcf252bb2c9899ace8b422);\n        \n    \n            var circle_a07e25249792296da027e0888a7f17d1 = L.circle(\n                [28.56319718, -80.57682003],\n                {&quot;bubblingMouseEvents&quot;: true, &quot;color&quot;: &quot;#d35400&quot;, &quot;dashArray&quot;: null, &quot;dashOffset&quot;: null, &quot;fill&quot;: true, &quot;fillColor&quot;: &quot;#d35400&quot;, &quot;fillOpacity&quot;: 0.2, &quot;fillRule&quot;: &quot;evenodd&quot;, &quot;lineCap&quot;: &quot;round&quot;, &quot;lineJoin&quot;: &quot;round&quot;, &quot;opacity&quot;: 1.0, &quot;radius&quot;: 1000, &quot;stroke&quot;: true, &quot;weight&quot;: 3}\n            ).addTo(map_c0087b65c33f1221bdd42313d9ace51c);\n        \n    \n        var popup_05083dc5e66df1d134160334917444f0 = L.popup({&quot;maxWidth&quot;: &quot;100%&quot;});\n\n        \n            \n                var html_0b172c7524994cd34e8fa150d4602fd5 = $(`&lt;div id=&quot;html_0b172c7524994cd34e8fa150d4602fd5&quot; style=&quot;width: 100.0%; height: 100.0%;&quot;&gt;CCAFS SLC-40&lt;/div&gt;`)[0];\n                popup_05083dc5e66df1d134160334917444f0.setContent(html_0b172c7524994cd34e8fa150d4602fd5);\n            \n        \n\n        circle_a07e25249792296da027e0888a7f17d1.bindPopup(popup_05083dc5e66df1d134160334917444f0)\n        ;\n\n        \n    \n    \n            var marker_92945c637ffe445496da5df7968bc079 = L.marker(\n                [28.56319718, -80.57682003],\n                {}\n            ).addTo(map_c0087b65c33f1221bdd42313d9ace51c);\n        \n    \n            var div_icon_0f8b437bdb292c4149daabf6a9b581d0 = L.divIcon({&quot;className&quot;: &quot;empty&quot;, &quot;html&quot;: &quot;\\u003cdiv style=\\&quot;font-size: 12; color:#d35400;\\&quot;\\u003e\\u003cb\\u003eCCAFS SLC-40\\u003c/b\\u003e\\u003c/div\\u003e&quot;, &quot;iconAnchor&quot;: [0, 0], &quot;iconSize&quot;: [20, 20]});\n            marker_92945c637ffe445496da5df7968bc079.setIcon(div_icon_0f8b437bdb292c4149daabf6a9b581d0);\n        \n    \n            var circle_729118812a135d54ee8d24459b1ce398 = L.circle(\n                [28.57325457, -80.64689529],\n                {&quot;bubblingMouseEvents&quot;: true, &quot;color&quot;: &quot;#d35400&quot;, &quot;dashArray&quot;: null, &quot;dashOffset&quot;: null, &quot;fill&quot;: true, &quot;fillColor&quot;: &quot;#d35400&quot;, &quot;fillOpacity&quot;: 0.2, &quot;fillRule&quot;: &quot;evenodd&quot;, &quot;lineCap&quot;: &quot;round&quot;, &quot;lineJoin&quot;: &quot;round&quot;, &quot;opacity&quot;: 1.0, &quot;radius&quot;: 1000, &quot;stroke&quot;: true, &quot;weight&quot;: 3}\n            ).addTo(map_c0087b65c33f1221bdd42313d9ace51c);\n        \n    \n        var popup_21628a981c605a0a77f13bfb0d380f75 = L.popup({&quot;maxWidth&quot;: &quot;100%&quot;});\n\n        \n            \n                var html_13f2302360b7552f5c3929b2c90bfe69 = $(`&lt;div id=&quot;html_13f2302360b7552f5c3929b2c90bfe69&quot; style=&quot;width: 100.0%; height: 100.0%;&quot;&gt;KSC LC-39A&lt;/div&gt;`)[0];\n                popup_21628a981c605a0a77f13bfb0d380f75.setContent(html_13f2302360b7552f5c3929b2c90bfe69);\n            \n        \n\n        circle_729118812a135d54ee8d24459b1ce398.bindPopup(popup_21628a981c605a0a77f13bfb0d380f75)\n        ;\n\n        \n    \n    \n            var marker_f87ea1745a224a95e8f737b003d1a86e = L.marker(\n                [28.57325457, -80.64689529],\n                {}\n            ).addTo(map_c0087b65c33f1221bdd42313d9ace51c);\n        \n    \n            var div_icon_5262fb64a22ecea6d9d6e04ce156cfb0 = L.divIcon({&quot;className&quot;: &quot;empty&quot;, &quot;html&quot;: &quot;\\u003cdiv style=\\&quot;font-size: 12; color:#d35400;\\&quot;\\u003e\\u003cb\\u003eKSC LC-39A\\u003c/b\\u003e\\u003c/div\\u003e&quot;, &quot;iconAnchor&quot;: [0, 0], &quot;iconSize&quot;: [20, 20]});\n            marker_f87ea1745a224a95e8f737b003d1a86e.setIcon(div_icon_5262fb64a22ecea6d9d6e04ce156cfb0);\n        \n    \n            var circle_04868b10a7df165c066edb2e09d7e6bb = L.circle(\n                [34.63283416, -120.6107455],\n                {&quot;bubblingMouseEvents&quot;: true, &quot;color&quot;: &quot;#d35400&quot;, &quot;dashArray&quot;: null, &quot;dashOffset&quot;: null, &quot;fill&quot;: true, &quot;fillColor&quot;: &quot;#d35400&quot;, &quot;fillOpacity&quot;: 0.2, &quot;fillRule&quot;: &quot;evenodd&quot;, &quot;lineCap&quot;: &quot;round&quot;, &quot;lineJoin&quot;: &quot;round&quot;, &quot;opacity&quot;: 1.0, &quot;radius&quot;: 1000, &quot;stroke&quot;: true, &quot;weight&quot;: 3}\n            ).addTo(map_c0087b65c33f1221bdd42313d9ace51c);\n        \n    \n        var popup_4567563993acf4e52eff7e8ac2a4a621 = L.popup({&quot;maxWidth&quot;: &quot;100%&quot;});\n\n        \n            \n                var html_64697f7f249232f0fa5d5ce42171a366 = $(`&lt;div id=&quot;html_64697f7f249232f0fa5d5ce42171a366&quot; style=&quot;width: 100.0%; height: 100.0%;&quot;&gt;VAFB SLC-4E&lt;/div&gt;`)[0];\n                popup_4567563993acf4e52eff7e8ac2a4a621.setContent(html_64697f7f249232f0fa5d5ce42171a366);\n            \n        \n\n        circle_04868b10a7df165c066edb2e09d7e6bb.bindPopup(popup_4567563993acf4e52eff7e8ac2a4a621)\n        ;\n\n        \n    \n    \n            var marker_a4ff103e37a4cad5e5bc85edc7350735 = L.marker(\n                [34.63283416, -120.6107455],\n                {}\n            ).addTo(map_c0087b65c33f1221bdd42313d9ace51c);\n        \n    \n            var div_icon_92684a6020a0583cc9d925b723958270 = L.divIcon({&quot;className&quot;: &quot;empty&quot;, &quot;html&quot;: &quot;\\u003cdiv style=\\&quot;font-size: 12; color:#d35400;\\&quot;\\u003e\\u003cb\\u003eVAFB SLC-4E\\u003c/b\\u003e\\u003c/div\\u003e&quot;, &quot;iconAnchor&quot;: [0, 0], &quot;iconSize&quot;: [20, 20]});\n            marker_a4ff103e37a4cad5e5bc85edc7350735.setIcon(div_icon_92684a6020a0583cc9d925b723958270);\n        \n    \n            tile_layer_cb6e856c8545591cbc08323381b35301.addTo(map_c0087b65c33f1221bdd42313d9ace51c);\n        \n    \n            var marker_cluster_85a24f8fea8d3ef1b25f0c584001e125 = L.markerClusterGroup(\n                {}\n            );\n        \n    \n            var marker_af03a18eb28de9c2f4cf5c89b8311a18 = L.marker(\n                [28.56230197, -80.57735648],\n                {}\n            ).addTo(marker_cluster_85a24f8fea8d3ef1b25f0c584001e125);\n        \n    \n            var icon_5192aa5e929440c39b7033d705fc2e3b = L.AwesomeMarkers.icon(\n                {&quot;extraClasses&quot;: &quot;fa-rotate-0&quot;, &quot;icon&quot;: &quot;info-sign&quot;, &quot;iconColor&quot;: &quot;red&quot;, &quot;markerColor&quot;: &quot;white&quot;, &quot;prefix&quot;: &quot;glyphicon&quot;}\n            );\n            marker_af03a18eb28de9c2f4cf5c89b8311a18.setIcon(icon_5192aa5e929440c39b7033d705fc2e3b);\n        \n    \n            var marker_a9364f61edcd032f820b943f66e419c8 = L.marker(\n                [28.56230197, -80.57735648],\n                {}\n            ).addTo(marker_cluster_85a24f8fea8d3ef1b25f0c584001e125);\n        \n    \n            var icon_8c36ddd59df7b1073edbef28c4656bbe = L.AwesomeMarkers.icon(\n                {&quot;extraClasses&quot;: &quot;fa-rotate-0&quot;, &quot;icon&quot;: &quot;info-sign&quot;, &quot;iconColor&quot;: &quot;red&quot;, &quot;markerColor&quot;: &quot;white&quot;, &quot;prefix&quot;: &quot;glyphicon&quot;}\n            );\n            marker_a9364f61edcd032f820b943f66e419c8.setIcon(icon_8c36ddd59df7b1073edbef28c4656bbe);\n        \n    \n            var marker_d9246b2ab06a3fecd7493893769fdf40 = L.marker(\n                [28.56230197, -80.57735648],\n                {}\n            ).addTo(marker_cluster_85a24f8fea8d3ef1b25f0c584001e125);\n        \n    \n            var icon_197167f638bdd17e25ea4d8306d79e52 = L.AwesomeMarkers.icon(\n                {&quot;extraClasses&quot;: &quot;fa-rotate-0&quot;, &quot;icon&quot;: &quot;info-sign&quot;, &quot;iconColor&quot;: &quot;red&quot;, &quot;markerColor&quot;: &quot;white&quot;, &quot;prefix&quot;: &quot;glyphicon&quot;}\n            );\n            marker_d9246b2ab06a3fecd7493893769fdf40.setIcon(icon_197167f638bdd17e25ea4d8306d79e52);\n        \n    \n            var marker_3580479be2f7ffedcf9617f94d010de0 = L.marker(\n                [28.56230197, -80.57735648],\n                {}\n            ).addTo(marker_cluster_85a24f8fea8d3ef1b25f0c584001e125);\n        \n    \n            var icon_67a37f88e18b86e854faf7a44573f93c = L.AwesomeMarkers.icon(\n                {&quot;extraClasses&quot;: &quot;fa-rotate-0&quot;, &quot;icon&quot;: &quot;info-sign&quot;, &quot;iconColor&quot;: &quot;red&quot;, &quot;markerColor&quot;: &quot;white&quot;, &quot;prefix&quot;: &quot;glyphicon&quot;}\n            );\n            marker_3580479be2f7ffedcf9617f94d010de0.setIcon(icon_67a37f88e18b86e854faf7a44573f93c);\n        \n    \n            var marker_2b08ea7eeb1106abb0253cb359dcb17a = L.marker(\n                [28.56230197, -80.57735648],\n                {}\n            ).addTo(marker_cluster_85a24f8fea8d3ef1b25f0c584001e125);\n        \n    \n            var icon_caac45fcfab1f732b0d618af2a01b3aa = L.AwesomeMarkers.icon(\n                {&quot;extraClasses&quot;: &quot;fa-rotate-0&quot;, &quot;icon&quot;: &quot;info-sign&quot;, &quot;iconColor&quot;: &quot;red&quot;, &quot;markerColor&quot;: &quot;white&quot;, &quot;prefix&quot;: &quot;glyphicon&quot;}\n            );\n            marker_2b08ea7eeb1106abb0253cb359dcb17a.setIcon(icon_caac45fcfab1f732b0d618af2a01b3aa);\n        \n    \n            var marker_eeddecb35811efc5403f8b91f47e80b2 = L.marker(\n                [28.56230197, -80.57735648],\n                {}\n            ).addTo(marker_cluster_85a24f8fea8d3ef1b25f0c584001e125);\n        \n    \n            var icon_b958ad7cd25da14a873dc699220856c2 = L.AwesomeMarkers.icon(\n                {&quot;extraClasses&quot;: &quot;fa-rotate-0&quot;, &quot;icon&quot;: &quot;info-sign&quot;, &quot;iconColor&quot;: &quot;red&quot;, &quot;markerColor&quot;: &quot;white&quot;, &quot;prefix&quot;: &quot;glyphicon&quot;}\n            );\n            marker_eeddecb35811efc5403f8b91f47e80b2.setIcon(icon_b958ad7cd25da14a873dc699220856c2);\n        \n    \n            var marker_cc4bd71c62ca872ec3d06f45999cefea = L.marker(\n                [28.56230197, -80.57735648],\n                {}\n            ).addTo(marker_cluster_85a24f8fea8d3ef1b25f0c584001e125);\n        \n    \n            var icon_09f3b23ef992283e7806e802aa5a93d0 = L.AwesomeMarkers.icon(\n                {&quot;extraClasses&quot;: &quot;fa-rotate-0&quot;, &quot;icon&quot;: &quot;info-sign&quot;, &quot;iconColor&quot;: &quot;red&quot;, &quot;markerColor&quot;: &quot;white&quot;, &quot;prefix&quot;: &quot;glyphicon&quot;}\n            );\n            marker_cc4bd71c62ca872ec3d06f45999cefea.setIcon(icon_09f3b23ef992283e7806e802aa5a93d0);\n        \n    \n            var marker_6ada9c2153a9f595e7258e50e92c7c0b = L.marker(\n                [28.56230197, -80.57735648],\n                {}\n            ).addTo(marker_cluster_85a24f8fea8d3ef1b25f0c584001e125);\n        \n    \n            var icon_3bc5f149fadff9e3b92367807dd2ae47 = L.AwesomeMarkers.icon(\n                {&quot;extraClasses&quot;: &quot;fa-rotate-0&quot;, &quot;icon&quot;: &quot;info-sign&quot;, &quot;iconColor&quot;: &quot;red&quot;, &quot;markerColor&quot;: &quot;white&quot;, &quot;prefix&quot;: &quot;glyphicon&quot;}\n            );\n            marker_6ada9c2153a9f595e7258e50e92c7c0b.setIcon(icon_3bc5f149fadff9e3b92367807dd2ae47);\n        \n    \n            var marker_0dcef8ec13be63148e80c11f6d3ebbc1 = L.marker(\n                [28.56230197, -80.57735648],\n                {}\n            ).addTo(marker_cluster_85a24f8fea8d3ef1b25f0c584001e125);\n        \n    \n            var icon_001622c8c56c3b1a9b319451fc423920 = L.AwesomeMarkers.icon(\n                {&quot;extraClasses&quot;: &quot;fa-rotate-0&quot;, &quot;icon&quot;: &quot;info-sign&quot;, &quot;iconColor&quot;: &quot;red&quot;, &quot;markerColor&quot;: &quot;white&quot;, &quot;prefix&quot;: &quot;glyphicon&quot;}\n            );\n            marker_0dcef8ec13be63148e80c11f6d3ebbc1.setIcon(icon_001622c8c56c3b1a9b319451fc423920);\n        \n    \n            var marker_56ef8885c1c0cefb3b14d55cb3b1bf71 = L.marker(\n                [28.56230197, -80.57735648],\n                {}\n            ).addTo(marker_cluster_85a24f8fea8d3ef1b25f0c584001e125);\n        \n    \n            var icon_60f285f12bee86a3e0b0041cca8ada2b = L.AwesomeMarkers.icon(\n                {&quot;extraClasses&quot;: &quot;fa-rotate-0&quot;, &quot;icon&quot;: &quot;info-sign&quot;, &quot;iconColor&quot;: &quot;red&quot;, &quot;markerColor&quot;: &quot;white&quot;, &quot;prefix&quot;: &quot;glyphicon&quot;}\n            );\n            marker_56ef8885c1c0cefb3b14d55cb3b1bf71.setIcon(icon_60f285f12bee86a3e0b0041cca8ada2b);\n        \n    \n            var marker_aa5f20d63c393cacac4f89f6c30e2977 = L.marker(\n                [28.56230197, -80.57735648],\n                {}\n            ).addTo(marker_cluster_85a24f8fea8d3ef1b25f0c584001e125);\n        \n    \n            var icon_abef2ddb515c50d7fb86196a5f3b43b9 = L.AwesomeMarkers.icon(\n                {&quot;extraClasses&quot;: &quot;fa-rotate-0&quot;, &quot;icon&quot;: &quot;info-sign&quot;, &quot;iconColor&quot;: &quot;red&quot;, &quot;markerColor&quot;: &quot;white&quot;, &quot;prefix&quot;: &quot;glyphicon&quot;}\n            );\n            marker_aa5f20d63c393cacac4f89f6c30e2977.setIcon(icon_abef2ddb515c50d7fb86196a5f3b43b9);\n        \n    \n            var marker_97bbc928c497631905a96ff9b4c1c878 = L.marker(\n                [28.56230197, -80.57735648],\n                {}\n            ).addTo(marker_cluster_85a24f8fea8d3ef1b25f0c584001e125);\n        \n    \n            var icon_bb79a678656c1c53a6cffd83caf5dfcc = L.AwesomeMarkers.icon(\n                {&quot;extraClasses&quot;: &quot;fa-rotate-0&quot;, &quot;icon&quot;: &quot;info-sign&quot;, &quot;iconColor&quot;: &quot;red&quot;, &quot;markerColor&quot;: &quot;white&quot;, &quot;prefix&quot;: &quot;glyphicon&quot;}\n            );\n            marker_97bbc928c497631905a96ff9b4c1c878.setIcon(icon_bb79a678656c1c53a6cffd83caf5dfcc);\n        \n    \n            var marker_8f2396d9fee4b3322ec0c89a6bbcb17c = L.marker(\n                [28.56230197, -80.57735648],\n                {}\n            ).addTo(marker_cluster_85a24f8fea8d3ef1b25f0c584001e125);\n        \n    \n            var icon_2fbc0925b064c10e416d894bf30375f5 = L.AwesomeMarkers.icon(\n                {&quot;extraClasses&quot;: &quot;fa-rotate-0&quot;, &quot;icon&quot;: &quot;info-sign&quot;, &quot;iconColor&quot;: &quot;red&quot;, &quot;markerColor&quot;: &quot;white&quot;, &quot;prefix&quot;: &quot;glyphicon&quot;}\n            );\n            marker_8f2396d9fee4b3322ec0c89a6bbcb17c.setIcon(icon_2fbc0925b064c10e416d894bf30375f5);\n        \n    \n            var marker_1a5869ed21494432789ae6a26ec0f95a = L.marker(\n                [28.56230197, -80.57735648],\n                {}\n            ).addTo(marker_cluster_85a24f8fea8d3ef1b25f0c584001e125);\n        \n    \n            var icon_821b13178f50ef55803097ecbbb1b412 = L.AwesomeMarkers.icon(\n                {&quot;extraClasses&quot;: &quot;fa-rotate-0&quot;, &quot;icon&quot;: &quot;info-sign&quot;, &quot;iconColor&quot;: &quot;red&quot;, &quot;markerColor&quot;: &quot;white&quot;, &quot;prefix&quot;: &quot;glyphicon&quot;}\n            );\n            marker_1a5869ed21494432789ae6a26ec0f95a.setIcon(icon_821b13178f50ef55803097ecbbb1b412);\n        \n    \n            var marker_de776145eeca71393f247349abef7d2b = L.marker(\n                [28.56230197, -80.57735648],\n                {}\n            ).addTo(marker_cluster_85a24f8fea8d3ef1b25f0c584001e125);\n        \n    \n            var icon_4e848a22df1bf223751ce4bf770bd85f = L.AwesomeMarkers.icon(\n                {&quot;extraClasses&quot;: &quot;fa-rotate-0&quot;, &quot;icon&quot;: &quot;info-sign&quot;, &quot;iconColor&quot;: &quot;red&quot;, &quot;markerColor&quot;: &quot;white&quot;, &quot;prefix&quot;: &quot;glyphicon&quot;}\n            );\n            marker_de776145eeca71393f247349abef7d2b.setIcon(icon_4e848a22df1bf223751ce4bf770bd85f);\n        \n    \n            var marker_0c4478c402de694808263b635ff0d66c = L.marker(\n                [28.56230197, -80.57735648],\n                {}\n            ).addTo(marker_cluster_85a24f8fea8d3ef1b25f0c584001e125);\n        \n    \n            var icon_05506bda2814594316c318291e653a93 = L.AwesomeMarkers.icon(\n                {&quot;extraClasses&quot;: &quot;fa-rotate-0&quot;, &quot;icon&quot;: &quot;info-sign&quot;, &quot;iconColor&quot;: &quot;red&quot;, &quot;markerColor&quot;: &quot;white&quot;, &quot;prefix&quot;: &quot;glyphicon&quot;}\n            );\n            marker_0c4478c402de694808263b635ff0d66c.setIcon(icon_05506bda2814594316c318291e653a93);\n        \n    \n            var marker_bac31cb9b5c1f7e3f4de4ac2fb295920 = L.marker(\n                [28.56230197, -80.57735648],\n                {}\n            ).addTo(marker_cluster_85a24f8fea8d3ef1b25f0c584001e125);\n        \n    \n            var icon_2f456e13967e4f267957c1e963523663 = L.AwesomeMarkers.icon(\n                {&quot;extraClasses&quot;: &quot;fa-rotate-0&quot;, &quot;icon&quot;: &quot;info-sign&quot;, &quot;iconColor&quot;: &quot;red&quot;, &quot;markerColor&quot;: &quot;white&quot;, &quot;prefix&quot;: &quot;glyphicon&quot;}\n            );\n            marker_bac31cb9b5c1f7e3f4de4ac2fb295920.setIcon(icon_2f456e13967e4f267957c1e963523663);\n        \n    \n            var marker_1f33dffe442d5c146a5fcee5bdeb47ea = L.marker(\n                [28.56230197, -80.57735648],\n                {}\n            ).addTo(marker_cluster_85a24f8fea8d3ef1b25f0c584001e125);\n        \n    \n            var icon_1838ad5b5b336bd10653ec2b124440f3 = L.AwesomeMarkers.icon(\n                {&quot;extraClasses&quot;: &quot;fa-rotate-0&quot;, &quot;icon&quot;: &quot;info-sign&quot;, &quot;iconColor&quot;: &quot;green&quot;, &quot;markerColor&quot;: &quot;white&quot;, &quot;prefix&quot;: &quot;glyphicon&quot;}\n            );\n            marker_1f33dffe442d5c146a5fcee5bdeb47ea.setIcon(icon_1838ad5b5b336bd10653ec2b124440f3);\n        \n    \n            var marker_8518e7201d80a3519a5b95b6ebec9e52 = L.marker(\n                [28.56230197, -80.57735648],\n                {}\n            ).addTo(marker_cluster_85a24f8fea8d3ef1b25f0c584001e125);\n        \n    \n            var icon_9397e90a21bee9ebfed007eafbf7dea9 = L.AwesomeMarkers.icon(\n                {&quot;extraClasses&quot;: &quot;fa-rotate-0&quot;, &quot;icon&quot;: &quot;info-sign&quot;, &quot;iconColor&quot;: &quot;green&quot;, &quot;markerColor&quot;: &quot;white&quot;, &quot;prefix&quot;: &quot;glyphicon&quot;}\n            );\n            marker_8518e7201d80a3519a5b95b6ebec9e52.setIcon(icon_9397e90a21bee9ebfed007eafbf7dea9);\n        \n    \n            var marker_ef0ea71aa2cb0bf143d5174c8fe2dd74 = L.marker(\n                [28.56230197, -80.57735648],\n                {}\n            ).addTo(marker_cluster_85a24f8fea8d3ef1b25f0c584001e125);\n        \n    \n            var icon_75982ec73f8090aba9ea3b505ef75494 = L.AwesomeMarkers.icon(\n                {&quot;extraClasses&quot;: &quot;fa-rotate-0&quot;, &quot;icon&quot;: &quot;info-sign&quot;, &quot;iconColor&quot;: &quot;red&quot;, &quot;markerColor&quot;: &quot;white&quot;, &quot;prefix&quot;: &quot;glyphicon&quot;}\n            );\n            marker_ef0ea71aa2cb0bf143d5174c8fe2dd74.setIcon(icon_75982ec73f8090aba9ea3b505ef75494);\n        \n    \n            var marker_24b66bf62e58aa715abac82e8af278fd = L.marker(\n                [28.56230197, -80.57735648],\n                {}\n            ).addTo(marker_cluster_85a24f8fea8d3ef1b25f0c584001e125);\n        \n    \n            var icon_ca71f586a59d8b2ff5e331e937129586 = L.AwesomeMarkers.icon(\n                {&quot;extraClasses&quot;: &quot;fa-rotate-0&quot;, &quot;icon&quot;: &quot;info-sign&quot;, &quot;iconColor&quot;: &quot;green&quot;, &quot;markerColor&quot;: &quot;white&quot;, &quot;prefix&quot;: &quot;glyphicon&quot;}\n            );\n            marker_24b66bf62e58aa715abac82e8af278fd.setIcon(icon_ca71f586a59d8b2ff5e331e937129586);\n        \n    \n            var marker_41874dd77c47e0118dff46d8732a644e = L.marker(\n                [28.56230197, -80.57735648],\n                {}\n            ).addTo(marker_cluster_85a24f8fea8d3ef1b25f0c584001e125);\n        \n    \n            var icon_8f2bd993f7bdb136af2d0a53baccb6ae = L.AwesomeMarkers.icon(\n                {&quot;extraClasses&quot;: &quot;fa-rotate-0&quot;, &quot;icon&quot;: &quot;info-sign&quot;, &quot;iconColor&quot;: &quot;green&quot;, &quot;markerColor&quot;: &quot;white&quot;, &quot;prefix&quot;: &quot;glyphicon&quot;}\n            );\n            marker_41874dd77c47e0118dff46d8732a644e.setIcon(icon_8f2bd993f7bdb136af2d0a53baccb6ae);\n        \n    \n            var marker_eb2b1255e76b970fe9d5db3b9ff528af = L.marker(\n                [28.56230197, -80.57735648],\n                {}\n            ).addTo(marker_cluster_85a24f8fea8d3ef1b25f0c584001e125);\n        \n    \n            var icon_28c5e4e83c5ab0673ab44639fbc957be = L.AwesomeMarkers.icon(\n                {&quot;extraClasses&quot;: &quot;fa-rotate-0&quot;, &quot;icon&quot;: &quot;info-sign&quot;, &quot;iconColor&quot;: &quot;green&quot;, &quot;markerColor&quot;: &quot;white&quot;, &quot;prefix&quot;: &quot;glyphicon&quot;}\n            );\n            marker_eb2b1255e76b970fe9d5db3b9ff528af.setIcon(icon_28c5e4e83c5ab0673ab44639fbc957be);\n        \n    \n            var marker_4c04d7088d410521c6c345e5bafb310f = L.marker(\n                [28.56230197, -80.57735648],\n                {}\n            ).addTo(marker_cluster_85a24f8fea8d3ef1b25f0c584001e125);\n        \n    \n            var icon_6d4561c53ee3ed8404af96fcc00d8ee7 = L.AwesomeMarkers.icon(\n                {&quot;extraClasses&quot;: &quot;fa-rotate-0&quot;, &quot;icon&quot;: &quot;info-sign&quot;, &quot;iconColor&quot;: &quot;red&quot;, &quot;markerColor&quot;: &quot;white&quot;, &quot;prefix&quot;: &quot;glyphicon&quot;}\n            );\n            marker_4c04d7088d410521c6c345e5bafb310f.setIcon(icon_6d4561c53ee3ed8404af96fcc00d8ee7);\n        \n    \n            var marker_d8a727e50c9ca30ae4b152b90ea61a1f = L.marker(\n                [28.56230197, -80.57735648],\n                {}\n            ).addTo(marker_cluster_85a24f8fea8d3ef1b25f0c584001e125);\n        \n    \n            var icon_9c724ac07a8890c319eacad59284b884 = L.AwesomeMarkers.icon(\n                {&quot;extraClasses&quot;: &quot;fa-rotate-0&quot;, &quot;icon&quot;: &quot;info-sign&quot;, &quot;iconColor&quot;: &quot;green&quot;, &quot;markerColor&quot;: &quot;white&quot;, &quot;prefix&quot;: &quot;glyphicon&quot;}\n            );\n            marker_d8a727e50c9ca30ae4b152b90ea61a1f.setIcon(icon_9c724ac07a8890c319eacad59284b884);\n        \n    \n            var marker_e32d946569e9ea7ff86e75ef1af0eabf = L.marker(\n                [28.56230197, -80.57735648],\n                {}\n            ).addTo(marker_cluster_85a24f8fea8d3ef1b25f0c584001e125);\n        \n    \n            var icon_cc7e69e373a8477c5973e53ebb8a7a23 = L.AwesomeMarkers.icon(\n                {&quot;extraClasses&quot;: &quot;fa-rotate-0&quot;, &quot;icon&quot;: &quot;info-sign&quot;, &quot;iconColor&quot;: &quot;green&quot;, &quot;markerColor&quot;: &quot;white&quot;, &quot;prefix&quot;: &quot;glyphicon&quot;}\n            );\n            marker_e32d946569e9ea7ff86e75ef1af0eabf.setIcon(icon_cc7e69e373a8477c5973e53ebb8a7a23);\n        \n    \n            var marker_f9f1bb36803fe9ffcd17ce16c2859cf0 = L.marker(\n                [34.63283416, -120.6107455],\n                {}\n            ).addTo(marker_cluster_85a24f8fea8d3ef1b25f0c584001e125);\n        \n    \n            var icon_585acea688a90ca83188dbbba1b18fdf = L.AwesomeMarkers.icon(\n                {&quot;extraClasses&quot;: &quot;fa-rotate-0&quot;, &quot;icon&quot;: &quot;info-sign&quot;, &quot;iconColor&quot;: &quot;red&quot;, &quot;markerColor&quot;: &quot;white&quot;, &quot;prefix&quot;: &quot;glyphicon&quot;}\n            );\n            marker_f9f1bb36803fe9ffcd17ce16c2859cf0.setIcon(icon_585acea688a90ca83188dbbba1b18fdf);\n        \n    \n            var marker_73110571374b5cc35fa0f4b09444adbe = L.marker(\n                [34.63283416, -120.6107455],\n                {}\n            ).addTo(marker_cluster_85a24f8fea8d3ef1b25f0c584001e125);\n        \n    \n            var icon_d9e356a3e0b7d3114858d76f9b62833f = L.AwesomeMarkers.icon(\n                {&quot;extraClasses&quot;: &quot;fa-rotate-0&quot;, &quot;icon&quot;: &quot;info-sign&quot;, &quot;iconColor&quot;: &quot;red&quot;, &quot;markerColor&quot;: &quot;white&quot;, &quot;prefix&quot;: &quot;glyphicon&quot;}\n            );\n            marker_73110571374b5cc35fa0f4b09444adbe.setIcon(icon_d9e356a3e0b7d3114858d76f9b62833f);\n        \n    \n            var marker_4eb4317c25ee22cc19d6e4e7cdeedea9 = L.marker(\n                [34.63283416, -120.6107455],\n                {}\n            ).addTo(marker_cluster_85a24f8fea8d3ef1b25f0c584001e125);\n        \n    \n            var icon_11101727f67baf104f88246b977e9425 = L.AwesomeMarkers.icon(\n                {&quot;extraClasses&quot;: &quot;fa-rotate-0&quot;, &quot;icon&quot;: &quot;info-sign&quot;, &quot;iconColor&quot;: &quot;green&quot;, &quot;markerColor&quot;: &quot;white&quot;, &quot;prefix&quot;: &quot;glyphicon&quot;}\n            );\n            marker_4eb4317c25ee22cc19d6e4e7cdeedea9.setIcon(icon_11101727f67baf104f88246b977e9425);\n        \n    \n            var marker_8234a32896fe87ff972e4e37158c2d6b = L.marker(\n                [34.63283416, -120.6107455],\n                {}\n            ).addTo(marker_cluster_85a24f8fea8d3ef1b25f0c584001e125);\n        \n    \n            var icon_ceb6def7232bd21dc1b2c307ab949192 = L.AwesomeMarkers.icon(\n                {&quot;extraClasses&quot;: &quot;fa-rotate-0&quot;, &quot;icon&quot;: &quot;info-sign&quot;, &quot;iconColor&quot;: &quot;green&quot;, &quot;markerColor&quot;: &quot;white&quot;, &quot;prefix&quot;: &quot;glyphicon&quot;}\n            );\n            marker_8234a32896fe87ff972e4e37158c2d6b.setIcon(icon_ceb6def7232bd21dc1b2c307ab949192);\n        \n    \n            var marker_8e3e8b939d2e770d12041be80536d42b = L.marker(\n                [34.63283416, -120.6107455],\n                {}\n            ).addTo(marker_cluster_85a24f8fea8d3ef1b25f0c584001e125);\n        \n    \n            var icon_9f93ef12966cbb03f4b06e21b29e8233 = L.AwesomeMarkers.icon(\n                {&quot;extraClasses&quot;: &quot;fa-rotate-0&quot;, &quot;icon&quot;: &quot;info-sign&quot;, &quot;iconColor&quot;: &quot;green&quot;, &quot;markerColor&quot;: &quot;white&quot;, &quot;prefix&quot;: &quot;glyphicon&quot;}\n            );\n            marker_8e3e8b939d2e770d12041be80536d42b.setIcon(icon_9f93ef12966cbb03f4b06e21b29e8233);\n        \n    \n            var marker_789075b92b90e197add231ec6e4b20d4 = L.marker(\n                [34.63283416, -120.6107455],\n                {}\n            ).addTo(marker_cluster_85a24f8fea8d3ef1b25f0c584001e125);\n        \n    \n            var icon_540e4037f8dd739669a80f71482147f4 = L.AwesomeMarkers.icon(\n                {&quot;extraClasses&quot;: &quot;fa-rotate-0&quot;, &quot;icon&quot;: &quot;info-sign&quot;, &quot;iconColor&quot;: &quot;green&quot;, &quot;markerColor&quot;: &quot;white&quot;, &quot;prefix&quot;: &quot;glyphicon&quot;}\n            );\n            marker_789075b92b90e197add231ec6e4b20d4.setIcon(icon_540e4037f8dd739669a80f71482147f4);\n        \n    \n            var marker_36a77131442f3aa903e108d1fe1430f4 = L.marker(\n                [34.63283416, -120.6107455],\n                {}\n            ).addTo(marker_cluster_85a24f8fea8d3ef1b25f0c584001e125);\n        \n    \n            var icon_c2b5a2e76f59ae309baa1a4b099f5251 = L.AwesomeMarkers.icon(\n                {&quot;extraClasses&quot;: &quot;fa-rotate-0&quot;, &quot;icon&quot;: &quot;info-sign&quot;, &quot;iconColor&quot;: &quot;red&quot;, &quot;markerColor&quot;: &quot;white&quot;, &quot;prefix&quot;: &quot;glyphicon&quot;}\n            );\n            marker_36a77131442f3aa903e108d1fe1430f4.setIcon(icon_c2b5a2e76f59ae309baa1a4b099f5251);\n        \n    \n            var marker_ec75815e8c980a3fc88618da85bd504d = L.marker(\n                [34.63283416, -120.6107455],\n                {}\n            ).addTo(marker_cluster_85a24f8fea8d3ef1b25f0c584001e125);\n        \n    \n            var icon_c6b03cf298f67fb98bcab97d89dfe36e = L.AwesomeMarkers.icon(\n                {&quot;extraClasses&quot;: &quot;fa-rotate-0&quot;, &quot;icon&quot;: &quot;info-sign&quot;, &quot;iconColor&quot;: &quot;red&quot;, &quot;markerColor&quot;: &quot;white&quot;, &quot;prefix&quot;: &quot;glyphicon&quot;}\n            );\n            marker_ec75815e8c980a3fc88618da85bd504d.setIcon(icon_c6b03cf298f67fb98bcab97d89dfe36e);\n        \n    \n            var marker_af3d271d7f3bc695a4685ace66150dcc = L.marker(\n                [34.63283416, -120.6107455],\n                {}\n            ).addTo(marker_cluster_85a24f8fea8d3ef1b25f0c584001e125);\n        \n    \n            var icon_5e109e3116c66275f8fa19fcd0406171 = L.AwesomeMarkers.icon(\n                {&quot;extraClasses&quot;: &quot;fa-rotate-0&quot;, &quot;icon&quot;: &quot;info-sign&quot;, &quot;iconColor&quot;: &quot;red&quot;, &quot;markerColor&quot;: &quot;white&quot;, &quot;prefix&quot;: &quot;glyphicon&quot;}\n            );\n            marker_af3d271d7f3bc695a4685ace66150dcc.setIcon(icon_5e109e3116c66275f8fa19fcd0406171);\n        \n    \n            var marker_1abe695fb1096022b491b6a49dfe4414 = L.marker(\n                [34.63283416, -120.6107455],\n                {}\n            ).addTo(marker_cluster_85a24f8fea8d3ef1b25f0c584001e125);\n        \n    \n            var icon_fc853cceec92e6098893cd2c17521c2b = L.AwesomeMarkers.icon(\n                {&quot;extraClasses&quot;: &quot;fa-rotate-0&quot;, &quot;icon&quot;: &quot;info-sign&quot;, &quot;iconColor&quot;: &quot;red&quot;, &quot;markerColor&quot;: &quot;white&quot;, &quot;prefix&quot;: &quot;glyphicon&quot;}\n            );\n            marker_1abe695fb1096022b491b6a49dfe4414.setIcon(icon_fc853cceec92e6098893cd2c17521c2b);\n        \n    \n            var marker_8bbb92da3c454e07068d1f831874be71 = L.marker(\n                [28.57325457, -80.64689529],\n                {}\n            ).addTo(marker_cluster_85a24f8fea8d3ef1b25f0c584001e125);\n        \n    \n            var icon_2b381e0e37963206560a8e0c31a41eac = L.AwesomeMarkers.icon(\n                {&quot;extraClasses&quot;: &quot;fa-rotate-0&quot;, &quot;icon&quot;: &quot;info-sign&quot;, &quot;iconColor&quot;: &quot;green&quot;, &quot;markerColor&quot;: &quot;white&quot;, &quot;prefix&quot;: &quot;glyphicon&quot;}\n            );\n            marker_8bbb92da3c454e07068d1f831874be71.setIcon(icon_2b381e0e37963206560a8e0c31a41eac);\n        \n    \n            var marker_c339adaf6aec5f3b75b1ed8bd78c8ae9 = L.marker(\n                [28.57325457, -80.64689529],\n                {}\n            ).addTo(marker_cluster_85a24f8fea8d3ef1b25f0c584001e125);\n        \n    \n            var icon_bfab26ff3139ebcd79436bb4aad66a80 = L.AwesomeMarkers.icon(\n                {&quot;extraClasses&quot;: &quot;fa-rotate-0&quot;, &quot;icon&quot;: &quot;info-sign&quot;, &quot;iconColor&quot;: &quot;red&quot;, &quot;markerColor&quot;: &quot;white&quot;, &quot;prefix&quot;: &quot;glyphicon&quot;}\n            );\n            marker_c339adaf6aec5f3b75b1ed8bd78c8ae9.setIcon(icon_bfab26ff3139ebcd79436bb4aad66a80);\n        \n    \n            var marker_ccd390e5537e8aba69857c006f236af6 = L.marker(\n                [28.57325457, -80.64689529],\n                {}\n            ).addTo(marker_cluster_85a24f8fea8d3ef1b25f0c584001e125);\n        \n    \n            var icon_d7f1ee8b4d69589d8bcc1ac6ecd90da1 = L.AwesomeMarkers.icon(\n                {&quot;extraClasses&quot;: &quot;fa-rotate-0&quot;, &quot;icon&quot;: &quot;info-sign&quot;, &quot;iconColor&quot;: &quot;green&quot;, &quot;markerColor&quot;: &quot;white&quot;, &quot;prefix&quot;: &quot;glyphicon&quot;}\n            );\n            marker_ccd390e5537e8aba69857c006f236af6.setIcon(icon_d7f1ee8b4d69589d8bcc1ac6ecd90da1);\n        \n    \n            var marker_f1f79aff9666d0f16da8e46962f6b5cd = L.marker(\n                [28.57325457, -80.64689529],\n                {}\n            ).addTo(marker_cluster_85a24f8fea8d3ef1b25f0c584001e125);\n        \n    \n            var icon_2b95d7bd515693e97727eaab96bb79c4 = L.AwesomeMarkers.icon(\n                {&quot;extraClasses&quot;: &quot;fa-rotate-0&quot;, &quot;icon&quot;: &quot;info-sign&quot;, &quot;iconColor&quot;: &quot;green&quot;, &quot;markerColor&quot;: &quot;white&quot;, &quot;prefix&quot;: &quot;glyphicon&quot;}\n            );\n            marker_f1f79aff9666d0f16da8e46962f6b5cd.setIcon(icon_2b95d7bd515693e97727eaab96bb79c4);\n        \n    \n            var marker_ffa2ea714e0477f007bda794271d7041 = L.marker(\n                [28.57325457, -80.64689529],\n                {}\n            ).addTo(marker_cluster_85a24f8fea8d3ef1b25f0c584001e125);\n        \n    \n            var icon_d8e75942887eaac84f06ccc60aea2519 = L.AwesomeMarkers.icon(\n                {&quot;extraClasses&quot;: &quot;fa-rotate-0&quot;, &quot;icon&quot;: &quot;info-sign&quot;, &quot;iconColor&quot;: &quot;red&quot;, &quot;markerColor&quot;: &quot;white&quot;, &quot;prefix&quot;: &quot;glyphicon&quot;}\n            );\n            marker_ffa2ea714e0477f007bda794271d7041.setIcon(icon_d8e75942887eaac84f06ccc60aea2519);\n        \n    \n            var marker_202451ac7746931a5bbd093dd1324c43 = L.marker(\n                [28.57325457, -80.64689529],\n                {}\n            ).addTo(marker_cluster_85a24f8fea8d3ef1b25f0c584001e125);\n        \n    \n            var icon_6d7ad29e11ca3694246f133e6aea5da0 = L.AwesomeMarkers.icon(\n                {&quot;extraClasses&quot;: &quot;fa-rotate-0&quot;, &quot;icon&quot;: &quot;info-sign&quot;, &quot;iconColor&quot;: &quot;green&quot;, &quot;markerColor&quot;: &quot;white&quot;, &quot;prefix&quot;: &quot;glyphicon&quot;}\n            );\n            marker_202451ac7746931a5bbd093dd1324c43.setIcon(icon_6d7ad29e11ca3694246f133e6aea5da0);\n        \n    \n            var marker_b97678b7eda3af7266780e44e5b71409 = L.marker(\n                [28.57325457, -80.64689529],\n                {}\n            ).addTo(marker_cluster_85a24f8fea8d3ef1b25f0c584001e125);\n        \n    \n            var icon_cf3357eabe009583a0c46644dfe538dd = L.AwesomeMarkers.icon(\n                {&quot;extraClasses&quot;: &quot;fa-rotate-0&quot;, &quot;icon&quot;: &quot;info-sign&quot;, &quot;iconColor&quot;: &quot;green&quot;, &quot;markerColor&quot;: &quot;white&quot;, &quot;prefix&quot;: &quot;glyphicon&quot;}\n            );\n            marker_b97678b7eda3af7266780e44e5b71409.setIcon(icon_cf3357eabe009583a0c46644dfe538dd);\n        \n    \n            var marker_51eb6ff02e5ca409584bd6f471c3c047 = L.marker(\n                [28.57325457, -80.64689529],\n                {}\n            ).addTo(marker_cluster_85a24f8fea8d3ef1b25f0c584001e125);\n        \n    \n            var icon_731a521300ebfc2242eda8bfac9dd89f = L.AwesomeMarkers.icon(\n                {&quot;extraClasses&quot;: &quot;fa-rotate-0&quot;, &quot;icon&quot;: &quot;info-sign&quot;, &quot;iconColor&quot;: &quot;red&quot;, &quot;markerColor&quot;: &quot;white&quot;, &quot;prefix&quot;: &quot;glyphicon&quot;}\n            );\n            marker_51eb6ff02e5ca409584bd6f471c3c047.setIcon(icon_731a521300ebfc2242eda8bfac9dd89f);\n        \n    \n            var marker_3bb0c3ee0e0bba5ab95a76e5cc4dcfd2 = L.marker(\n                [28.57325457, -80.64689529],\n                {}\n            ).addTo(marker_cluster_85a24f8fea8d3ef1b25f0c584001e125);\n        \n    \n            var icon_62b5908debe3354c9f7d3462d655605a = L.AwesomeMarkers.icon(\n                {&quot;extraClasses&quot;: &quot;fa-rotate-0&quot;, &quot;icon&quot;: &quot;info-sign&quot;, &quot;iconColor&quot;: &quot;green&quot;, &quot;markerColor&quot;: &quot;white&quot;, &quot;prefix&quot;: &quot;glyphicon&quot;}\n            );\n            marker_3bb0c3ee0e0bba5ab95a76e5cc4dcfd2.setIcon(icon_62b5908debe3354c9f7d3462d655605a);\n        \n    \n            var marker_701df387081a432078b3d5670894b139 = L.marker(\n                [28.57325457, -80.64689529],\n                {}\n            ).addTo(marker_cluster_85a24f8fea8d3ef1b25f0c584001e125);\n        \n    \n            var icon_77a6dcf35d5eace04186522d88131c3c = L.AwesomeMarkers.icon(\n                {&quot;extraClasses&quot;: &quot;fa-rotate-0&quot;, &quot;icon&quot;: &quot;info-sign&quot;, &quot;iconColor&quot;: &quot;green&quot;, &quot;markerColor&quot;: &quot;white&quot;, &quot;prefix&quot;: &quot;glyphicon&quot;}\n            );\n            marker_701df387081a432078b3d5670894b139.setIcon(icon_77a6dcf35d5eace04186522d88131c3c);\n        \n    \n            var marker_d4ecf98624a739f9305b2695a6aecd7f = L.marker(\n                [28.57325457, -80.64689529],\n                {}\n            ).addTo(marker_cluster_85a24f8fea8d3ef1b25f0c584001e125);\n        \n    \n            var icon_2ca6f2e452885bdfa81c6de8ed3cdc30 = L.AwesomeMarkers.icon(\n                {&quot;extraClasses&quot;: &quot;fa-rotate-0&quot;, &quot;icon&quot;: &quot;info-sign&quot;, &quot;iconColor&quot;: &quot;green&quot;, &quot;markerColor&quot;: &quot;white&quot;, &quot;prefix&quot;: &quot;glyphicon&quot;}\n            );\n            marker_d4ecf98624a739f9305b2695a6aecd7f.setIcon(icon_2ca6f2e452885bdfa81c6de8ed3cdc30);\n        \n    \n            var marker_cab562e029c551ae8c8d8f3a2c716a5e = L.marker(\n                [28.57325457, -80.64689529],\n                {}\n            ).addTo(marker_cluster_85a24f8fea8d3ef1b25f0c584001e125);\n        \n    \n            var icon_378f5c67f7157c4eb8cc79090bee0333 = L.AwesomeMarkers.icon(\n                {&quot;extraClasses&quot;: &quot;fa-rotate-0&quot;, &quot;icon&quot;: &quot;info-sign&quot;, &quot;iconColor&quot;: &quot;green&quot;, &quot;markerColor&quot;: &quot;white&quot;, &quot;prefix&quot;: &quot;glyphicon&quot;}\n            );\n            marker_cab562e029c551ae8c8d8f3a2c716a5e.setIcon(icon_378f5c67f7157c4eb8cc79090bee0333);\n        \n    \n            var marker_a081946265c9d79d765d5f70a5471272 = L.marker(\n                [28.57325457, -80.64689529],\n                {}\n            ).addTo(marker_cluster_85a24f8fea8d3ef1b25f0c584001e125);\n        \n    \n            var icon_badae3cdbc07f33d4ddc71596bab9f03 = L.AwesomeMarkers.icon(\n                {&quot;extraClasses&quot;: &quot;fa-rotate-0&quot;, &quot;icon&quot;: &quot;info-sign&quot;, &quot;iconColor&quot;: &quot;green&quot;, &quot;markerColor&quot;: &quot;white&quot;, &quot;prefix&quot;: &quot;glyphicon&quot;}\n            );\n            marker_a081946265c9d79d765d5f70a5471272.setIcon(icon_badae3cdbc07f33d4ddc71596bab9f03);\n        \n    \n            var marker_68f96955c1a940b90a3148ccbbf52405 = L.marker(\n                [28.56319718, -80.57682003],\n                {}\n            ).addTo(marker_cluster_85a24f8fea8d3ef1b25f0c584001e125);\n        \n    \n            var icon_78b21b5bec8ad94e13a3f9a40805d4f4 = L.AwesomeMarkers.icon(\n                {&quot;extraClasses&quot;: &quot;fa-rotate-0&quot;, &quot;icon&quot;: &quot;info-sign&quot;, &quot;iconColor&quot;: &quot;green&quot;, &quot;markerColor&quot;: &quot;white&quot;, &quot;prefix&quot;: &quot;glyphicon&quot;}\n            );\n            marker_68f96955c1a940b90a3148ccbbf52405.setIcon(icon_78b21b5bec8ad94e13a3f9a40805d4f4);\n        \n    \n            var marker_ce715b9fe34ca3cb51da564d0b40e15c = L.marker(\n                [28.56319718, -80.57682003],\n                {}\n            ).addTo(marker_cluster_85a24f8fea8d3ef1b25f0c584001e125);\n        \n    \n            var icon_2834cb36b552f956deb6560cc94e6488 = L.AwesomeMarkers.icon(\n                {&quot;extraClasses&quot;: &quot;fa-rotate-0&quot;, &quot;icon&quot;: &quot;info-sign&quot;, &quot;iconColor&quot;: &quot;green&quot;, &quot;markerColor&quot;: &quot;white&quot;, &quot;prefix&quot;: &quot;glyphicon&quot;}\n            );\n            marker_ce715b9fe34ca3cb51da564d0b40e15c.setIcon(icon_2834cb36b552f956deb6560cc94e6488);\n        \n    \n            var marker_3b86d99eed4926c0125fd89b0bce6fd0 = L.marker(\n                [28.56319718, -80.57682003],\n                {}\n            ).addTo(marker_cluster_85a24f8fea8d3ef1b25f0c584001e125);\n        \n    \n            var icon_cbe336f741383b562a102a646daacfb9 = L.AwesomeMarkers.icon(\n                {&quot;extraClasses&quot;: &quot;fa-rotate-0&quot;, &quot;icon&quot;: &quot;info-sign&quot;, &quot;iconColor&quot;: &quot;red&quot;, &quot;markerColor&quot;: &quot;white&quot;, &quot;prefix&quot;: &quot;glyphicon&quot;}\n            );\n            marker_3b86d99eed4926c0125fd89b0bce6fd0.setIcon(icon_cbe336f741383b562a102a646daacfb9);\n        \n    \n            var marker_9e33370b62e372505de3db4cbc4b9e7e = L.marker(\n                [28.56319718, -80.57682003],\n                {}\n            ).addTo(marker_cluster_85a24f8fea8d3ef1b25f0c584001e125);\n        \n    \n            var icon_c4e760ffa8c221a8a8eb930629e0a270 = L.AwesomeMarkers.icon(\n                {&quot;extraClasses&quot;: &quot;fa-rotate-0&quot;, &quot;icon&quot;: &quot;info-sign&quot;, &quot;iconColor&quot;: &quot;red&quot;, &quot;markerColor&quot;: &quot;white&quot;, &quot;prefix&quot;: &quot;glyphicon&quot;}\n            );\n            marker_9e33370b62e372505de3db4cbc4b9e7e.setIcon(icon_c4e760ffa8c221a8a8eb930629e0a270);\n        \n    \n            var marker_5b341bfd1295636ac6ff4214682d8020 = L.marker(\n                [28.56319718, -80.57682003],\n                {}\n            ).addTo(marker_cluster_85a24f8fea8d3ef1b25f0c584001e125);\n        \n    \n            var icon_782e494d644ed4e02086aab2838c4167 = L.AwesomeMarkers.icon(\n                {&quot;extraClasses&quot;: &quot;fa-rotate-0&quot;, &quot;icon&quot;: &quot;info-sign&quot;, &quot;iconColor&quot;: &quot;red&quot;, &quot;markerColor&quot;: &quot;white&quot;, &quot;prefix&quot;: &quot;glyphicon&quot;}\n            );\n            marker_5b341bfd1295636ac6ff4214682d8020.setIcon(icon_782e494d644ed4e02086aab2838c4167);\n        \n    \n            var marker_004236b2937b30a15f827c3637bb4467 = L.marker(\n                [28.56319718, -80.57682003],\n                {}\n            ).addTo(marker_cluster_85a24f8fea8d3ef1b25f0c584001e125);\n        \n    \n            var icon_2cf66db86826c4a4fd78e76963df0b2b = L.AwesomeMarkers.icon(\n                {&quot;extraClasses&quot;: &quot;fa-rotate-0&quot;, &quot;icon&quot;: &quot;info-sign&quot;, &quot;iconColor&quot;: &quot;green&quot;, &quot;markerColor&quot;: &quot;white&quot;, &quot;prefix&quot;: &quot;glyphicon&quot;}\n            );\n            marker_004236b2937b30a15f827c3637bb4467.setIcon(icon_2cf66db86826c4a4fd78e76963df0b2b);\n        \n    \n            var marker_a88b5073a9ec2f952b3c6cc01f1ab29f = L.marker(\n                [28.56319718, -80.57682003],\n                {}\n            ).addTo(marker_cluster_85a24f8fea8d3ef1b25f0c584001e125);\n        \n    \n            var icon_5afebb706e4d6cfa97964fcbe4b31b10 = L.AwesomeMarkers.icon(\n                {&quot;extraClasses&quot;: &quot;fa-rotate-0&quot;, &quot;icon&quot;: &quot;info-sign&quot;, &quot;iconColor&quot;: &quot;red&quot;, &quot;markerColor&quot;: &quot;white&quot;, &quot;prefix&quot;: &quot;glyphicon&quot;}\n            );\n            marker_a88b5073a9ec2f952b3c6cc01f1ab29f.setIcon(icon_5afebb706e4d6cfa97964fcbe4b31b10);\n        \n    \n            marker_cluster_85a24f8fea8d3ef1b25f0c584001e125.addTo(map_c0087b65c33f1221bdd42313d9ace51c);\n        \n    \n            tile_layer_cb6e856c8545591cbc08323381b35301.addTo(map_c0087b65c33f1221bdd42313d9ace51c);\n        \n    \n            marker_cluster_85a24f8fea8d3ef1b25f0c584001e125.addTo(map_c0087b65c33f1221bdd42313d9ace51c);\n        \n    \n            var mouse_position_556ea2a536bd80dd9bb914174e1e6dba = new L.Control.MousePosition(\n                {&quot;emptyString&quot;: &quot;NaN&quot;, &quot;lngFirst&quot;: false, &quot;numDigits&quot;: 20, &quot;position&quot;: &quot;topright&quot;, &quot;prefix&quot;: &quot;Lat:&quot;, &quot;separator&quot;: &quot; Long: &quot;}\n            );\n            mouse_position_556ea2a536bd80dd9bb914174e1e6dba.options[&quot;latFormatter&quot;] =\n                function(num) {return L.Util.formatNum(num, 5);};;\n            mouse_position_556ea2a536bd80dd9bb914174e1e6dba.options[&quot;lngFormatter&quot;] =\n                function(num) {return L.Util.formatNum(num, 5);};;\n            map_c0087b65c33f1221bdd42313d9ace51c.addControl(mouse_position_556ea2a536bd80dd9bb914174e1e6dba);\n        \n&lt;/script&gt;\n&lt;/html&gt;\" style=\"position:absolute;width:100%;height:100%;left:0;top:0;border:none !important;\" allowfullscreen webkitallowfullscreen mozallowfullscreen></iframe></div></div>"
     },
     "metadata": {}
    }
   ],
   "execution_count": 22
  },
  {
   "cell_type": "markdown",
   "source": [
    "Now zoom in to a launch site and explore its proximity to see if you can easily find any railway, highway, coastline, etc. Move your mouse to these points and mark down their coordinates (shown on the top-left) in order to the distance to the launch site.\n"
   ],
   "metadata": {
    "pycharm": {
     "name": "#%% md\n"
    }
   }
  },
  {
   "cell_type": "markdown",
   "source": [
    "Now zoom in to a launch site and explore its proximity to see if you can easily find any railway, highway, coastline, etc. Move your mouse to these points and mark down their coordinates (shown on the top-left) in order to the distance to the launch site.\n"
   ],
   "metadata": {
    "pycharm": {
     "name": "#%% md\n"
    }
   }
  },
  {
   "cell_type": "code",
   "source": [
    "from math import sin, cos, sqrt, atan2, radians\n",
    "\n",
    "def calculate_distance(lat1, lon1, lat2, lon2):\n",
    "    # approximate radius of earth in km\n",
    "    R = 6373.0\n",
    "\n",
    "    lat1 = radians(lat1)\n",
    "    lon1 = radians(lon1)\n",
    "    lat2 = radians(lat2)\n",
    "    lon2 = radians(lon2)\n",
    "\n",
    "    dlon = lon2 - lon1\n",
    "    dlat = lat2 - lat1\n",
    "\n",
    "    a = sin(dlat / 2)**2 + cos(lat1) * cos(lat2) * sin(dlon / 2)**2\n",
    "    c = 2 * atan2(sqrt(a), sqrt(1 - a))\n",
    "\n",
    "    distance = R * c\n",
    "    return distance"
   ],
   "metadata": {
    "trusted": true,
    "pycharm": {
     "name": "#%%\n"
    }
   },
   "outputs": [],
   "execution_count": 23
  },
  {
   "cell_type": "markdown",
   "source": [
    "*TODO:* Mark down a point on the closest coastline using MousePosition and calculate the distance between the coastline point and the launch site.\n"
   ],
   "metadata": {
    "pycharm": {
     "name": "#%% md\n"
    }
   }
  },
  {
   "cell_type": "code",
   "source": [
    "# find coordinate of the closet coastline\n",
    "# e.g.,: Lat: 28.56367  Lon: -80.57163\n",
    "launch_site_lat, launch_site_lon = 28.563197, -80.57682\n",
    "coastline_lat, coastline_lon = 28.56367, -80.57163\n",
    "coordinate = [coastline_lat, coastline_lon]\n",
    "distance_coastline = calculate_distance(launch_site_lat, launch_site_lon, coastline_lat, coastline_lon)"
   ],
   "metadata": {
    "trusted": true,
    "pycharm": {
     "name": "#%%\n"
    }
   },
   "outputs": [],
   "execution_count": 27
  },
  {
   "cell_type": "code",
   "source": [
    "# Create and add a folium.Marker on your selected closest coastline point on the map\n",
    "# Display the distance between coastline point and launch site using the icon property \n",
    "#for example\n",
    "distance_marker = folium.Marker(\n",
    "    coordinate,\n",
    "    icon=DivIcon(\n",
    "        icon_size=(20,20),\n",
    "        icon_anchor=(0,0),\n",
    "        html='<div style=\"font-size: 12; color:#d35400;\"><b>%s</b></div>' % \"{:10.2f} KM\".format(distance_coastline),\n",
    "        )\n",
    "    )"
   ],
   "metadata": {
    "trusted": true,
    "pycharm": {
     "name": "#%%\n"
    }
   },
   "outputs": [],
   "execution_count": 28
  },
  {
   "cell_type": "markdown",
   "source": [
    "*TODO:* Draw a `PolyLine` between a launch site to the selected coastline point\n"
   ],
   "metadata": {
    "pycharm": {
     "name": "#%% md\n"
    }
   }
  },
  {
   "cell_type": "code",
   "source": [
    "# Create a `folium.PolyLine` object using the coastline coordinates and launch site coordinate\n",
    "coordinates = [coordinate,[launch_site_lat, launch_site_lon]]\n",
    "lines=folium.PolyLine(locations=coordinates, weight=1)\n",
    "site_map.add_child(lines)"
   ],
   "metadata": {
    "trusted": true,
    "pycharm": {
     "name": "#%%\n"
    }
   },
   "outputs": [
    {
     "execution_count": 29,
     "output_type": "execute_result",
     "data": {
      "text/plain": "<folium.folium.Map at 0x56f0388>",
      "text/html": "<div style=\"width:100%;\"><div style=\"position:relative;width:100%;height:0;padding-bottom:60%;\"><span style=\"color:#565656\">Make this Notebook Trusted to load map: File -> Trust Notebook</span><iframe srcdoc=\"&lt;!DOCTYPE html&gt;\n&lt;html&gt;\n&lt;head&gt;\n    \n    &lt;meta http-equiv=&quot;content-type&quot; content=&quot;text/html; charset=UTF-8&quot; /&gt;\n    \n        &lt;script&gt;\n            L_NO_TOUCH = false;\n            L_DISABLE_3D = false;\n        &lt;/script&gt;\n    \n    &lt;style&gt;html, body {width: 100%;height: 100%;margin: 0;padding: 0;}&lt;/style&gt;\n    &lt;style&gt;#map {position:absolute;top:0;bottom:0;right:0;left:0;}&lt;/style&gt;\n    &lt;script src=&quot;https://cdn.jsdelivr.net/npm/leaflet@1.9.3/dist/leaflet.js&quot;&gt;&lt;/script&gt;\n    &lt;script src=&quot;https://code.jquery.com/jquery-3.7.1.min.js&quot;&gt;&lt;/script&gt;\n    &lt;script src=&quot;https://cdn.jsdelivr.net/npm/bootstrap@5.2.2/dist/js/bootstrap.bundle.min.js&quot;&gt;&lt;/script&gt;\n    &lt;script src=&quot;https://cdnjs.cloudflare.com/ajax/libs/Leaflet.awesome-markers/2.0.2/leaflet.awesome-markers.js&quot;&gt;&lt;/script&gt;\n    &lt;link rel=&quot;stylesheet&quot; href=&quot;https://cdn.jsdelivr.net/npm/leaflet@1.9.3/dist/leaflet.css&quot;/&gt;\n    &lt;link rel=&quot;stylesheet&quot; href=&quot;https://cdn.jsdelivr.net/npm/bootstrap@5.2.2/dist/css/bootstrap.min.css&quot;/&gt;\n    &lt;link rel=&quot;stylesheet&quot; href=&quot;https://netdna.bootstrapcdn.com/bootstrap/3.0.0/css/bootstrap.min.css&quot;/&gt;\n    &lt;link rel=&quot;stylesheet&quot; href=&quot;https://cdn.jsdelivr.net/npm/@fortawesome/fontawesome-free@6.2.0/css/all.min.css&quot;/&gt;\n    &lt;link rel=&quot;stylesheet&quot; href=&quot;https://cdnjs.cloudflare.com/ajax/libs/Leaflet.awesome-markers/2.0.2/leaflet.awesome-markers.css&quot;/&gt;\n    &lt;link rel=&quot;stylesheet&quot; href=&quot;https://cdn.jsdelivr.net/gh/python-visualization/folium/folium/templates/leaflet.awesome.rotate.min.css&quot;/&gt;\n    \n            &lt;meta name=&quot;viewport&quot; content=&quot;width=device-width,\n                initial-scale=1.0, maximum-scale=1.0, user-scalable=no&quot; /&gt;\n            &lt;style&gt;\n                #map_c0087b65c33f1221bdd42313d9ace51c {\n                    position: relative;\n                    width: 100.0%;\n                    height: 100.0%;\n                    left: 0.0%;\n                    top: 0.0%;\n                }\n                .leaflet-container { font-size: 1rem; }\n            &lt;/style&gt;\n        \n    &lt;script src=&quot;https://cdnjs.cloudflare.com/ajax/libs/leaflet.markercluster/1.1.0/leaflet.markercluster.js&quot;&gt;&lt;/script&gt;\n    &lt;link rel=&quot;stylesheet&quot; href=&quot;https://cdnjs.cloudflare.com/ajax/libs/leaflet.markercluster/1.1.0/MarkerCluster.css&quot;/&gt;\n    &lt;link rel=&quot;stylesheet&quot; href=&quot;https://cdnjs.cloudflare.com/ajax/libs/leaflet.markercluster/1.1.0/MarkerCluster.Default.css&quot;/&gt;\n    &lt;script src=&quot;https://cdn.jsdelivr.net/gh/ardhi/Leaflet.MousePosition/src/L.Control.MousePosition.min.js&quot;&gt;&lt;/script&gt;\n    &lt;link rel=&quot;stylesheet&quot; href=&quot;https://cdn.jsdelivr.net/gh/ardhi/Leaflet.MousePosition/src/L.Control.MousePosition.min.css&quot;/&gt;\n&lt;/head&gt;\n&lt;body&gt;\n    \n    \n            &lt;div class=&quot;folium-map&quot; id=&quot;map_c0087b65c33f1221bdd42313d9ace51c&quot; &gt;&lt;/div&gt;\n        \n&lt;/body&gt;\n&lt;script&gt;\n    \n    \n            var map_c0087b65c33f1221bdd42313d9ace51c = L.map(\n                &quot;map_c0087b65c33f1221bdd42313d9ace51c&quot;,\n                {\n                    center: [29.559684888503615, -95.0830971930759],\n                    crs: L.CRS.EPSG3857,\n                    zoom: 5,\n                    zoomControl: true,\n                    preferCanvas: false,\n                }\n            );\n\n            \n\n        \n    \n            var tile_layer_cb6e856c8545591cbc08323381b35301 = L.tileLayer(\n                &quot;https://tile.openstreetmap.org/{z}/{x}/{y}.png&quot;,\n                {&quot;attribution&quot;: &quot;\\u0026copy; \\u003ca href=\\&quot;https://www.openstreetmap.org/copyright\\&quot;\\u003eOpenStreetMap\\u003c/a\\u003e contributors&quot;, &quot;detectRetina&quot;: false, &quot;maxNativeZoom&quot;: 19, &quot;maxZoom&quot;: 19, &quot;minZoom&quot;: 0, &quot;noWrap&quot;: false, &quot;opacity&quot;: 1, &quot;subdomains&quot;: &quot;abc&quot;, &quot;tms&quot;: false}\n            );\n        \n    \n            tile_layer_cb6e856c8545591cbc08323381b35301.addTo(map_c0087b65c33f1221bdd42313d9ace51c);\n        \n    \n            var circle_821b849cc4bce345d9dc117fb4c14998 = L.circle(\n                [28.56230197, -80.57735648],\n                {&quot;bubblingMouseEvents&quot;: true, &quot;color&quot;: &quot;#d35400&quot;, &quot;dashArray&quot;: null, &quot;dashOffset&quot;: null, &quot;fill&quot;: true, &quot;fillColor&quot;: &quot;#d35400&quot;, &quot;fillOpacity&quot;: 0.2, &quot;fillRule&quot;: &quot;evenodd&quot;, &quot;lineCap&quot;: &quot;round&quot;, &quot;lineJoin&quot;: &quot;round&quot;, &quot;opacity&quot;: 1.0, &quot;radius&quot;: 1000, &quot;stroke&quot;: true, &quot;weight&quot;: 3}\n            ).addTo(map_c0087b65c33f1221bdd42313d9ace51c);\n        \n    \n        var popup_1538523f08ac5bbaa382bf2b2eeff7bd = L.popup({&quot;maxWidth&quot;: &quot;100%&quot;});\n\n        \n            \n                var html_d9f7db6ec423a5108ddb5c36af02eb3b = $(`&lt;div id=&quot;html_d9f7db6ec423a5108ddb5c36af02eb3b&quot; style=&quot;width: 100.0%; height: 100.0%;&quot;&gt;CCAFS LC-40&lt;/div&gt;`)[0];\n                popup_1538523f08ac5bbaa382bf2b2eeff7bd.setContent(html_d9f7db6ec423a5108ddb5c36af02eb3b);\n            \n        \n\n        circle_821b849cc4bce345d9dc117fb4c14998.bindPopup(popup_1538523f08ac5bbaa382bf2b2eeff7bd)\n        ;\n\n        \n    \n    \n            var marker_5500f5cefcc52c2a5c754d2c493960ad = L.marker(\n                [28.56230197, -80.57735648],\n                {}\n            ).addTo(map_c0087b65c33f1221bdd42313d9ace51c);\n        \n    \n            var div_icon_0fb233b171fcf252bb2c9899ace8b422 = L.divIcon({&quot;className&quot;: &quot;empty&quot;, &quot;html&quot;: &quot;\\u003cdiv style=\\&quot;font-size: 12; color:#d35400;\\&quot;\\u003e\\u003cb\\u003eCCAFS LC-40\\u003c/b\\u003e\\u003c/div\\u003e&quot;, &quot;iconAnchor&quot;: [0, 0], &quot;iconSize&quot;: [20, 20]});\n            marker_5500f5cefcc52c2a5c754d2c493960ad.setIcon(div_icon_0fb233b171fcf252bb2c9899ace8b422);\n        \n    \n            var circle_a07e25249792296da027e0888a7f17d1 = L.circle(\n                [28.56319718, -80.57682003],\n                {&quot;bubblingMouseEvents&quot;: true, &quot;color&quot;: &quot;#d35400&quot;, &quot;dashArray&quot;: null, &quot;dashOffset&quot;: null, &quot;fill&quot;: true, &quot;fillColor&quot;: &quot;#d35400&quot;, &quot;fillOpacity&quot;: 0.2, &quot;fillRule&quot;: &quot;evenodd&quot;, &quot;lineCap&quot;: &quot;round&quot;, &quot;lineJoin&quot;: &quot;round&quot;, &quot;opacity&quot;: 1.0, &quot;radius&quot;: 1000, &quot;stroke&quot;: true, &quot;weight&quot;: 3}\n            ).addTo(map_c0087b65c33f1221bdd42313d9ace51c);\n        \n    \n        var popup_05083dc5e66df1d134160334917444f0 = L.popup({&quot;maxWidth&quot;: &quot;100%&quot;});\n\n        \n            \n                var html_0b172c7524994cd34e8fa150d4602fd5 = $(`&lt;div id=&quot;html_0b172c7524994cd34e8fa150d4602fd5&quot; style=&quot;width: 100.0%; height: 100.0%;&quot;&gt;CCAFS SLC-40&lt;/div&gt;`)[0];\n                popup_05083dc5e66df1d134160334917444f0.setContent(html_0b172c7524994cd34e8fa150d4602fd5);\n            \n        \n\n        circle_a07e25249792296da027e0888a7f17d1.bindPopup(popup_05083dc5e66df1d134160334917444f0)\n        ;\n\n        \n    \n    \n            var marker_92945c637ffe445496da5df7968bc079 = L.marker(\n                [28.56319718, -80.57682003],\n                {}\n            ).addTo(map_c0087b65c33f1221bdd42313d9ace51c);\n        \n    \n            var div_icon_0f8b437bdb292c4149daabf6a9b581d0 = L.divIcon({&quot;className&quot;: &quot;empty&quot;, &quot;html&quot;: &quot;\\u003cdiv style=\\&quot;font-size: 12; color:#d35400;\\&quot;\\u003e\\u003cb\\u003eCCAFS SLC-40\\u003c/b\\u003e\\u003c/div\\u003e&quot;, &quot;iconAnchor&quot;: [0, 0], &quot;iconSize&quot;: [20, 20]});\n            marker_92945c637ffe445496da5df7968bc079.setIcon(div_icon_0f8b437bdb292c4149daabf6a9b581d0);\n        \n    \n            var circle_729118812a135d54ee8d24459b1ce398 = L.circle(\n                [28.57325457, -80.64689529],\n                {&quot;bubblingMouseEvents&quot;: true, &quot;color&quot;: &quot;#d35400&quot;, &quot;dashArray&quot;: null, &quot;dashOffset&quot;: null, &quot;fill&quot;: true, &quot;fillColor&quot;: &quot;#d35400&quot;, &quot;fillOpacity&quot;: 0.2, &quot;fillRule&quot;: &quot;evenodd&quot;, &quot;lineCap&quot;: &quot;round&quot;, &quot;lineJoin&quot;: &quot;round&quot;, &quot;opacity&quot;: 1.0, &quot;radius&quot;: 1000, &quot;stroke&quot;: true, &quot;weight&quot;: 3}\n            ).addTo(map_c0087b65c33f1221bdd42313d9ace51c);\n        \n    \n        var popup_21628a981c605a0a77f13bfb0d380f75 = L.popup({&quot;maxWidth&quot;: &quot;100%&quot;});\n\n        \n            \n                var html_13f2302360b7552f5c3929b2c90bfe69 = $(`&lt;div id=&quot;html_13f2302360b7552f5c3929b2c90bfe69&quot; style=&quot;width: 100.0%; height: 100.0%;&quot;&gt;KSC LC-39A&lt;/div&gt;`)[0];\n                popup_21628a981c605a0a77f13bfb0d380f75.setContent(html_13f2302360b7552f5c3929b2c90bfe69);\n            \n        \n\n        circle_729118812a135d54ee8d24459b1ce398.bindPopup(popup_21628a981c605a0a77f13bfb0d380f75)\n        ;\n\n        \n    \n    \n            var marker_f87ea1745a224a95e8f737b003d1a86e = L.marker(\n                [28.57325457, -80.64689529],\n                {}\n            ).addTo(map_c0087b65c33f1221bdd42313d9ace51c);\n        \n    \n            var div_icon_5262fb64a22ecea6d9d6e04ce156cfb0 = L.divIcon({&quot;className&quot;: &quot;empty&quot;, &quot;html&quot;: &quot;\\u003cdiv style=\\&quot;font-size: 12; color:#d35400;\\&quot;\\u003e\\u003cb\\u003eKSC LC-39A\\u003c/b\\u003e\\u003c/div\\u003e&quot;, &quot;iconAnchor&quot;: [0, 0], &quot;iconSize&quot;: [20, 20]});\n            marker_f87ea1745a224a95e8f737b003d1a86e.setIcon(div_icon_5262fb64a22ecea6d9d6e04ce156cfb0);\n        \n    \n            var circle_04868b10a7df165c066edb2e09d7e6bb = L.circle(\n                [34.63283416, -120.6107455],\n                {&quot;bubblingMouseEvents&quot;: true, &quot;color&quot;: &quot;#d35400&quot;, &quot;dashArray&quot;: null, &quot;dashOffset&quot;: null, &quot;fill&quot;: true, &quot;fillColor&quot;: &quot;#d35400&quot;, &quot;fillOpacity&quot;: 0.2, &quot;fillRule&quot;: &quot;evenodd&quot;, &quot;lineCap&quot;: &quot;round&quot;, &quot;lineJoin&quot;: &quot;round&quot;, &quot;opacity&quot;: 1.0, &quot;radius&quot;: 1000, &quot;stroke&quot;: true, &quot;weight&quot;: 3}\n            ).addTo(map_c0087b65c33f1221bdd42313d9ace51c);\n        \n    \n        var popup_4567563993acf4e52eff7e8ac2a4a621 = L.popup({&quot;maxWidth&quot;: &quot;100%&quot;});\n\n        \n            \n                var html_64697f7f249232f0fa5d5ce42171a366 = $(`&lt;div id=&quot;html_64697f7f249232f0fa5d5ce42171a366&quot; style=&quot;width: 100.0%; height: 100.0%;&quot;&gt;VAFB SLC-4E&lt;/div&gt;`)[0];\n                popup_4567563993acf4e52eff7e8ac2a4a621.setContent(html_64697f7f249232f0fa5d5ce42171a366);\n            \n        \n\n        circle_04868b10a7df165c066edb2e09d7e6bb.bindPopup(popup_4567563993acf4e52eff7e8ac2a4a621)\n        ;\n\n        \n    \n    \n            var marker_a4ff103e37a4cad5e5bc85edc7350735 = L.marker(\n                [34.63283416, -120.6107455],\n                {}\n            ).addTo(map_c0087b65c33f1221bdd42313d9ace51c);\n        \n    \n            var div_icon_92684a6020a0583cc9d925b723958270 = L.divIcon({&quot;className&quot;: &quot;empty&quot;, &quot;html&quot;: &quot;\\u003cdiv style=\\&quot;font-size: 12; color:#d35400;\\&quot;\\u003e\\u003cb\\u003eVAFB SLC-4E\\u003c/b\\u003e\\u003c/div\\u003e&quot;, &quot;iconAnchor&quot;: [0, 0], &quot;iconSize&quot;: [20, 20]});\n            marker_a4ff103e37a4cad5e5bc85edc7350735.setIcon(div_icon_92684a6020a0583cc9d925b723958270);\n        \n    \n            tile_layer_cb6e856c8545591cbc08323381b35301.addTo(map_c0087b65c33f1221bdd42313d9ace51c);\n        \n    \n            var marker_cluster_85a24f8fea8d3ef1b25f0c584001e125 = L.markerClusterGroup(\n                {}\n            );\n        \n    \n            var marker_af03a18eb28de9c2f4cf5c89b8311a18 = L.marker(\n                [28.56230197, -80.57735648],\n                {}\n            ).addTo(marker_cluster_85a24f8fea8d3ef1b25f0c584001e125);\n        \n    \n            var icon_5192aa5e929440c39b7033d705fc2e3b = L.AwesomeMarkers.icon(\n                {&quot;extraClasses&quot;: &quot;fa-rotate-0&quot;, &quot;icon&quot;: &quot;info-sign&quot;, &quot;iconColor&quot;: &quot;red&quot;, &quot;markerColor&quot;: &quot;white&quot;, &quot;prefix&quot;: &quot;glyphicon&quot;}\n            );\n            marker_af03a18eb28de9c2f4cf5c89b8311a18.setIcon(icon_5192aa5e929440c39b7033d705fc2e3b);\n        \n    \n            var marker_a9364f61edcd032f820b943f66e419c8 = L.marker(\n                [28.56230197, -80.57735648],\n                {}\n            ).addTo(marker_cluster_85a24f8fea8d3ef1b25f0c584001e125);\n        \n    \n            var icon_8c36ddd59df7b1073edbef28c4656bbe = L.AwesomeMarkers.icon(\n                {&quot;extraClasses&quot;: &quot;fa-rotate-0&quot;, &quot;icon&quot;: &quot;info-sign&quot;, &quot;iconColor&quot;: &quot;red&quot;, &quot;markerColor&quot;: &quot;white&quot;, &quot;prefix&quot;: &quot;glyphicon&quot;}\n            );\n            marker_a9364f61edcd032f820b943f66e419c8.setIcon(icon_8c36ddd59df7b1073edbef28c4656bbe);\n        \n    \n            var marker_d9246b2ab06a3fecd7493893769fdf40 = L.marker(\n                [28.56230197, -80.57735648],\n                {}\n            ).addTo(marker_cluster_85a24f8fea8d3ef1b25f0c584001e125);\n        \n    \n            var icon_197167f638bdd17e25ea4d8306d79e52 = L.AwesomeMarkers.icon(\n                {&quot;extraClasses&quot;: &quot;fa-rotate-0&quot;, &quot;icon&quot;: &quot;info-sign&quot;, &quot;iconColor&quot;: &quot;red&quot;, &quot;markerColor&quot;: &quot;white&quot;, &quot;prefix&quot;: &quot;glyphicon&quot;}\n            );\n            marker_d9246b2ab06a3fecd7493893769fdf40.setIcon(icon_197167f638bdd17e25ea4d8306d79e52);\n        \n    \n            var marker_3580479be2f7ffedcf9617f94d010de0 = L.marker(\n                [28.56230197, -80.57735648],\n                {}\n            ).addTo(marker_cluster_85a24f8fea8d3ef1b25f0c584001e125);\n        \n    \n            var icon_67a37f88e18b86e854faf7a44573f93c = L.AwesomeMarkers.icon(\n                {&quot;extraClasses&quot;: &quot;fa-rotate-0&quot;, &quot;icon&quot;: &quot;info-sign&quot;, &quot;iconColor&quot;: &quot;red&quot;, &quot;markerColor&quot;: &quot;white&quot;, &quot;prefix&quot;: &quot;glyphicon&quot;}\n            );\n            marker_3580479be2f7ffedcf9617f94d010de0.setIcon(icon_67a37f88e18b86e854faf7a44573f93c);\n        \n    \n            var marker_2b08ea7eeb1106abb0253cb359dcb17a = L.marker(\n                [28.56230197, -80.57735648],\n                {}\n            ).addTo(marker_cluster_85a24f8fea8d3ef1b25f0c584001e125);\n        \n    \n            var icon_caac45fcfab1f732b0d618af2a01b3aa = L.AwesomeMarkers.icon(\n                {&quot;extraClasses&quot;: &quot;fa-rotate-0&quot;, &quot;icon&quot;: &quot;info-sign&quot;, &quot;iconColor&quot;: &quot;red&quot;, &quot;markerColor&quot;: &quot;white&quot;, &quot;prefix&quot;: &quot;glyphicon&quot;}\n            );\n            marker_2b08ea7eeb1106abb0253cb359dcb17a.setIcon(icon_caac45fcfab1f732b0d618af2a01b3aa);\n        \n    \n            var marker_eeddecb35811efc5403f8b91f47e80b2 = L.marker(\n                [28.56230197, -80.57735648],\n                {}\n            ).addTo(marker_cluster_85a24f8fea8d3ef1b25f0c584001e125);\n        \n    \n            var icon_b958ad7cd25da14a873dc699220856c2 = L.AwesomeMarkers.icon(\n                {&quot;extraClasses&quot;: &quot;fa-rotate-0&quot;, &quot;icon&quot;: &quot;info-sign&quot;, &quot;iconColor&quot;: &quot;red&quot;, &quot;markerColor&quot;: &quot;white&quot;, &quot;prefix&quot;: &quot;glyphicon&quot;}\n            );\n            marker_eeddecb35811efc5403f8b91f47e80b2.setIcon(icon_b958ad7cd25da14a873dc699220856c2);\n        \n    \n            var marker_cc4bd71c62ca872ec3d06f45999cefea = L.marker(\n                [28.56230197, -80.57735648],\n                {}\n            ).addTo(marker_cluster_85a24f8fea8d3ef1b25f0c584001e125);\n        \n    \n            var icon_09f3b23ef992283e7806e802aa5a93d0 = L.AwesomeMarkers.icon(\n                {&quot;extraClasses&quot;: &quot;fa-rotate-0&quot;, &quot;icon&quot;: &quot;info-sign&quot;, &quot;iconColor&quot;: &quot;red&quot;, &quot;markerColor&quot;: &quot;white&quot;, &quot;prefix&quot;: &quot;glyphicon&quot;}\n            );\n            marker_cc4bd71c62ca872ec3d06f45999cefea.setIcon(icon_09f3b23ef992283e7806e802aa5a93d0);\n        \n    \n            var marker_6ada9c2153a9f595e7258e50e92c7c0b = L.marker(\n                [28.56230197, -80.57735648],\n                {}\n            ).addTo(marker_cluster_85a24f8fea8d3ef1b25f0c584001e125);\n        \n    \n            var icon_3bc5f149fadff9e3b92367807dd2ae47 = L.AwesomeMarkers.icon(\n                {&quot;extraClasses&quot;: &quot;fa-rotate-0&quot;, &quot;icon&quot;: &quot;info-sign&quot;, &quot;iconColor&quot;: &quot;red&quot;, &quot;markerColor&quot;: &quot;white&quot;, &quot;prefix&quot;: &quot;glyphicon&quot;}\n            );\n            marker_6ada9c2153a9f595e7258e50e92c7c0b.setIcon(icon_3bc5f149fadff9e3b92367807dd2ae47);\n        \n    \n            var marker_0dcef8ec13be63148e80c11f6d3ebbc1 = L.marker(\n                [28.56230197, -80.57735648],\n                {}\n            ).addTo(marker_cluster_85a24f8fea8d3ef1b25f0c584001e125);\n        \n    \n            var icon_001622c8c56c3b1a9b319451fc423920 = L.AwesomeMarkers.icon(\n                {&quot;extraClasses&quot;: &quot;fa-rotate-0&quot;, &quot;icon&quot;: &quot;info-sign&quot;, &quot;iconColor&quot;: &quot;red&quot;, &quot;markerColor&quot;: &quot;white&quot;, &quot;prefix&quot;: &quot;glyphicon&quot;}\n            );\n            marker_0dcef8ec13be63148e80c11f6d3ebbc1.setIcon(icon_001622c8c56c3b1a9b319451fc423920);\n        \n    \n            var marker_56ef8885c1c0cefb3b14d55cb3b1bf71 = L.marker(\n                [28.56230197, -80.57735648],\n                {}\n            ).addTo(marker_cluster_85a24f8fea8d3ef1b25f0c584001e125);\n        \n    \n            var icon_60f285f12bee86a3e0b0041cca8ada2b = L.AwesomeMarkers.icon(\n                {&quot;extraClasses&quot;: &quot;fa-rotate-0&quot;, &quot;icon&quot;: &quot;info-sign&quot;, &quot;iconColor&quot;: &quot;red&quot;, &quot;markerColor&quot;: &quot;white&quot;, &quot;prefix&quot;: &quot;glyphicon&quot;}\n            );\n            marker_56ef8885c1c0cefb3b14d55cb3b1bf71.setIcon(icon_60f285f12bee86a3e0b0041cca8ada2b);\n        \n    \n            var marker_aa5f20d63c393cacac4f89f6c30e2977 = L.marker(\n                [28.56230197, -80.57735648],\n                {}\n            ).addTo(marker_cluster_85a24f8fea8d3ef1b25f0c584001e125);\n        \n    \n            var icon_abef2ddb515c50d7fb86196a5f3b43b9 = L.AwesomeMarkers.icon(\n                {&quot;extraClasses&quot;: &quot;fa-rotate-0&quot;, &quot;icon&quot;: &quot;info-sign&quot;, &quot;iconColor&quot;: &quot;red&quot;, &quot;markerColor&quot;: &quot;white&quot;, &quot;prefix&quot;: &quot;glyphicon&quot;}\n            );\n            marker_aa5f20d63c393cacac4f89f6c30e2977.setIcon(icon_abef2ddb515c50d7fb86196a5f3b43b9);\n        \n    \n            var marker_97bbc928c497631905a96ff9b4c1c878 = L.marker(\n                [28.56230197, -80.57735648],\n                {}\n            ).addTo(marker_cluster_85a24f8fea8d3ef1b25f0c584001e125);\n        \n    \n            var icon_bb79a678656c1c53a6cffd83caf5dfcc = L.AwesomeMarkers.icon(\n                {&quot;extraClasses&quot;: &quot;fa-rotate-0&quot;, &quot;icon&quot;: &quot;info-sign&quot;, &quot;iconColor&quot;: &quot;red&quot;, &quot;markerColor&quot;: &quot;white&quot;, &quot;prefix&quot;: &quot;glyphicon&quot;}\n            );\n            marker_97bbc928c497631905a96ff9b4c1c878.setIcon(icon_bb79a678656c1c53a6cffd83caf5dfcc);\n        \n    \n            var marker_8f2396d9fee4b3322ec0c89a6bbcb17c = L.marker(\n                [28.56230197, -80.57735648],\n                {}\n            ).addTo(marker_cluster_85a24f8fea8d3ef1b25f0c584001e125);\n        \n    \n            var icon_2fbc0925b064c10e416d894bf30375f5 = L.AwesomeMarkers.icon(\n                {&quot;extraClasses&quot;: &quot;fa-rotate-0&quot;, &quot;icon&quot;: &quot;info-sign&quot;, &quot;iconColor&quot;: &quot;red&quot;, &quot;markerColor&quot;: &quot;white&quot;, &quot;prefix&quot;: &quot;glyphicon&quot;}\n            );\n            marker_8f2396d9fee4b3322ec0c89a6bbcb17c.setIcon(icon_2fbc0925b064c10e416d894bf30375f5);\n        \n    \n            var marker_1a5869ed21494432789ae6a26ec0f95a = L.marker(\n                [28.56230197, -80.57735648],\n                {}\n            ).addTo(marker_cluster_85a24f8fea8d3ef1b25f0c584001e125);\n        \n    \n            var icon_821b13178f50ef55803097ecbbb1b412 = L.AwesomeMarkers.icon(\n                {&quot;extraClasses&quot;: &quot;fa-rotate-0&quot;, &quot;icon&quot;: &quot;info-sign&quot;, &quot;iconColor&quot;: &quot;red&quot;, &quot;markerColor&quot;: &quot;white&quot;, &quot;prefix&quot;: &quot;glyphicon&quot;}\n            );\n            marker_1a5869ed21494432789ae6a26ec0f95a.setIcon(icon_821b13178f50ef55803097ecbbb1b412);\n        \n    \n            var marker_de776145eeca71393f247349abef7d2b = L.marker(\n                [28.56230197, -80.57735648],\n                {}\n            ).addTo(marker_cluster_85a24f8fea8d3ef1b25f0c584001e125);\n        \n    \n            var icon_4e848a22df1bf223751ce4bf770bd85f = L.AwesomeMarkers.icon(\n                {&quot;extraClasses&quot;: &quot;fa-rotate-0&quot;, &quot;icon&quot;: &quot;info-sign&quot;, &quot;iconColor&quot;: &quot;red&quot;, &quot;markerColor&quot;: &quot;white&quot;, &quot;prefix&quot;: &quot;glyphicon&quot;}\n            );\n            marker_de776145eeca71393f247349abef7d2b.setIcon(icon_4e848a22df1bf223751ce4bf770bd85f);\n        \n    \n            var marker_0c4478c402de694808263b635ff0d66c = L.marker(\n                [28.56230197, -80.57735648],\n                {}\n            ).addTo(marker_cluster_85a24f8fea8d3ef1b25f0c584001e125);\n        \n    \n            var icon_05506bda2814594316c318291e653a93 = L.AwesomeMarkers.icon(\n                {&quot;extraClasses&quot;: &quot;fa-rotate-0&quot;, &quot;icon&quot;: &quot;info-sign&quot;, &quot;iconColor&quot;: &quot;red&quot;, &quot;markerColor&quot;: &quot;white&quot;, &quot;prefix&quot;: &quot;glyphicon&quot;}\n            );\n            marker_0c4478c402de694808263b635ff0d66c.setIcon(icon_05506bda2814594316c318291e653a93);\n        \n    \n            var marker_bac31cb9b5c1f7e3f4de4ac2fb295920 = L.marker(\n                [28.56230197, -80.57735648],\n                {}\n            ).addTo(marker_cluster_85a24f8fea8d3ef1b25f0c584001e125);\n        \n    \n            var icon_2f456e13967e4f267957c1e963523663 = L.AwesomeMarkers.icon(\n                {&quot;extraClasses&quot;: &quot;fa-rotate-0&quot;, &quot;icon&quot;: &quot;info-sign&quot;, &quot;iconColor&quot;: &quot;red&quot;, &quot;markerColor&quot;: &quot;white&quot;, &quot;prefix&quot;: &quot;glyphicon&quot;}\n            );\n            marker_bac31cb9b5c1f7e3f4de4ac2fb295920.setIcon(icon_2f456e13967e4f267957c1e963523663);\n        \n    \n            var marker_1f33dffe442d5c146a5fcee5bdeb47ea = L.marker(\n                [28.56230197, -80.57735648],\n                {}\n            ).addTo(marker_cluster_85a24f8fea8d3ef1b25f0c584001e125);\n        \n    \n            var icon_1838ad5b5b336bd10653ec2b124440f3 = L.AwesomeMarkers.icon(\n                {&quot;extraClasses&quot;: &quot;fa-rotate-0&quot;, &quot;icon&quot;: &quot;info-sign&quot;, &quot;iconColor&quot;: &quot;green&quot;, &quot;markerColor&quot;: &quot;white&quot;, &quot;prefix&quot;: &quot;glyphicon&quot;}\n            );\n            marker_1f33dffe442d5c146a5fcee5bdeb47ea.setIcon(icon_1838ad5b5b336bd10653ec2b124440f3);\n        \n    \n            var marker_8518e7201d80a3519a5b95b6ebec9e52 = L.marker(\n                [28.56230197, -80.57735648],\n                {}\n            ).addTo(marker_cluster_85a24f8fea8d3ef1b25f0c584001e125);\n        \n    \n            var icon_9397e90a21bee9ebfed007eafbf7dea9 = L.AwesomeMarkers.icon(\n                {&quot;extraClasses&quot;: &quot;fa-rotate-0&quot;, &quot;icon&quot;: &quot;info-sign&quot;, &quot;iconColor&quot;: &quot;green&quot;, &quot;markerColor&quot;: &quot;white&quot;, &quot;prefix&quot;: &quot;glyphicon&quot;}\n            );\n            marker_8518e7201d80a3519a5b95b6ebec9e52.setIcon(icon_9397e90a21bee9ebfed007eafbf7dea9);\n        \n    \n            var marker_ef0ea71aa2cb0bf143d5174c8fe2dd74 = L.marker(\n                [28.56230197, -80.57735648],\n                {}\n            ).addTo(marker_cluster_85a24f8fea8d3ef1b25f0c584001e125);\n        \n    \n            var icon_75982ec73f8090aba9ea3b505ef75494 = L.AwesomeMarkers.icon(\n                {&quot;extraClasses&quot;: &quot;fa-rotate-0&quot;, &quot;icon&quot;: &quot;info-sign&quot;, &quot;iconColor&quot;: &quot;red&quot;, &quot;markerColor&quot;: &quot;white&quot;, &quot;prefix&quot;: &quot;glyphicon&quot;}\n            );\n            marker_ef0ea71aa2cb0bf143d5174c8fe2dd74.setIcon(icon_75982ec73f8090aba9ea3b505ef75494);\n        \n    \n            var marker_24b66bf62e58aa715abac82e8af278fd = L.marker(\n                [28.56230197, -80.57735648],\n                {}\n            ).addTo(marker_cluster_85a24f8fea8d3ef1b25f0c584001e125);\n        \n    \n            var icon_ca71f586a59d8b2ff5e331e937129586 = L.AwesomeMarkers.icon(\n                {&quot;extraClasses&quot;: &quot;fa-rotate-0&quot;, &quot;icon&quot;: &quot;info-sign&quot;, &quot;iconColor&quot;: &quot;green&quot;, &quot;markerColor&quot;: &quot;white&quot;, &quot;prefix&quot;: &quot;glyphicon&quot;}\n            );\n            marker_24b66bf62e58aa715abac82e8af278fd.setIcon(icon_ca71f586a59d8b2ff5e331e937129586);\n        \n    \n            var marker_41874dd77c47e0118dff46d8732a644e = L.marker(\n                [28.56230197, -80.57735648],\n                {}\n            ).addTo(marker_cluster_85a24f8fea8d3ef1b25f0c584001e125);\n        \n    \n            var icon_8f2bd993f7bdb136af2d0a53baccb6ae = L.AwesomeMarkers.icon(\n                {&quot;extraClasses&quot;: &quot;fa-rotate-0&quot;, &quot;icon&quot;: &quot;info-sign&quot;, &quot;iconColor&quot;: &quot;green&quot;, &quot;markerColor&quot;: &quot;white&quot;, &quot;prefix&quot;: &quot;glyphicon&quot;}\n            );\n            marker_41874dd77c47e0118dff46d8732a644e.setIcon(icon_8f2bd993f7bdb136af2d0a53baccb6ae);\n        \n    \n            var marker_eb2b1255e76b970fe9d5db3b9ff528af = L.marker(\n                [28.56230197, -80.57735648],\n                {}\n            ).addTo(marker_cluster_85a24f8fea8d3ef1b25f0c584001e125);\n        \n    \n            var icon_28c5e4e83c5ab0673ab44639fbc957be = L.AwesomeMarkers.icon(\n                {&quot;extraClasses&quot;: &quot;fa-rotate-0&quot;, &quot;icon&quot;: &quot;info-sign&quot;, &quot;iconColor&quot;: &quot;green&quot;, &quot;markerColor&quot;: &quot;white&quot;, &quot;prefix&quot;: &quot;glyphicon&quot;}\n            );\n            marker_eb2b1255e76b970fe9d5db3b9ff528af.setIcon(icon_28c5e4e83c5ab0673ab44639fbc957be);\n        \n    \n            var marker_4c04d7088d410521c6c345e5bafb310f = L.marker(\n                [28.56230197, -80.57735648],\n                {}\n            ).addTo(marker_cluster_85a24f8fea8d3ef1b25f0c584001e125);\n        \n    \n            var icon_6d4561c53ee3ed8404af96fcc00d8ee7 = L.AwesomeMarkers.icon(\n                {&quot;extraClasses&quot;: &quot;fa-rotate-0&quot;, &quot;icon&quot;: &quot;info-sign&quot;, &quot;iconColor&quot;: &quot;red&quot;, &quot;markerColor&quot;: &quot;white&quot;, &quot;prefix&quot;: &quot;glyphicon&quot;}\n            );\n            marker_4c04d7088d410521c6c345e5bafb310f.setIcon(icon_6d4561c53ee3ed8404af96fcc00d8ee7);\n        \n    \n            var marker_d8a727e50c9ca30ae4b152b90ea61a1f = L.marker(\n                [28.56230197, -80.57735648],\n                {}\n            ).addTo(marker_cluster_85a24f8fea8d3ef1b25f0c584001e125);\n        \n    \n            var icon_9c724ac07a8890c319eacad59284b884 = L.AwesomeMarkers.icon(\n                {&quot;extraClasses&quot;: &quot;fa-rotate-0&quot;, &quot;icon&quot;: &quot;info-sign&quot;, &quot;iconColor&quot;: &quot;green&quot;, &quot;markerColor&quot;: &quot;white&quot;, &quot;prefix&quot;: &quot;glyphicon&quot;}\n            );\n            marker_d8a727e50c9ca30ae4b152b90ea61a1f.setIcon(icon_9c724ac07a8890c319eacad59284b884);\n        \n    \n            var marker_e32d946569e9ea7ff86e75ef1af0eabf = L.marker(\n                [28.56230197, -80.57735648],\n                {}\n            ).addTo(marker_cluster_85a24f8fea8d3ef1b25f0c584001e125);\n        \n    \n            var icon_cc7e69e373a8477c5973e53ebb8a7a23 = L.AwesomeMarkers.icon(\n                {&quot;extraClasses&quot;: &quot;fa-rotate-0&quot;, &quot;icon&quot;: &quot;info-sign&quot;, &quot;iconColor&quot;: &quot;green&quot;, &quot;markerColor&quot;: &quot;white&quot;, &quot;prefix&quot;: &quot;glyphicon&quot;}\n            );\n            marker_e32d946569e9ea7ff86e75ef1af0eabf.setIcon(icon_cc7e69e373a8477c5973e53ebb8a7a23);\n        \n    \n            var marker_f9f1bb36803fe9ffcd17ce16c2859cf0 = L.marker(\n                [34.63283416, -120.6107455],\n                {}\n            ).addTo(marker_cluster_85a24f8fea8d3ef1b25f0c584001e125);\n        \n    \n            var icon_585acea688a90ca83188dbbba1b18fdf = L.AwesomeMarkers.icon(\n                {&quot;extraClasses&quot;: &quot;fa-rotate-0&quot;, &quot;icon&quot;: &quot;info-sign&quot;, &quot;iconColor&quot;: &quot;red&quot;, &quot;markerColor&quot;: &quot;white&quot;, &quot;prefix&quot;: &quot;glyphicon&quot;}\n            );\n            marker_f9f1bb36803fe9ffcd17ce16c2859cf0.setIcon(icon_585acea688a90ca83188dbbba1b18fdf);\n        \n    \n            var marker_73110571374b5cc35fa0f4b09444adbe = L.marker(\n                [34.63283416, -120.6107455],\n                {}\n            ).addTo(marker_cluster_85a24f8fea8d3ef1b25f0c584001e125);\n        \n    \n            var icon_d9e356a3e0b7d3114858d76f9b62833f = L.AwesomeMarkers.icon(\n                {&quot;extraClasses&quot;: &quot;fa-rotate-0&quot;, &quot;icon&quot;: &quot;info-sign&quot;, &quot;iconColor&quot;: &quot;red&quot;, &quot;markerColor&quot;: &quot;white&quot;, &quot;prefix&quot;: &quot;glyphicon&quot;}\n            );\n            marker_73110571374b5cc35fa0f4b09444adbe.setIcon(icon_d9e356a3e0b7d3114858d76f9b62833f);\n        \n    \n            var marker_4eb4317c25ee22cc19d6e4e7cdeedea9 = L.marker(\n                [34.63283416, -120.6107455],\n                {}\n            ).addTo(marker_cluster_85a24f8fea8d3ef1b25f0c584001e125);\n        \n    \n            var icon_11101727f67baf104f88246b977e9425 = L.AwesomeMarkers.icon(\n                {&quot;extraClasses&quot;: &quot;fa-rotate-0&quot;, &quot;icon&quot;: &quot;info-sign&quot;, &quot;iconColor&quot;: &quot;green&quot;, &quot;markerColor&quot;: &quot;white&quot;, &quot;prefix&quot;: &quot;glyphicon&quot;}\n            );\n            marker_4eb4317c25ee22cc19d6e4e7cdeedea9.setIcon(icon_11101727f67baf104f88246b977e9425);\n        \n    \n            var marker_8234a32896fe87ff972e4e37158c2d6b = L.marker(\n                [34.63283416, -120.6107455],\n                {}\n            ).addTo(marker_cluster_85a24f8fea8d3ef1b25f0c584001e125);\n        \n    \n            var icon_ceb6def7232bd21dc1b2c307ab949192 = L.AwesomeMarkers.icon(\n                {&quot;extraClasses&quot;: &quot;fa-rotate-0&quot;, &quot;icon&quot;: &quot;info-sign&quot;, &quot;iconColor&quot;: &quot;green&quot;, &quot;markerColor&quot;: &quot;white&quot;, &quot;prefix&quot;: &quot;glyphicon&quot;}\n            );\n            marker_8234a32896fe87ff972e4e37158c2d6b.setIcon(icon_ceb6def7232bd21dc1b2c307ab949192);\n        \n    \n            var marker_8e3e8b939d2e770d12041be80536d42b = L.marker(\n                [34.63283416, -120.6107455],\n                {}\n            ).addTo(marker_cluster_85a24f8fea8d3ef1b25f0c584001e125);\n        \n    \n            var icon_9f93ef12966cbb03f4b06e21b29e8233 = L.AwesomeMarkers.icon(\n                {&quot;extraClasses&quot;: &quot;fa-rotate-0&quot;, &quot;icon&quot;: &quot;info-sign&quot;, &quot;iconColor&quot;: &quot;green&quot;, &quot;markerColor&quot;: &quot;white&quot;, &quot;prefix&quot;: &quot;glyphicon&quot;}\n            );\n            marker_8e3e8b939d2e770d12041be80536d42b.setIcon(icon_9f93ef12966cbb03f4b06e21b29e8233);\n        \n    \n            var marker_789075b92b90e197add231ec6e4b20d4 = L.marker(\n                [34.63283416, -120.6107455],\n                {}\n            ).addTo(marker_cluster_85a24f8fea8d3ef1b25f0c584001e125);\n        \n    \n            var icon_540e4037f8dd739669a80f71482147f4 = L.AwesomeMarkers.icon(\n                {&quot;extraClasses&quot;: &quot;fa-rotate-0&quot;, &quot;icon&quot;: &quot;info-sign&quot;, &quot;iconColor&quot;: &quot;green&quot;, &quot;markerColor&quot;: &quot;white&quot;, &quot;prefix&quot;: &quot;glyphicon&quot;}\n            );\n            marker_789075b92b90e197add231ec6e4b20d4.setIcon(icon_540e4037f8dd739669a80f71482147f4);\n        \n    \n            var marker_36a77131442f3aa903e108d1fe1430f4 = L.marker(\n                [34.63283416, -120.6107455],\n                {}\n            ).addTo(marker_cluster_85a24f8fea8d3ef1b25f0c584001e125);\n        \n    \n            var icon_c2b5a2e76f59ae309baa1a4b099f5251 = L.AwesomeMarkers.icon(\n                {&quot;extraClasses&quot;: &quot;fa-rotate-0&quot;, &quot;icon&quot;: &quot;info-sign&quot;, &quot;iconColor&quot;: &quot;red&quot;, &quot;markerColor&quot;: &quot;white&quot;, &quot;prefix&quot;: &quot;glyphicon&quot;}\n            );\n            marker_36a77131442f3aa903e108d1fe1430f4.setIcon(icon_c2b5a2e76f59ae309baa1a4b099f5251);\n        \n    \n            var marker_ec75815e8c980a3fc88618da85bd504d = L.marker(\n                [34.63283416, -120.6107455],\n                {}\n            ).addTo(marker_cluster_85a24f8fea8d3ef1b25f0c584001e125);\n        \n    \n            var icon_c6b03cf298f67fb98bcab97d89dfe36e = L.AwesomeMarkers.icon(\n                {&quot;extraClasses&quot;: &quot;fa-rotate-0&quot;, &quot;icon&quot;: &quot;info-sign&quot;, &quot;iconColor&quot;: &quot;red&quot;, &quot;markerColor&quot;: &quot;white&quot;, &quot;prefix&quot;: &quot;glyphicon&quot;}\n            );\n            marker_ec75815e8c980a3fc88618da85bd504d.setIcon(icon_c6b03cf298f67fb98bcab97d89dfe36e);\n        \n    \n            var marker_af3d271d7f3bc695a4685ace66150dcc = L.marker(\n                [34.63283416, -120.6107455],\n                {}\n            ).addTo(marker_cluster_85a24f8fea8d3ef1b25f0c584001e125);\n        \n    \n            var icon_5e109e3116c66275f8fa19fcd0406171 = L.AwesomeMarkers.icon(\n                {&quot;extraClasses&quot;: &quot;fa-rotate-0&quot;, &quot;icon&quot;: &quot;info-sign&quot;, &quot;iconColor&quot;: &quot;red&quot;, &quot;markerColor&quot;: &quot;white&quot;, &quot;prefix&quot;: &quot;glyphicon&quot;}\n            );\n            marker_af3d271d7f3bc695a4685ace66150dcc.setIcon(icon_5e109e3116c66275f8fa19fcd0406171);\n        \n    \n            var marker_1abe695fb1096022b491b6a49dfe4414 = L.marker(\n                [34.63283416, -120.6107455],\n                {}\n            ).addTo(marker_cluster_85a24f8fea8d3ef1b25f0c584001e125);\n        \n    \n            var icon_fc853cceec92e6098893cd2c17521c2b = L.AwesomeMarkers.icon(\n                {&quot;extraClasses&quot;: &quot;fa-rotate-0&quot;, &quot;icon&quot;: &quot;info-sign&quot;, &quot;iconColor&quot;: &quot;red&quot;, &quot;markerColor&quot;: &quot;white&quot;, &quot;prefix&quot;: &quot;glyphicon&quot;}\n            );\n            marker_1abe695fb1096022b491b6a49dfe4414.setIcon(icon_fc853cceec92e6098893cd2c17521c2b);\n        \n    \n            var marker_8bbb92da3c454e07068d1f831874be71 = L.marker(\n                [28.57325457, -80.64689529],\n                {}\n            ).addTo(marker_cluster_85a24f8fea8d3ef1b25f0c584001e125);\n        \n    \n            var icon_2b381e0e37963206560a8e0c31a41eac = L.AwesomeMarkers.icon(\n                {&quot;extraClasses&quot;: &quot;fa-rotate-0&quot;, &quot;icon&quot;: &quot;info-sign&quot;, &quot;iconColor&quot;: &quot;green&quot;, &quot;markerColor&quot;: &quot;white&quot;, &quot;prefix&quot;: &quot;glyphicon&quot;}\n            );\n            marker_8bbb92da3c454e07068d1f831874be71.setIcon(icon_2b381e0e37963206560a8e0c31a41eac);\n        \n    \n            var marker_c339adaf6aec5f3b75b1ed8bd78c8ae9 = L.marker(\n                [28.57325457, -80.64689529],\n                {}\n            ).addTo(marker_cluster_85a24f8fea8d3ef1b25f0c584001e125);\n        \n    \n            var icon_bfab26ff3139ebcd79436bb4aad66a80 = L.AwesomeMarkers.icon(\n                {&quot;extraClasses&quot;: &quot;fa-rotate-0&quot;, &quot;icon&quot;: &quot;info-sign&quot;, &quot;iconColor&quot;: &quot;red&quot;, &quot;markerColor&quot;: &quot;white&quot;, &quot;prefix&quot;: &quot;glyphicon&quot;}\n            );\n            marker_c339adaf6aec5f3b75b1ed8bd78c8ae9.setIcon(icon_bfab26ff3139ebcd79436bb4aad66a80);\n        \n    \n            var marker_ccd390e5537e8aba69857c006f236af6 = L.marker(\n                [28.57325457, -80.64689529],\n                {}\n            ).addTo(marker_cluster_85a24f8fea8d3ef1b25f0c584001e125);\n        \n    \n            var icon_d7f1ee8b4d69589d8bcc1ac6ecd90da1 = L.AwesomeMarkers.icon(\n                {&quot;extraClasses&quot;: &quot;fa-rotate-0&quot;, &quot;icon&quot;: &quot;info-sign&quot;, &quot;iconColor&quot;: &quot;green&quot;, &quot;markerColor&quot;: &quot;white&quot;, &quot;prefix&quot;: &quot;glyphicon&quot;}\n            );\n            marker_ccd390e5537e8aba69857c006f236af6.setIcon(icon_d7f1ee8b4d69589d8bcc1ac6ecd90da1);\n        \n    \n            var marker_f1f79aff9666d0f16da8e46962f6b5cd = L.marker(\n                [28.57325457, -80.64689529],\n                {}\n            ).addTo(marker_cluster_85a24f8fea8d3ef1b25f0c584001e125);\n        \n    \n            var icon_2b95d7bd515693e97727eaab96bb79c4 = L.AwesomeMarkers.icon(\n                {&quot;extraClasses&quot;: &quot;fa-rotate-0&quot;, &quot;icon&quot;: &quot;info-sign&quot;, &quot;iconColor&quot;: &quot;green&quot;, &quot;markerColor&quot;: &quot;white&quot;, &quot;prefix&quot;: &quot;glyphicon&quot;}\n            );\n            marker_f1f79aff9666d0f16da8e46962f6b5cd.setIcon(icon_2b95d7bd515693e97727eaab96bb79c4);\n        \n    \n            var marker_ffa2ea714e0477f007bda794271d7041 = L.marker(\n                [28.57325457, -80.64689529],\n                {}\n            ).addTo(marker_cluster_85a24f8fea8d3ef1b25f0c584001e125);\n        \n    \n            var icon_d8e75942887eaac84f06ccc60aea2519 = L.AwesomeMarkers.icon(\n                {&quot;extraClasses&quot;: &quot;fa-rotate-0&quot;, &quot;icon&quot;: &quot;info-sign&quot;, &quot;iconColor&quot;: &quot;red&quot;, &quot;markerColor&quot;: &quot;white&quot;, &quot;prefix&quot;: &quot;glyphicon&quot;}\n            );\n            marker_ffa2ea714e0477f007bda794271d7041.setIcon(icon_d8e75942887eaac84f06ccc60aea2519);\n        \n    \n            var marker_202451ac7746931a5bbd093dd1324c43 = L.marker(\n                [28.57325457, -80.64689529],\n                {}\n            ).addTo(marker_cluster_85a24f8fea8d3ef1b25f0c584001e125);\n        \n    \n            var icon_6d7ad29e11ca3694246f133e6aea5da0 = L.AwesomeMarkers.icon(\n                {&quot;extraClasses&quot;: &quot;fa-rotate-0&quot;, &quot;icon&quot;: &quot;info-sign&quot;, &quot;iconColor&quot;: &quot;green&quot;, &quot;markerColor&quot;: &quot;white&quot;, &quot;prefix&quot;: &quot;glyphicon&quot;}\n            );\n            marker_202451ac7746931a5bbd093dd1324c43.setIcon(icon_6d7ad29e11ca3694246f133e6aea5da0);\n        \n    \n            var marker_b97678b7eda3af7266780e44e5b71409 = L.marker(\n                [28.57325457, -80.64689529],\n                {}\n            ).addTo(marker_cluster_85a24f8fea8d3ef1b25f0c584001e125);\n        \n    \n            var icon_cf3357eabe009583a0c46644dfe538dd = L.AwesomeMarkers.icon(\n                {&quot;extraClasses&quot;: &quot;fa-rotate-0&quot;, &quot;icon&quot;: &quot;info-sign&quot;, &quot;iconColor&quot;: &quot;green&quot;, &quot;markerColor&quot;: &quot;white&quot;, &quot;prefix&quot;: &quot;glyphicon&quot;}\n            );\n            marker_b97678b7eda3af7266780e44e5b71409.setIcon(icon_cf3357eabe009583a0c46644dfe538dd);\n        \n    \n            var marker_51eb6ff02e5ca409584bd6f471c3c047 = L.marker(\n                [28.57325457, -80.64689529],\n                {}\n            ).addTo(marker_cluster_85a24f8fea8d3ef1b25f0c584001e125);\n        \n    \n            var icon_731a521300ebfc2242eda8bfac9dd89f = L.AwesomeMarkers.icon(\n                {&quot;extraClasses&quot;: &quot;fa-rotate-0&quot;, &quot;icon&quot;: &quot;info-sign&quot;, &quot;iconColor&quot;: &quot;red&quot;, &quot;markerColor&quot;: &quot;white&quot;, &quot;prefix&quot;: &quot;glyphicon&quot;}\n            );\n            marker_51eb6ff02e5ca409584bd6f471c3c047.setIcon(icon_731a521300ebfc2242eda8bfac9dd89f);\n        \n    \n            var marker_3bb0c3ee0e0bba5ab95a76e5cc4dcfd2 = L.marker(\n                [28.57325457, -80.64689529],\n                {}\n            ).addTo(marker_cluster_85a24f8fea8d3ef1b25f0c584001e125);\n        \n    \n            var icon_62b5908debe3354c9f7d3462d655605a = L.AwesomeMarkers.icon(\n                {&quot;extraClasses&quot;: &quot;fa-rotate-0&quot;, &quot;icon&quot;: &quot;info-sign&quot;, &quot;iconColor&quot;: &quot;green&quot;, &quot;markerColor&quot;: &quot;white&quot;, &quot;prefix&quot;: &quot;glyphicon&quot;}\n            );\n            marker_3bb0c3ee0e0bba5ab95a76e5cc4dcfd2.setIcon(icon_62b5908debe3354c9f7d3462d655605a);\n        \n    \n            var marker_701df387081a432078b3d5670894b139 = L.marker(\n                [28.57325457, -80.64689529],\n                {}\n            ).addTo(marker_cluster_85a24f8fea8d3ef1b25f0c584001e125);\n        \n    \n            var icon_77a6dcf35d5eace04186522d88131c3c = L.AwesomeMarkers.icon(\n                {&quot;extraClasses&quot;: &quot;fa-rotate-0&quot;, &quot;icon&quot;: &quot;info-sign&quot;, &quot;iconColor&quot;: &quot;green&quot;, &quot;markerColor&quot;: &quot;white&quot;, &quot;prefix&quot;: &quot;glyphicon&quot;}\n            );\n            marker_701df387081a432078b3d5670894b139.setIcon(icon_77a6dcf35d5eace04186522d88131c3c);\n        \n    \n            var marker_d4ecf98624a739f9305b2695a6aecd7f = L.marker(\n                [28.57325457, -80.64689529],\n                {}\n            ).addTo(marker_cluster_85a24f8fea8d3ef1b25f0c584001e125);\n        \n    \n            var icon_2ca6f2e452885bdfa81c6de8ed3cdc30 = L.AwesomeMarkers.icon(\n                {&quot;extraClasses&quot;: &quot;fa-rotate-0&quot;, &quot;icon&quot;: &quot;info-sign&quot;, &quot;iconColor&quot;: &quot;green&quot;, &quot;markerColor&quot;: &quot;white&quot;, &quot;prefix&quot;: &quot;glyphicon&quot;}\n            );\n            marker_d4ecf98624a739f9305b2695a6aecd7f.setIcon(icon_2ca6f2e452885bdfa81c6de8ed3cdc30);\n        \n    \n            var marker_cab562e029c551ae8c8d8f3a2c716a5e = L.marker(\n                [28.57325457, -80.64689529],\n                {}\n            ).addTo(marker_cluster_85a24f8fea8d3ef1b25f0c584001e125);\n        \n    \n            var icon_378f5c67f7157c4eb8cc79090bee0333 = L.AwesomeMarkers.icon(\n                {&quot;extraClasses&quot;: &quot;fa-rotate-0&quot;, &quot;icon&quot;: &quot;info-sign&quot;, &quot;iconColor&quot;: &quot;green&quot;, &quot;markerColor&quot;: &quot;white&quot;, &quot;prefix&quot;: &quot;glyphicon&quot;}\n            );\n            marker_cab562e029c551ae8c8d8f3a2c716a5e.setIcon(icon_378f5c67f7157c4eb8cc79090bee0333);\n        \n    \n            var marker_a081946265c9d79d765d5f70a5471272 = L.marker(\n                [28.57325457, -80.64689529],\n                {}\n            ).addTo(marker_cluster_85a24f8fea8d3ef1b25f0c584001e125);\n        \n    \n            var icon_badae3cdbc07f33d4ddc71596bab9f03 = L.AwesomeMarkers.icon(\n                {&quot;extraClasses&quot;: &quot;fa-rotate-0&quot;, &quot;icon&quot;: &quot;info-sign&quot;, &quot;iconColor&quot;: &quot;green&quot;, &quot;markerColor&quot;: &quot;white&quot;, &quot;prefix&quot;: &quot;glyphicon&quot;}\n            );\n            marker_a081946265c9d79d765d5f70a5471272.setIcon(icon_badae3cdbc07f33d4ddc71596bab9f03);\n        \n    \n            var marker_68f96955c1a940b90a3148ccbbf52405 = L.marker(\n                [28.56319718, -80.57682003],\n                {}\n            ).addTo(marker_cluster_85a24f8fea8d3ef1b25f0c584001e125);\n        \n    \n            var icon_78b21b5bec8ad94e13a3f9a40805d4f4 = L.AwesomeMarkers.icon(\n                {&quot;extraClasses&quot;: &quot;fa-rotate-0&quot;, &quot;icon&quot;: &quot;info-sign&quot;, &quot;iconColor&quot;: &quot;green&quot;, &quot;markerColor&quot;: &quot;white&quot;, &quot;prefix&quot;: &quot;glyphicon&quot;}\n            );\n            marker_68f96955c1a940b90a3148ccbbf52405.setIcon(icon_78b21b5bec8ad94e13a3f9a40805d4f4);\n        \n    \n            var marker_ce715b9fe34ca3cb51da564d0b40e15c = L.marker(\n                [28.56319718, -80.57682003],\n                {}\n            ).addTo(marker_cluster_85a24f8fea8d3ef1b25f0c584001e125);\n        \n    \n            var icon_2834cb36b552f956deb6560cc94e6488 = L.AwesomeMarkers.icon(\n                {&quot;extraClasses&quot;: &quot;fa-rotate-0&quot;, &quot;icon&quot;: &quot;info-sign&quot;, &quot;iconColor&quot;: &quot;green&quot;, &quot;markerColor&quot;: &quot;white&quot;, &quot;prefix&quot;: &quot;glyphicon&quot;}\n            );\n            marker_ce715b9fe34ca3cb51da564d0b40e15c.setIcon(icon_2834cb36b552f956deb6560cc94e6488);\n        \n    \n            var marker_3b86d99eed4926c0125fd89b0bce6fd0 = L.marker(\n                [28.56319718, -80.57682003],\n                {}\n            ).addTo(marker_cluster_85a24f8fea8d3ef1b25f0c584001e125);\n        \n    \n            var icon_cbe336f741383b562a102a646daacfb9 = L.AwesomeMarkers.icon(\n                {&quot;extraClasses&quot;: &quot;fa-rotate-0&quot;, &quot;icon&quot;: &quot;info-sign&quot;, &quot;iconColor&quot;: &quot;red&quot;, &quot;markerColor&quot;: &quot;white&quot;, &quot;prefix&quot;: &quot;glyphicon&quot;}\n            );\n            marker_3b86d99eed4926c0125fd89b0bce6fd0.setIcon(icon_cbe336f741383b562a102a646daacfb9);\n        \n    \n            var marker_9e33370b62e372505de3db4cbc4b9e7e = L.marker(\n                [28.56319718, -80.57682003],\n                {}\n            ).addTo(marker_cluster_85a24f8fea8d3ef1b25f0c584001e125);\n        \n    \n            var icon_c4e760ffa8c221a8a8eb930629e0a270 = L.AwesomeMarkers.icon(\n                {&quot;extraClasses&quot;: &quot;fa-rotate-0&quot;, &quot;icon&quot;: &quot;info-sign&quot;, &quot;iconColor&quot;: &quot;red&quot;, &quot;markerColor&quot;: &quot;white&quot;, &quot;prefix&quot;: &quot;glyphicon&quot;}\n            );\n            marker_9e33370b62e372505de3db4cbc4b9e7e.setIcon(icon_c4e760ffa8c221a8a8eb930629e0a270);\n        \n    \n            var marker_5b341bfd1295636ac6ff4214682d8020 = L.marker(\n                [28.56319718, -80.57682003],\n                {}\n            ).addTo(marker_cluster_85a24f8fea8d3ef1b25f0c584001e125);\n        \n    \n            var icon_782e494d644ed4e02086aab2838c4167 = L.AwesomeMarkers.icon(\n                {&quot;extraClasses&quot;: &quot;fa-rotate-0&quot;, &quot;icon&quot;: &quot;info-sign&quot;, &quot;iconColor&quot;: &quot;red&quot;, &quot;markerColor&quot;: &quot;white&quot;, &quot;prefix&quot;: &quot;glyphicon&quot;}\n            );\n            marker_5b341bfd1295636ac6ff4214682d8020.setIcon(icon_782e494d644ed4e02086aab2838c4167);\n        \n    \n            var marker_004236b2937b30a15f827c3637bb4467 = L.marker(\n                [28.56319718, -80.57682003],\n                {}\n            ).addTo(marker_cluster_85a24f8fea8d3ef1b25f0c584001e125);\n        \n    \n            var icon_2cf66db86826c4a4fd78e76963df0b2b = L.AwesomeMarkers.icon(\n                {&quot;extraClasses&quot;: &quot;fa-rotate-0&quot;, &quot;icon&quot;: &quot;info-sign&quot;, &quot;iconColor&quot;: &quot;green&quot;, &quot;markerColor&quot;: &quot;white&quot;, &quot;prefix&quot;: &quot;glyphicon&quot;}\n            );\n            marker_004236b2937b30a15f827c3637bb4467.setIcon(icon_2cf66db86826c4a4fd78e76963df0b2b);\n        \n    \n            var marker_a88b5073a9ec2f952b3c6cc01f1ab29f = L.marker(\n                [28.56319718, -80.57682003],\n                {}\n            ).addTo(marker_cluster_85a24f8fea8d3ef1b25f0c584001e125);\n        \n    \n            var icon_5afebb706e4d6cfa97964fcbe4b31b10 = L.AwesomeMarkers.icon(\n                {&quot;extraClasses&quot;: &quot;fa-rotate-0&quot;, &quot;icon&quot;: &quot;info-sign&quot;, &quot;iconColor&quot;: &quot;red&quot;, &quot;markerColor&quot;: &quot;white&quot;, &quot;prefix&quot;: &quot;glyphicon&quot;}\n            );\n            marker_a88b5073a9ec2f952b3c6cc01f1ab29f.setIcon(icon_5afebb706e4d6cfa97964fcbe4b31b10);\n        \n    \n            marker_cluster_85a24f8fea8d3ef1b25f0c584001e125.addTo(map_c0087b65c33f1221bdd42313d9ace51c);\n        \n    \n            tile_layer_cb6e856c8545591cbc08323381b35301.addTo(map_c0087b65c33f1221bdd42313d9ace51c);\n        \n    \n            marker_cluster_85a24f8fea8d3ef1b25f0c584001e125.addTo(map_c0087b65c33f1221bdd42313d9ace51c);\n        \n    \n            var mouse_position_556ea2a536bd80dd9bb914174e1e6dba = new L.Control.MousePosition(\n                {&quot;emptyString&quot;: &quot;NaN&quot;, &quot;lngFirst&quot;: false, &quot;numDigits&quot;: 20, &quot;position&quot;: &quot;topright&quot;, &quot;prefix&quot;: &quot;Lat:&quot;, &quot;separator&quot;: &quot; Long: &quot;}\n            );\n            mouse_position_556ea2a536bd80dd9bb914174e1e6dba.options[&quot;latFormatter&quot;] =\n                function(num) {return L.Util.formatNum(num, 5);};;\n            mouse_position_556ea2a536bd80dd9bb914174e1e6dba.options[&quot;lngFormatter&quot;] =\n                function(num) {return L.Util.formatNum(num, 5);};;\n            map_c0087b65c33f1221bdd42313d9ace51c.addControl(mouse_position_556ea2a536bd80dd9bb914174e1e6dba);\n        \n    \n            tile_layer_cb6e856c8545591cbc08323381b35301.addTo(map_c0087b65c33f1221bdd42313d9ace51c);\n        \n    \n            marker_cluster_85a24f8fea8d3ef1b25f0c584001e125.addTo(map_c0087b65c33f1221bdd42313d9ace51c);\n        \n    \n            var poly_line_111646f132dbf9ac0837f876c5814ab1 = L.polyline(\n                [[28.56367, -80.57163], [28.563197, -80.57682]],\n                {&quot;bubblingMouseEvents&quot;: true, &quot;color&quot;: &quot;#3388ff&quot;, &quot;dashArray&quot;: null, &quot;dashOffset&quot;: null, &quot;fill&quot;: false, &quot;fillColor&quot;: &quot;#3388ff&quot;, &quot;fillOpacity&quot;: 0.2, &quot;fillRule&quot;: &quot;evenodd&quot;, &quot;lineCap&quot;: &quot;round&quot;, &quot;lineJoin&quot;: &quot;round&quot;, &quot;noClip&quot;: false, &quot;opacity&quot;: 1.0, &quot;smoothFactor&quot;: 1.0, &quot;stroke&quot;: true, &quot;weight&quot;: 1}\n            ).addTo(map_c0087b65c33f1221bdd42313d9ace51c);\n        \n&lt;/script&gt;\n&lt;/html&gt;\" style=\"position:absolute;width:100%;height:100%;left:0;top:0;border:none !important;\" allowfullscreen webkitallowfullscreen mozallowfullscreen></iframe></div></div>"
     },
     "metadata": {}
    }
   ],
   "execution_count": 29
  },
  {
   "cell_type": "markdown",
   "source": [
    "Your updated map with distance line should look like the following screenshot:\n"
   ],
   "metadata": {
    "pycharm": {
     "name": "#%% md\n"
    }
   }
  },
  {
   "cell_type": "markdown",
   "source": [
    "<center>\n",
    "    <img src=\"https://cf-courses-data.s3.us.cloud-object-storage.appdomain.cloud/IBM-DS0321EN-SkillsNetwork/labs/module_3/images/launch_site_marker_distance.png\">\n",
    "</center>\n"
   ],
   "metadata": {
    "pycharm": {
     "name": "#%% md\n"
    }
   }
  },
  {
   "cell_type": "markdown",
   "source": [
    "*TODO:* Similarly, you can draw a line betwee a launch site to its closest city, railway, highway, etc. You need to use `MousePosition` to find the their coordinates on the map first\n"
   ],
   "metadata": {
    "pycharm": {
     "name": "#%% md\n"
    }
   }
  },
  {
   "cell_type": "markdown",
   "source": [
    "A railway map symbol may look like this:\n"
   ],
   "metadata": {
    "pycharm": {
     "name": "#%% md\n"
    }
   }
  },
  {
   "cell_type": "markdown",
   "source": [
    "<center>\n",
    "    <img src=\"https://cf-courses-data.s3.us.cloud-object-storage.appdomain.cloud/IBM-DS0321EN-SkillsNetwork/labs/module_3/images/railway.png\">\n",
    "</center>\n"
   ],
   "metadata": {
    "pycharm": {
     "name": "#%% md\n"
    }
   }
  },
  {
   "cell_type": "markdown",
   "source": [
    "A highway map symbol may look like this:\n"
   ],
   "metadata": {
    "pycharm": {
     "name": "#%% md\n"
    }
   }
  },
  {
   "cell_type": "markdown",
   "source": [
    "<center>\n",
    "    <img src=\"https://cf-courses-data.s3.us.cloud-object-storage.appdomain.cloud/IBM-DS0321EN-SkillsNetwork/labs/module_3/images/highway.png\">\n",
    "</center>\n"
   ],
   "metadata": {
    "pycharm": {
     "name": "#%% md\n"
    }
   }
  },
  {
   "cell_type": "markdown",
   "source": [
    "A city map symbol may look like this:\n"
   ],
   "metadata": {
    "pycharm": {
     "name": "#%% md\n"
    }
   }
  },
  {
   "cell_type": "markdown",
   "source": [
    "<center>\n",
    "    <img src=\"https://cf-courses-data.s3.us.cloud-object-storage.appdomain.cloud/IBM-DS0321EN-SkillsNetwork/labs/module_3/images/city.png\">\n",
    "</center>\n"
   ],
   "metadata": {
    "pycharm": {
     "name": "#%% md\n"
    }
   }
  },
  {
   "cell_type": "code",
   "source": [
    "# Create a marker with distance to a closest city, railway, highway, etc.\n",
    "# Draw a line between the marker to the launch site\n"
   ],
   "metadata": {
    "pycharm": {
     "name": "#%%\n"
    }
   },
   "outputs": [],
   "execution_count": null
  },
  {
   "cell_type": "code",
   "source": [],
   "metadata": {
    "pycharm": {
     "name": "#%%\n"
    }
   },
   "outputs": [],
   "execution_count": null
  },
  {
   "cell_type": "code",
   "source": [],
   "metadata": {
    "pycharm": {
     "name": "#%%\n"
    }
   },
   "outputs": [],
   "execution_count": null
  },
  {
   "cell_type": "markdown",
   "source": [
    "After you plot distance lines to the proximities, you can answer the following questions easily:\n",
    "\n",
    "*   Are launch sites in close proximity to railways?\n",
    "*   Are launch sites in close proximity to highways?\n",
    "*   Are launch sites in close proximity to coastline?\n",
    "*   Do launch sites keep certain distance away from cities?\n",
    "\n",
    "Also please try to explain your findings.\n"
   ],
   "metadata": {
    "pycharm": {
     "name": "#%% md\n"
    }
   }
  },
  {
   "cell_type": "markdown",
   "source": [
    "# Next Steps:\n",
    "\n",
    "Now you have discovered many interesting insights related to the launch sites' location using folium, in a very interactive way. Next, you will need to build a dashboard using Ploty Dash on detailed launch records.\n"
   ],
   "metadata": {
    "pycharm": {
     "name": "#%% md\n"
    }
   }
  },
  {
   "cell_type": "markdown",
   "source": [
    "## Authors\n"
   ],
   "metadata": {
    "pycharm": {
     "name": "#%% md\n"
    }
   }
  },
  {
   "cell_type": "markdown",
   "source": [
    "[Pratiksha Verma](https://www.linkedin.com/in/pratiksha-verma-6487561b1/?utm_medium=Exinfluencer&utm_source=Exinfluencer&utm_content=000026UJ&utm_term=10006555&utm_id=NA-SkillsNetwork-Channel-SkillsNetworkCoursesIBMDS0321ENSkillsNetwork865-2022-01-01)\n"
   ],
   "metadata": {
    "pycharm": {
     "name": "#%% md\n"
    }
   }
  },
  {
   "cell_type": "markdown",
   "source": [
    "## Change Log\n"
   ],
   "metadata": {
    "pycharm": {
     "name": "#%% md\n"
    }
   }
  },
  {
   "cell_type": "markdown",
   "source": [
    "| Date (YYYY-MM-DD) | Version | Changed By      | Change Description      |\n",
    "| ----------------- | ------- | -------------   | ----------------------- |\n",
    "| 2022-11-09        | 1.0     | Pratiksha Verma | Converted initial version to Jupyterlite|\n"
   ],
   "metadata": {
    "pycharm": {
     "name": "#%% md\n"
    }
   }
  },
  {
   "cell_type": "markdown",
   "source": [
    "### <h3 align=\"center\"> IBM Corporation 2022. All rights reserved. <h3/>\n"
   ],
   "metadata": {
    "pycharm": {
     "name": "#%% md\n"
    }
   }
  }
 ]
}